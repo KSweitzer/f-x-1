{
 "cells": [
  {
   "cell_type": "code",
   "execution_count": 3,
   "id": "initial_id",
   "metadata": {
    "collapsed": true,
    "ExecuteTime": {
     "end_time": "2024-09-12T19:25:41.842022600Z",
     "start_time": "2024-09-12T19:25:41.834022500Z"
    }
   },
   "outputs": [],
   "source": [
    "import fastf1 as f1 # f1 data library\n",
    "import pandas as pd\n",
    "import numpy as np"
   ]
  },
  {
   "cell_type": "code",
   "outputs": [
    {
     "name": "stderr",
     "output_type": "stream",
     "text": [
      "req         WARNING \tDEFAULT CACHE ENABLED! (349.69 MB) C:\\Users\\kevin.sweitzer\\AppData\\Local\\Temp\\fastf1\n"
     ]
    },
    {
     "data": {
      "text/plain": "    RoundNumber         Country           Location  \\\n0             0         Bahrain             Sakhir   \n1             1         Bahrain             Sakhir   \n2             2    Saudi Arabia             Jeddah   \n3             3       Australia          Melbourne   \n4             4           Japan             Suzuka   \n5             5           China           Shanghai   \n6             6   United States              Miami   \n7             7           Italy              Imola   \n8             8          Monaco             Monaco   \n9             9          Canada           Montréal   \n10           10           Spain          Barcelona   \n11           11         Austria          Spielberg   \n12           12  United Kingdom        Silverstone   \n13           13         Hungary           Budapest   \n14           14         Belgium  Spa-Francorchamps   \n15           15     Netherlands          Zandvoort   \n16           16           Italy              Monza   \n\n                                    OfficialEventName  EventDate  \\\n0            FORMULA 1 ARAMCO PRE-SEASON TESTING 2024 2024-02-23   \n1          FORMULA 1 GULF AIR BAHRAIN GRAND PRIX 2024 2024-03-02   \n2         FORMULA 1 STC SAUDI ARABIAN GRAND PRIX 2024 2024-03-09   \n3          FORMULA 1 ROLEX AUSTRALIAN GRAND PRIX 2024 2024-03-24   \n4      FORMULA 1 MSC CRUISES JAPANESE GRAND PRIX 2024 2024-04-07   \n5            FORMULA 1 LENOVO CHINESE GRAND PRIX 2024 2024-04-21   \n6          FORMULA 1 CRYPTO.COM MIAMI GRAND PRIX 2024 2024-05-05   \n7   FORMULA 1 MSC CRUISES GRAN PREMIO DEL MADE IN ... 2024-05-19   \n8                 FORMULA 1 GRAND PRIX DE MONACO 2024 2024-05-26   \n9             FORMULA 1 AWS GRAND PRIX DU CANADA 2024 2024-06-09   \n10        FORMULA 1 ARAMCO GRAN PREMIO DE ESPAÑA 2024 2024-06-23   \n11   FORMULA 1 QATAR AIRWAYS AUSTRIAN GRAND PRIX 2024 2024-06-30   \n12    FORMULA 1 QATAR AIRWAYS BRITISH GRAND PRIX 2024 2024-07-07   \n13                FORMULA 1 HUNGARIAN GRAND PRIX 2024 2024-07-21   \n14            FORMULA 1 ROLEX BELGIAN GRAND PRIX 2024 2024-07-28   \n15           FORMULA 1 HEINEKEN DUTCH GRAND PRIX 2024 2024-08-25   \n16        FORMULA 1 PIRELLI GRAN PREMIO D’ITALIA 2024 2024-09-01   \n\n                    EventName        EventFormat    Session1  \\\n0          Pre-Season Testing            testing  Practice 1   \n1          Bahrain Grand Prix       conventional  Practice 1   \n2    Saudi Arabian Grand Prix       conventional  Practice 1   \n3       Australian Grand Prix       conventional  Practice 1   \n4         Japanese Grand Prix       conventional  Practice 1   \n5          Chinese Grand Prix  sprint_qualifying  Practice 1   \n6            Miami Grand Prix  sprint_qualifying  Practice 1   \n7   Emilia Romagna Grand Prix       conventional  Practice 1   \n8           Monaco Grand Prix       conventional  Practice 1   \n9         Canadian Grand Prix       conventional  Practice 1   \n10         Spanish Grand Prix       conventional  Practice 1   \n11        Austrian Grand Prix  sprint_qualifying  Practice 1   \n12         British Grand Prix       conventional  Practice 1   \n13       Hungarian Grand Prix       conventional  Practice 1   \n14         Belgian Grand Prix       conventional  Practice 1   \n15           Dutch Grand Prix       conventional  Practice 1   \n16         Italian Grand Prix       conventional  Practice 1   \n\n                 Session1Date     Session1DateUtc  ...    Session3  \\\n0   2024-02-21 10:00:00+03:00 2024-02-21 07:00:00  ...  Practice 3   \n1   2024-02-29 14:30:00+03:00 2024-02-29 11:30:00  ...  Practice 3   \n2   2024-03-07 16:30:00+03:00 2024-03-07 13:30:00  ...  Practice 3   \n3   2024-03-22 12:30:00+11:00 2024-03-22 01:30:00  ...  Practice 3   \n4   2024-04-05 11:30:00+09:00 2024-04-05 02:30:00  ...  Practice 3   \n5   2024-04-19 11:30:00+08:00 2024-04-19 03:30:00  ...      Sprint   \n6   2024-05-03 12:30:00-04:00 2024-05-03 16:30:00  ...      Sprint   \n7   2024-05-17 13:30:00+02:00 2024-05-17 11:30:00  ...  Practice 3   \n8   2024-05-24 13:30:00+02:00 2024-05-24 11:30:00  ...  Practice 3   \n9   2024-06-07 13:30:00-04:00 2024-06-07 17:30:00  ...  Practice 3   \n10  2024-06-21 13:30:00+02:00 2024-06-21 11:30:00  ...  Practice 3   \n11  2024-06-28 12:30:00+02:00 2024-06-28 10:30:00  ...      Sprint   \n12  2024-07-05 12:30:00+01:00 2024-07-05 11:30:00  ...  Practice 3   \n13  2024-07-19 13:30:00+02:00 2024-07-19 11:30:00  ...  Practice 3   \n14  2024-07-26 13:30:00+02:00 2024-07-26 11:30:00  ...  Practice 3   \n15  2024-08-23 12:30:00+02:00 2024-08-23 10:30:00  ...  Practice 3   \n16  2024-08-30 13:30:00+02:00 2024-08-30 11:30:00  ...  Practice 3   \n\n                 Session3Date     Session3DateUtc    Session4  \\\n0   2024-02-23 10:00:00+03:00 2024-02-23 07:00:00        None   \n1   2024-03-01 15:30:00+03:00 2024-03-01 12:30:00  Qualifying   \n2   2024-03-08 16:30:00+03:00 2024-03-08 13:30:00  Qualifying   \n3   2024-03-23 12:30:00+11:00 2024-03-23 01:30:00  Qualifying   \n4   2024-04-06 11:30:00+09:00 2024-04-06 02:30:00  Qualifying   \n5   2024-04-20 11:00:00+08:00 2024-04-20 03:00:00  Qualifying   \n6   2024-05-04 12:00:00-04:00 2024-05-04 16:00:00  Qualifying   \n7   2024-05-18 12:30:00+02:00 2024-05-18 10:30:00  Qualifying   \n8   2024-05-25 12:30:00+02:00 2024-05-25 10:30:00  Qualifying   \n9   2024-06-08 12:30:00-04:00 2024-06-08 16:30:00  Qualifying   \n10  2024-06-22 12:30:00+02:00 2024-06-22 10:30:00  Qualifying   \n11  2024-06-29 12:00:00+02:00 2024-06-29 10:00:00  Qualifying   \n12  2024-07-06 11:30:00+01:00 2024-07-06 10:30:00  Qualifying   \n13  2024-07-20 12:30:00+02:00 2024-07-20 10:30:00  Qualifying   \n14  2024-07-27 12:30:00+02:00 2024-07-27 10:30:00  Qualifying   \n15  2024-08-24 11:30:00+02:00 2024-08-24 09:30:00  Qualifying   \n16  2024-08-31 12:30:00+02:00 2024-08-31 10:30:00  Qualifying   \n\n                 Session4Date     Session4DateUtc Session5  \\\n0                         NaT                 NaT     None   \n1   2024-03-01 19:00:00+03:00 2024-03-01 16:00:00     Race   \n2   2024-03-08 20:00:00+03:00 2024-03-08 17:00:00     Race   \n3   2024-03-23 16:00:00+11:00 2024-03-23 05:00:00     Race   \n4   2024-04-06 15:00:00+09:00 2024-04-06 06:00:00     Race   \n5   2024-04-20 15:00:00+08:00 2024-04-20 07:00:00     Race   \n6   2024-05-04 16:00:00-04:00 2024-05-04 20:00:00     Race   \n7   2024-05-18 16:00:00+02:00 2024-05-18 14:00:00     Race   \n8   2024-05-25 16:00:00+02:00 2024-05-25 14:00:00     Race   \n9   2024-06-08 16:00:00-04:00 2024-06-08 20:00:00     Race   \n10  2024-06-22 16:00:00+02:00 2024-06-22 14:00:00     Race   \n11  2024-06-29 16:00:00+02:00 2024-06-29 14:00:00     Race   \n12  2024-07-06 15:00:00+01:00 2024-07-06 14:00:00     Race   \n13  2024-07-20 16:00:00+02:00 2024-07-20 14:00:00     Race   \n14  2024-07-27 16:00:00+02:00 2024-07-27 14:00:00     Race   \n15  2024-08-24 15:00:00+02:00 2024-08-24 13:00:00     Race   \n16  2024-08-31 16:00:00+02:00 2024-08-31 14:00:00     Race   \n\n                 Session5Date     Session5DateUtc F1ApiSupport  \n0                         NaT                 NaT         True  \n1   2024-03-02 18:00:00+03:00 2024-03-02 15:00:00         True  \n2   2024-03-09 20:00:00+03:00 2024-03-09 17:00:00         True  \n3   2024-03-24 15:00:00+11:00 2024-03-24 04:00:00         True  \n4   2024-04-07 14:00:00+09:00 2024-04-07 05:00:00         True  \n5   2024-04-21 15:00:00+08:00 2024-04-21 07:00:00         True  \n6   2024-05-05 16:00:00-04:00 2024-05-05 20:00:00         True  \n7   2024-05-19 15:00:00+02:00 2024-05-19 13:00:00         True  \n8   2024-05-26 15:00:00+02:00 2024-05-26 13:00:00         True  \n9   2024-06-09 14:00:00-04:00 2024-06-09 18:00:00         True  \n10  2024-06-23 15:00:00+02:00 2024-06-23 13:00:00         True  \n11  2024-06-30 15:00:00+02:00 2024-06-30 13:00:00         True  \n12  2024-07-07 15:00:00+01:00 2024-07-07 14:00:00         True  \n13  2024-07-21 15:00:00+02:00 2024-07-21 13:00:00         True  \n14  2024-07-28 15:00:00+02:00 2024-07-28 13:00:00         True  \n15  2024-08-25 15:00:00+02:00 2024-08-25 13:00:00         True  \n16  2024-09-01 15:00:00+02:00 2024-09-01 13:00:00         True  \n\n[17 rows x 23 columns]",
      "text/html": "<div>\n<style scoped>\n    .dataframe tbody tr th:only-of-type {\n        vertical-align: middle;\n    }\n\n    .dataframe tbody tr th {\n        vertical-align: top;\n    }\n\n    .dataframe thead th {\n        text-align: right;\n    }\n</style>\n<table border=\"1\" class=\"dataframe\">\n  <thead>\n    <tr style=\"text-align: right;\">\n      <th></th>\n      <th>RoundNumber</th>\n      <th>Country</th>\n      <th>Location</th>\n      <th>OfficialEventName</th>\n      <th>EventDate</th>\n      <th>EventName</th>\n      <th>EventFormat</th>\n      <th>Session1</th>\n      <th>Session1Date</th>\n      <th>Session1DateUtc</th>\n      <th>...</th>\n      <th>Session3</th>\n      <th>Session3Date</th>\n      <th>Session3DateUtc</th>\n      <th>Session4</th>\n      <th>Session4Date</th>\n      <th>Session4DateUtc</th>\n      <th>Session5</th>\n      <th>Session5Date</th>\n      <th>Session5DateUtc</th>\n      <th>F1ApiSupport</th>\n    </tr>\n  </thead>\n  <tbody>\n    <tr>\n      <th>0</th>\n      <td>0</td>\n      <td>Bahrain</td>\n      <td>Sakhir</td>\n      <td>FORMULA 1 ARAMCO PRE-SEASON TESTING 2024</td>\n      <td>2024-02-23</td>\n      <td>Pre-Season Testing</td>\n      <td>testing</td>\n      <td>Practice 1</td>\n      <td>2024-02-21 10:00:00+03:00</td>\n      <td>2024-02-21 07:00:00</td>\n      <td>...</td>\n      <td>Practice 3</td>\n      <td>2024-02-23 10:00:00+03:00</td>\n      <td>2024-02-23 07:00:00</td>\n      <td>None</td>\n      <td>NaT</td>\n      <td>NaT</td>\n      <td>None</td>\n      <td>NaT</td>\n      <td>NaT</td>\n      <td>True</td>\n    </tr>\n    <tr>\n      <th>1</th>\n      <td>1</td>\n      <td>Bahrain</td>\n      <td>Sakhir</td>\n      <td>FORMULA 1 GULF AIR BAHRAIN GRAND PRIX 2024</td>\n      <td>2024-03-02</td>\n      <td>Bahrain Grand Prix</td>\n      <td>conventional</td>\n      <td>Practice 1</td>\n      <td>2024-02-29 14:30:00+03:00</td>\n      <td>2024-02-29 11:30:00</td>\n      <td>...</td>\n      <td>Practice 3</td>\n      <td>2024-03-01 15:30:00+03:00</td>\n      <td>2024-03-01 12:30:00</td>\n      <td>Qualifying</td>\n      <td>2024-03-01 19:00:00+03:00</td>\n      <td>2024-03-01 16:00:00</td>\n      <td>Race</td>\n      <td>2024-03-02 18:00:00+03:00</td>\n      <td>2024-03-02 15:00:00</td>\n      <td>True</td>\n    </tr>\n    <tr>\n      <th>2</th>\n      <td>2</td>\n      <td>Saudi Arabia</td>\n      <td>Jeddah</td>\n      <td>FORMULA 1 STC SAUDI ARABIAN GRAND PRIX 2024</td>\n      <td>2024-03-09</td>\n      <td>Saudi Arabian Grand Prix</td>\n      <td>conventional</td>\n      <td>Practice 1</td>\n      <td>2024-03-07 16:30:00+03:00</td>\n      <td>2024-03-07 13:30:00</td>\n      <td>...</td>\n      <td>Practice 3</td>\n      <td>2024-03-08 16:30:00+03:00</td>\n      <td>2024-03-08 13:30:00</td>\n      <td>Qualifying</td>\n      <td>2024-03-08 20:00:00+03:00</td>\n      <td>2024-03-08 17:00:00</td>\n      <td>Race</td>\n      <td>2024-03-09 20:00:00+03:00</td>\n      <td>2024-03-09 17:00:00</td>\n      <td>True</td>\n    </tr>\n    <tr>\n      <th>3</th>\n      <td>3</td>\n      <td>Australia</td>\n      <td>Melbourne</td>\n      <td>FORMULA 1 ROLEX AUSTRALIAN GRAND PRIX 2024</td>\n      <td>2024-03-24</td>\n      <td>Australian Grand Prix</td>\n      <td>conventional</td>\n      <td>Practice 1</td>\n      <td>2024-03-22 12:30:00+11:00</td>\n      <td>2024-03-22 01:30:00</td>\n      <td>...</td>\n      <td>Practice 3</td>\n      <td>2024-03-23 12:30:00+11:00</td>\n      <td>2024-03-23 01:30:00</td>\n      <td>Qualifying</td>\n      <td>2024-03-23 16:00:00+11:00</td>\n      <td>2024-03-23 05:00:00</td>\n      <td>Race</td>\n      <td>2024-03-24 15:00:00+11:00</td>\n      <td>2024-03-24 04:00:00</td>\n      <td>True</td>\n    </tr>\n    <tr>\n      <th>4</th>\n      <td>4</td>\n      <td>Japan</td>\n      <td>Suzuka</td>\n      <td>FORMULA 1 MSC CRUISES JAPANESE GRAND PRIX 2024</td>\n      <td>2024-04-07</td>\n      <td>Japanese Grand Prix</td>\n      <td>conventional</td>\n      <td>Practice 1</td>\n      <td>2024-04-05 11:30:00+09:00</td>\n      <td>2024-04-05 02:30:00</td>\n      <td>...</td>\n      <td>Practice 3</td>\n      <td>2024-04-06 11:30:00+09:00</td>\n      <td>2024-04-06 02:30:00</td>\n      <td>Qualifying</td>\n      <td>2024-04-06 15:00:00+09:00</td>\n      <td>2024-04-06 06:00:00</td>\n      <td>Race</td>\n      <td>2024-04-07 14:00:00+09:00</td>\n      <td>2024-04-07 05:00:00</td>\n      <td>True</td>\n    </tr>\n    <tr>\n      <th>5</th>\n      <td>5</td>\n      <td>China</td>\n      <td>Shanghai</td>\n      <td>FORMULA 1 LENOVO CHINESE GRAND PRIX 2024</td>\n      <td>2024-04-21</td>\n      <td>Chinese Grand Prix</td>\n      <td>sprint_qualifying</td>\n      <td>Practice 1</td>\n      <td>2024-04-19 11:30:00+08:00</td>\n      <td>2024-04-19 03:30:00</td>\n      <td>...</td>\n      <td>Sprint</td>\n      <td>2024-04-20 11:00:00+08:00</td>\n      <td>2024-04-20 03:00:00</td>\n      <td>Qualifying</td>\n      <td>2024-04-20 15:00:00+08:00</td>\n      <td>2024-04-20 07:00:00</td>\n      <td>Race</td>\n      <td>2024-04-21 15:00:00+08:00</td>\n      <td>2024-04-21 07:00:00</td>\n      <td>True</td>\n    </tr>\n    <tr>\n      <th>6</th>\n      <td>6</td>\n      <td>United States</td>\n      <td>Miami</td>\n      <td>FORMULA 1 CRYPTO.COM MIAMI GRAND PRIX 2024</td>\n      <td>2024-05-05</td>\n      <td>Miami Grand Prix</td>\n      <td>sprint_qualifying</td>\n      <td>Practice 1</td>\n      <td>2024-05-03 12:30:00-04:00</td>\n      <td>2024-05-03 16:30:00</td>\n      <td>...</td>\n      <td>Sprint</td>\n      <td>2024-05-04 12:00:00-04:00</td>\n      <td>2024-05-04 16:00:00</td>\n      <td>Qualifying</td>\n      <td>2024-05-04 16:00:00-04:00</td>\n      <td>2024-05-04 20:00:00</td>\n      <td>Race</td>\n      <td>2024-05-05 16:00:00-04:00</td>\n      <td>2024-05-05 20:00:00</td>\n      <td>True</td>\n    </tr>\n    <tr>\n      <th>7</th>\n      <td>7</td>\n      <td>Italy</td>\n      <td>Imola</td>\n      <td>FORMULA 1 MSC CRUISES GRAN PREMIO DEL MADE IN ...</td>\n      <td>2024-05-19</td>\n      <td>Emilia Romagna Grand Prix</td>\n      <td>conventional</td>\n      <td>Practice 1</td>\n      <td>2024-05-17 13:30:00+02:00</td>\n      <td>2024-05-17 11:30:00</td>\n      <td>...</td>\n      <td>Practice 3</td>\n      <td>2024-05-18 12:30:00+02:00</td>\n      <td>2024-05-18 10:30:00</td>\n      <td>Qualifying</td>\n      <td>2024-05-18 16:00:00+02:00</td>\n      <td>2024-05-18 14:00:00</td>\n      <td>Race</td>\n      <td>2024-05-19 15:00:00+02:00</td>\n      <td>2024-05-19 13:00:00</td>\n      <td>True</td>\n    </tr>\n    <tr>\n      <th>8</th>\n      <td>8</td>\n      <td>Monaco</td>\n      <td>Monaco</td>\n      <td>FORMULA 1 GRAND PRIX DE MONACO 2024</td>\n      <td>2024-05-26</td>\n      <td>Monaco Grand Prix</td>\n      <td>conventional</td>\n      <td>Practice 1</td>\n      <td>2024-05-24 13:30:00+02:00</td>\n      <td>2024-05-24 11:30:00</td>\n      <td>...</td>\n      <td>Practice 3</td>\n      <td>2024-05-25 12:30:00+02:00</td>\n      <td>2024-05-25 10:30:00</td>\n      <td>Qualifying</td>\n      <td>2024-05-25 16:00:00+02:00</td>\n      <td>2024-05-25 14:00:00</td>\n      <td>Race</td>\n      <td>2024-05-26 15:00:00+02:00</td>\n      <td>2024-05-26 13:00:00</td>\n      <td>True</td>\n    </tr>\n    <tr>\n      <th>9</th>\n      <td>9</td>\n      <td>Canada</td>\n      <td>Montréal</td>\n      <td>FORMULA 1 AWS GRAND PRIX DU CANADA 2024</td>\n      <td>2024-06-09</td>\n      <td>Canadian Grand Prix</td>\n      <td>conventional</td>\n      <td>Practice 1</td>\n      <td>2024-06-07 13:30:00-04:00</td>\n      <td>2024-06-07 17:30:00</td>\n      <td>...</td>\n      <td>Practice 3</td>\n      <td>2024-06-08 12:30:00-04:00</td>\n      <td>2024-06-08 16:30:00</td>\n      <td>Qualifying</td>\n      <td>2024-06-08 16:00:00-04:00</td>\n      <td>2024-06-08 20:00:00</td>\n      <td>Race</td>\n      <td>2024-06-09 14:00:00-04:00</td>\n      <td>2024-06-09 18:00:00</td>\n      <td>True</td>\n    </tr>\n    <tr>\n      <th>10</th>\n      <td>10</td>\n      <td>Spain</td>\n      <td>Barcelona</td>\n      <td>FORMULA 1 ARAMCO GRAN PREMIO DE ESPAÑA 2024</td>\n      <td>2024-06-23</td>\n      <td>Spanish Grand Prix</td>\n      <td>conventional</td>\n      <td>Practice 1</td>\n      <td>2024-06-21 13:30:00+02:00</td>\n      <td>2024-06-21 11:30:00</td>\n      <td>...</td>\n      <td>Practice 3</td>\n      <td>2024-06-22 12:30:00+02:00</td>\n      <td>2024-06-22 10:30:00</td>\n      <td>Qualifying</td>\n      <td>2024-06-22 16:00:00+02:00</td>\n      <td>2024-06-22 14:00:00</td>\n      <td>Race</td>\n      <td>2024-06-23 15:00:00+02:00</td>\n      <td>2024-06-23 13:00:00</td>\n      <td>True</td>\n    </tr>\n    <tr>\n      <th>11</th>\n      <td>11</td>\n      <td>Austria</td>\n      <td>Spielberg</td>\n      <td>FORMULA 1 QATAR AIRWAYS AUSTRIAN GRAND PRIX 2024</td>\n      <td>2024-06-30</td>\n      <td>Austrian Grand Prix</td>\n      <td>sprint_qualifying</td>\n      <td>Practice 1</td>\n      <td>2024-06-28 12:30:00+02:00</td>\n      <td>2024-06-28 10:30:00</td>\n      <td>...</td>\n      <td>Sprint</td>\n      <td>2024-06-29 12:00:00+02:00</td>\n      <td>2024-06-29 10:00:00</td>\n      <td>Qualifying</td>\n      <td>2024-06-29 16:00:00+02:00</td>\n      <td>2024-06-29 14:00:00</td>\n      <td>Race</td>\n      <td>2024-06-30 15:00:00+02:00</td>\n      <td>2024-06-30 13:00:00</td>\n      <td>True</td>\n    </tr>\n    <tr>\n      <th>12</th>\n      <td>12</td>\n      <td>United Kingdom</td>\n      <td>Silverstone</td>\n      <td>FORMULA 1 QATAR AIRWAYS BRITISH GRAND PRIX 2024</td>\n      <td>2024-07-07</td>\n      <td>British Grand Prix</td>\n      <td>conventional</td>\n      <td>Practice 1</td>\n      <td>2024-07-05 12:30:00+01:00</td>\n      <td>2024-07-05 11:30:00</td>\n      <td>...</td>\n      <td>Practice 3</td>\n      <td>2024-07-06 11:30:00+01:00</td>\n      <td>2024-07-06 10:30:00</td>\n      <td>Qualifying</td>\n      <td>2024-07-06 15:00:00+01:00</td>\n      <td>2024-07-06 14:00:00</td>\n      <td>Race</td>\n      <td>2024-07-07 15:00:00+01:00</td>\n      <td>2024-07-07 14:00:00</td>\n      <td>True</td>\n    </tr>\n    <tr>\n      <th>13</th>\n      <td>13</td>\n      <td>Hungary</td>\n      <td>Budapest</td>\n      <td>FORMULA 1 HUNGARIAN GRAND PRIX 2024</td>\n      <td>2024-07-21</td>\n      <td>Hungarian Grand Prix</td>\n      <td>conventional</td>\n      <td>Practice 1</td>\n      <td>2024-07-19 13:30:00+02:00</td>\n      <td>2024-07-19 11:30:00</td>\n      <td>...</td>\n      <td>Practice 3</td>\n      <td>2024-07-20 12:30:00+02:00</td>\n      <td>2024-07-20 10:30:00</td>\n      <td>Qualifying</td>\n      <td>2024-07-20 16:00:00+02:00</td>\n      <td>2024-07-20 14:00:00</td>\n      <td>Race</td>\n      <td>2024-07-21 15:00:00+02:00</td>\n      <td>2024-07-21 13:00:00</td>\n      <td>True</td>\n    </tr>\n    <tr>\n      <th>14</th>\n      <td>14</td>\n      <td>Belgium</td>\n      <td>Spa-Francorchamps</td>\n      <td>FORMULA 1 ROLEX BELGIAN GRAND PRIX 2024</td>\n      <td>2024-07-28</td>\n      <td>Belgian Grand Prix</td>\n      <td>conventional</td>\n      <td>Practice 1</td>\n      <td>2024-07-26 13:30:00+02:00</td>\n      <td>2024-07-26 11:30:00</td>\n      <td>...</td>\n      <td>Practice 3</td>\n      <td>2024-07-27 12:30:00+02:00</td>\n      <td>2024-07-27 10:30:00</td>\n      <td>Qualifying</td>\n      <td>2024-07-27 16:00:00+02:00</td>\n      <td>2024-07-27 14:00:00</td>\n      <td>Race</td>\n      <td>2024-07-28 15:00:00+02:00</td>\n      <td>2024-07-28 13:00:00</td>\n      <td>True</td>\n    </tr>\n    <tr>\n      <th>15</th>\n      <td>15</td>\n      <td>Netherlands</td>\n      <td>Zandvoort</td>\n      <td>FORMULA 1 HEINEKEN DUTCH GRAND PRIX 2024</td>\n      <td>2024-08-25</td>\n      <td>Dutch Grand Prix</td>\n      <td>conventional</td>\n      <td>Practice 1</td>\n      <td>2024-08-23 12:30:00+02:00</td>\n      <td>2024-08-23 10:30:00</td>\n      <td>...</td>\n      <td>Practice 3</td>\n      <td>2024-08-24 11:30:00+02:00</td>\n      <td>2024-08-24 09:30:00</td>\n      <td>Qualifying</td>\n      <td>2024-08-24 15:00:00+02:00</td>\n      <td>2024-08-24 13:00:00</td>\n      <td>Race</td>\n      <td>2024-08-25 15:00:00+02:00</td>\n      <td>2024-08-25 13:00:00</td>\n      <td>True</td>\n    </tr>\n    <tr>\n      <th>16</th>\n      <td>16</td>\n      <td>Italy</td>\n      <td>Monza</td>\n      <td>FORMULA 1 PIRELLI GRAN PREMIO D’ITALIA 2024</td>\n      <td>2024-09-01</td>\n      <td>Italian Grand Prix</td>\n      <td>conventional</td>\n      <td>Practice 1</td>\n      <td>2024-08-30 13:30:00+02:00</td>\n      <td>2024-08-30 11:30:00</td>\n      <td>...</td>\n      <td>Practice 3</td>\n      <td>2024-08-31 12:30:00+02:00</td>\n      <td>2024-08-31 10:30:00</td>\n      <td>Qualifying</td>\n      <td>2024-08-31 16:00:00+02:00</td>\n      <td>2024-08-31 14:00:00</td>\n      <td>Race</td>\n      <td>2024-09-01 15:00:00+02:00</td>\n      <td>2024-09-01 13:00:00</td>\n      <td>True</td>\n    </tr>\n  </tbody>\n</table>\n<p>17 rows × 23 columns</p>\n</div>"
     },
     "execution_count": 4,
     "metadata": {},
     "output_type": "execute_result"
    }
   ],
   "source": [
    "event_schedule = f1.get_event_schedule(2024)\n",
    "\n",
    "event_schedule[event_schedule.Session1DateUtc < pd.Timestamp.today()]"
   ],
   "metadata": {
    "collapsed": false,
    "ExecuteTime": {
     "end_time": "2024-09-12T19:25:46.823732900Z",
     "start_time": "2024-09-12T19:25:45.878159400Z"
    }
   },
   "id": "c548990668a1fa37",
   "execution_count": 4
  },
  {
   "cell_type": "code",
   "outputs": [
    {
     "name": "stderr",
     "output_type": "stream",
     "text": [
      "core           INFO \tLoading data for Italian Grand Prix - Practice 1 [v3.3.5]\n",
      "req            INFO \tUsing cached data for session_info\n",
      "req            INFO \tUsing cached data for driver_info\n",
      "req            INFO \tUsing cached data for session_status_data\n",
      "req            INFO \tUsing cached data for track_status_data\n",
      "req            INFO \tUsing cached data for _extended_timing_data\n",
      "req            INFO \tUsing cached data for timing_app_data\n",
      "core           INFO \tProcessing timing data...\n",
      "core        WARNING \tNo lap data for driver 63\n",
      "core        WARNING \tFailed to perform lap accuracy check - all laps marked as inaccurate (driver 63)\n",
      "core           INFO \tFinished loading data for 21 drivers: ['1', '10', '11', '12', '14', '16', '18', '20', '22', '23', '24', '27', '3', '31', '4', '43', '44', '55', '63', '77', '81']\n",
      "core           INFO \tLoading data for Italian Grand Prix - Practice 2 [v3.3.5]\n",
      "req            INFO \tUsing cached data for session_info\n",
      "req            INFO \tUsing cached data for driver_info\n",
      "req            INFO \tUsing cached data for session_status_data\n",
      "req            INFO \tUsing cached data for track_status_data\n",
      "req            INFO \tUsing cached data for _extended_timing_data\n",
      "req            INFO \tUsing cached data for timing_app_data\n",
      "core           INFO \tProcessing timing data...\n"
     ]
    },
    {
     "name": "stdout",
     "output_type": "stream",
     "text": [
      "FP1 finished loading\n"
     ]
    },
    {
     "name": "stderr",
     "output_type": "stream",
     "text": [
      "core           INFO \tFinished loading data for 20 drivers: ['1', '10', '11', '14', '16', '18', '20', '22', '23', '24', '27', '3', '31', '4', '43', '44', '55', '63', '77', '81']\n",
      "core           INFO \tLoading data for Italian Grand Prix - Practice 3 [v3.3.5]\n",
      "req            INFO \tUsing cached data for session_info\n",
      "req            INFO \tUsing cached data for driver_info\n",
      "req            INFO \tUsing cached data for session_status_data\n",
      "req            INFO \tUsing cached data for track_status_data\n",
      "req            INFO \tUsing cached data for _extended_timing_data\n",
      "req            INFO \tUsing cached data for timing_app_data\n",
      "core           INFO \tProcessing timing data...\n"
     ]
    },
    {
     "name": "stdout",
     "output_type": "stream",
     "text": [
      "FP2 finished loading\n"
     ]
    },
    {
     "name": "stderr",
     "output_type": "stream",
     "text": [
      "core           INFO \tFinished loading data for 20 drivers: ['1', '10', '11', '14', '16', '18', '20', '22', '23', '24', '27', '3', '31', '4', '43', '44', '55', '63', '77', '81']\n"
     ]
    },
    {
     "name": "stdout",
     "output_type": "stream",
     "text": [
      "FP3 finished loading\n"
     ]
    }
   ],
   "source": [
    "practice_sessions = {\"FP1\": f1.get_session(2024, 16, 'FP1'), \"FP2\":f1.get_session(2024, 16, 'FP2'), \"FP3\":f1.get_session(2024, 16, 'FP3')}\n",
    "\n",
    "for session in practice_sessions:\n",
    "    practice_sessions[session].load(telemetry=False, weather=False, messages=False)\n",
    "    print(f\"{session} finished loading\")"
   ],
   "metadata": {
    "collapsed": false,
    "ExecuteTime": {
     "end_time": "2024-09-12T19:25:58.676711800Z",
     "start_time": "2024-09-12T19:25:54.143129400Z"
    }
   },
   "id": "f861d2a5ce33f9df",
   "execution_count": 5
  },
  {
   "cell_type": "code",
   "outputs": [],
   "source": [
    "# Creating a class to hold stint info. my last version of this notebook had issues with handling the full practice session data frame directly.\n",
    "\n",
    "class Stint:\n",
    "    def __init__(self, session_name, laps):\n",
    "        self.laps_df = laps\n",
    "        self.session_name = session_name\n",
    "        self.driver = self.laps_df['Driver'].unique()[0]\n",
    "        self.stint = self.laps_df['Stint'].unique()[0]\n",
    "        self.fresh_tire = self.laps_df[\"FreshTyre\"].unique()[0]\n",
    "        self.tire = self.laps_df[\"Compound\"].unique()[0]\n",
    "        self.num_laps = self.laps_df.shape[0]\n",
    "        self.fastest_lap = self.laps_df['LapTime'].min()\n",
    "        self.avg_lap_time = np.mean(self.laps_df['LapTime'])\n",
    "        self.quick_laps_df = self.laps_df.pick_quicklaps()"
   ],
   "metadata": {
    "collapsed": false,
    "ExecuteTime": {
     "end_time": "2024-09-12T19:44:21.155788700Z",
     "start_time": "2024-09-12T19:44:21.153788400Z"
    }
   },
   "id": "8c714c40f5279bda",
   "execution_count": 31
  },
  {
   "cell_type": "code",
   "outputs": [
    {
     "name": "stdout",
     "output_type": "stream",
     "text": [
      "Analyzing FP1\n",
      "Analyzing FP2\n",
      "Analyzing FP3\n"
     ]
    },
    {
     "data": {
      "text/plain": "    Session Driver  Stint  FreshTyre    Tire  Number of Laps  \\\n5       FP3    VER    4.0       True    SOFT               1   \n27      FP3    VER    2.0      False  MEDIUM               1   \n52      FP3    VER    1.0       True  MEDIUM               1   \n61      FP1    VER    4.0       True    SOFT               1   \n103     FP1    VER    3.0      False    SOFT               1   \n107     FP1    VER    2.0      False    SOFT               1   \n126     FP3    VER    3.0      False  MEDIUM               9   \n140     FP2    VER    3.0      False  MEDIUM              13   \n151     FP2    VER    2.0       True    SOFT               1   \n183     FP1    VER    5.0      False    SOFT               3   \n213     FP3    VER    5.0      False    SOFT               2   \n238     FP2    VER    1.0       True  MEDIUM               3   \n240     FP1    VER    1.0       True    SOFT               3   \n\n               Fastest Lap               Avg LapTime  \n5   0 days 00:01:20.368000    0 days 00:01:20.368000  \n27  0 days 00:01:20.950000    0 days 00:01:20.950000  \n52  0 days 00:01:21.560000    0 days 00:01:21.560000  \n61  0 days 00:01:21.676000    0 days 00:01:21.676000  \n103 0 days 00:01:22.936000    0 days 00:01:22.936000  \n107 0 days 00:01:23.088000    0 days 00:01:23.088000  \n126 0 days 00:01:24.686000 0 days 00:01:26.056111111  \n140 0 days 00:01:24.765000 0 days 00:01:29.180846153  \n151 0 days 00:01:31.983000    0 days 00:01:31.983000  \n183 0 days 00:01:22.116000 0 days 00:01:40.150333333  \n213 0 days 00:01:20.419000    0 days 00:01:45.424500  \n238 0 days 00:01:21.610000 0 days 00:01:54.958333333  \n240 0 days 00:01:24.693000 0 days 00:01:55.183666666  ",
      "text/html": "<div>\n<style scoped>\n    .dataframe tbody tr th:only-of-type {\n        vertical-align: middle;\n    }\n\n    .dataframe tbody tr th {\n        vertical-align: top;\n    }\n\n    .dataframe thead th {\n        text-align: right;\n    }\n</style>\n<table border=\"1\" class=\"dataframe\">\n  <thead>\n    <tr style=\"text-align: right;\">\n      <th></th>\n      <th>Session</th>\n      <th>Driver</th>\n      <th>Stint</th>\n      <th>FreshTyre</th>\n      <th>Tire</th>\n      <th>Number of Laps</th>\n      <th>Fastest Lap</th>\n      <th>Avg LapTime</th>\n    </tr>\n  </thead>\n  <tbody>\n    <tr>\n      <th>5</th>\n      <td>FP3</td>\n      <td>VER</td>\n      <td>4.0</td>\n      <td>True</td>\n      <td>SOFT</td>\n      <td>1</td>\n      <td>0 days 00:01:20.368000</td>\n      <td>0 days 00:01:20.368000</td>\n    </tr>\n    <tr>\n      <th>27</th>\n      <td>FP3</td>\n      <td>VER</td>\n      <td>2.0</td>\n      <td>False</td>\n      <td>MEDIUM</td>\n      <td>1</td>\n      <td>0 days 00:01:20.950000</td>\n      <td>0 days 00:01:20.950000</td>\n    </tr>\n    <tr>\n      <th>52</th>\n      <td>FP3</td>\n      <td>VER</td>\n      <td>1.0</td>\n      <td>True</td>\n      <td>MEDIUM</td>\n      <td>1</td>\n      <td>0 days 00:01:21.560000</td>\n      <td>0 days 00:01:21.560000</td>\n    </tr>\n    <tr>\n      <th>61</th>\n      <td>FP1</td>\n      <td>VER</td>\n      <td>4.0</td>\n      <td>True</td>\n      <td>SOFT</td>\n      <td>1</td>\n      <td>0 days 00:01:21.676000</td>\n      <td>0 days 00:01:21.676000</td>\n    </tr>\n    <tr>\n      <th>103</th>\n      <td>FP1</td>\n      <td>VER</td>\n      <td>3.0</td>\n      <td>False</td>\n      <td>SOFT</td>\n      <td>1</td>\n      <td>0 days 00:01:22.936000</td>\n      <td>0 days 00:01:22.936000</td>\n    </tr>\n    <tr>\n      <th>107</th>\n      <td>FP1</td>\n      <td>VER</td>\n      <td>2.0</td>\n      <td>False</td>\n      <td>SOFT</td>\n      <td>1</td>\n      <td>0 days 00:01:23.088000</td>\n      <td>0 days 00:01:23.088000</td>\n    </tr>\n    <tr>\n      <th>126</th>\n      <td>FP3</td>\n      <td>VER</td>\n      <td>3.0</td>\n      <td>False</td>\n      <td>MEDIUM</td>\n      <td>9</td>\n      <td>0 days 00:01:24.686000</td>\n      <td>0 days 00:01:26.056111111</td>\n    </tr>\n    <tr>\n      <th>140</th>\n      <td>FP2</td>\n      <td>VER</td>\n      <td>3.0</td>\n      <td>False</td>\n      <td>MEDIUM</td>\n      <td>13</td>\n      <td>0 days 00:01:24.765000</td>\n      <td>0 days 00:01:29.180846153</td>\n    </tr>\n    <tr>\n      <th>151</th>\n      <td>FP2</td>\n      <td>VER</td>\n      <td>2.0</td>\n      <td>True</td>\n      <td>SOFT</td>\n      <td>1</td>\n      <td>0 days 00:01:31.983000</td>\n      <td>0 days 00:01:31.983000</td>\n    </tr>\n    <tr>\n      <th>183</th>\n      <td>FP1</td>\n      <td>VER</td>\n      <td>5.0</td>\n      <td>False</td>\n      <td>SOFT</td>\n      <td>3</td>\n      <td>0 days 00:01:22.116000</td>\n      <td>0 days 00:01:40.150333333</td>\n    </tr>\n    <tr>\n      <th>213</th>\n      <td>FP3</td>\n      <td>VER</td>\n      <td>5.0</td>\n      <td>False</td>\n      <td>SOFT</td>\n      <td>2</td>\n      <td>0 days 00:01:20.419000</td>\n      <td>0 days 00:01:45.424500</td>\n    </tr>\n    <tr>\n      <th>238</th>\n      <td>FP2</td>\n      <td>VER</td>\n      <td>1.0</td>\n      <td>True</td>\n      <td>MEDIUM</td>\n      <td>3</td>\n      <td>0 days 00:01:21.610000</td>\n      <td>0 days 00:01:54.958333333</td>\n    </tr>\n    <tr>\n      <th>240</th>\n      <td>FP1</td>\n      <td>VER</td>\n      <td>1.0</td>\n      <td>True</td>\n      <td>SOFT</td>\n      <td>3</td>\n      <td>0 days 00:01:24.693000</td>\n      <td>0 days 00:01:55.183666666</td>\n    </tr>\n  </tbody>\n</table>\n</div>"
     },
     "execution_count": 51,
     "metadata": {},
     "output_type": "execute_result"
    }
   ],
   "source": [
    "# from last notebook added the creation of Stint objects to not have to deal with dataframes as much\n",
    "# and to partially prove im not crazy\n",
    "\n",
    "def sort_func(e):\n",
    "    return e[-1]\n",
    "\n",
    "# I want to find the fastest stints\n",
    "stints = []\n",
    "stints_obj_dict_by_driver = {}\n",
    "for session_name in practice_sessions:\n",
    "    print(f\"Analyzing {session_name}\")\n",
    "    session_laps = practice_sessions[session_name].laps.dropna(subset=['LapTime'])\n",
    "    drivers = session_laps.Driver.unique()\n",
    "    for driver in drivers:\n",
    "        driver_session_laps = session_laps.pick_driver(driver).pick_wo_box()\n",
    "        driver_stints = driver_session_laps.Stint.unique()\n",
    "        for stint in driver_stints:\n",
    "            driver_stint_laps = driver_session_laps[driver_session_laps['Stint'] == stint]\n",
    "            fastest_stint_lap = driver_stint_laps['LapTime'].min()\n",
    "            if not pd.isnull(np.mean(driver_stint_laps['LapTime'])):\n",
    "                if driver in stints_obj_dict_by_driver:\n",
    "                    stints_obj_dict_by_driver[driver].append(Stint(session_name, driver_stint_laps))\n",
    "                else:\n",
    "                    stints_obj_dict_by_driver[driver] = [Stint(session_name, driver_stint_laps)]\n",
    "                stint_data = [session_name, driver, stint, driver_stint_laps[\"FreshTyre\"].unique()[0], driver_stint_laps[\"Compound\"].unique()[0], len(driver_stint_laps), fastest_stint_lap, np.mean(driver_stint_laps['LapTime'])]\n",
    "                stints.append(stint_data)\n",
    "                \n",
    "stints.sort(key=sort_func)\n",
    "df = pd.DataFrame(stints, columns=['Session', 'Driver', 'Stint', 'FreshTyre', 'Tire', 'Number of Laps', 'Fastest Lap', 'Avg LapTime'])\n",
    "\n",
    "display_df = df[df[\"Driver\"] == \"VER\"]\n",
    "\n",
    "display_df"
   ],
   "metadata": {
    "collapsed": false,
    "ExecuteTime": {
     "end_time": "2024-09-12T19:58:06.584479200Z",
     "start_time": "2024-09-12T19:58:04.449406Z"
    }
   },
   "id": "7da74a282dfbfa00",
   "execution_count": 51
  },
  {
   "cell_type": "code",
   "outputs": [
    {
     "name": "stderr",
     "output_type": "stream",
     "text": [
      "E:\\temp\\fx1\\fx1\\.venv\\Lib\\site-packages\\numpy\\core\\fromnumeric.py:3504: RuntimeWarning: Mean of empty slice.\n",
      "  return _methods._mean(a, axis=axis, dtype=dtype,\n",
      "E:\\temp\\fx1\\fx1\\.venv\\Lib\\site-packages\\numpy\\core\\_methods.py:129: RuntimeWarning: invalid value encountered in scalar divide\n",
      "  ret = ret.dtype.type(ret / rcount)\n"
     ]
    },
    {
     "data": {
      "text/plain": "   Driver  Number of Laps            Fastest Lap               Avg LapTime\n0     GAS              18 0 days 00:01:21.562000 0 days 00:01:24.120833333\n1     OCO               7 0 days 00:01:23.127000 0 days 00:01:24.305285714\n2     SAI              18 0 days 00:01:20.467000    0 days 00:01:24.498500\n3     TSU              17 0 days 00:01:21.246000 0 days 00:01:24.652823529\n4     PER              21 0 days 00:01:22.260000    0 days 00:01:24.715000\n5     STR              19 0 days 00:01:21.157000 0 days 00:01:24.753263157\n6     NOR              19 0 days 00:01:22.443000 0 days 00:01:24.902684210\n7     LEC              21 0 days 00:01:21.171000 0 days 00:01:25.008809523\n8     RUS              19 0 days 00:01:21.086000 0 days 00:01:25.016315789\n9     ALO              13 0 days 00:01:22.353000 0 days 00:01:25.171307692\n10    MAG              14 0 days 00:01:22.317000 0 days 00:01:25.190428571\n11    PIA              17 0 days 00:01:22.199000 0 days 00:01:25.214117647\n12    VER              24 0 days 00:01:21.610000    0 days 00:01:25.259125\n13    BOT              22 0 days 00:01:21.461000 0 days 00:01:25.318272727\n14    HUL              20 0 days 00:01:21.208000    0 days 00:01:25.348300\n15    ALB              20 0 days 00:01:21.770000    0 days 00:01:25.504050\n16    HAM              19 0 days 00:01:22.214000 0 days 00:01:25.550842105\n17    COL              16 0 days 00:01:22.406000    0 days 00:01:25.797250\n18    RIC              13 0 days 00:01:23.789000 0 days 00:01:26.180923076\n19    ZHO              22 0 days 00:01:22.035000 0 days 00:01:26.798227272",
      "text/html": "<div>\n<style scoped>\n    .dataframe tbody tr th:only-of-type {\n        vertical-align: middle;\n    }\n\n    .dataframe tbody tr th {\n        vertical-align: top;\n    }\n\n    .dataframe thead th {\n        text-align: right;\n    }\n</style>\n<table border=\"1\" class=\"dataframe\">\n  <thead>\n    <tr style=\"text-align: right;\">\n      <th></th>\n      <th>Driver</th>\n      <th>Number of Laps</th>\n      <th>Fastest Lap</th>\n      <th>Avg LapTime</th>\n    </tr>\n  </thead>\n  <tbody>\n    <tr>\n      <th>0</th>\n      <td>GAS</td>\n      <td>18</td>\n      <td>0 days 00:01:21.562000</td>\n      <td>0 days 00:01:24.120833333</td>\n    </tr>\n    <tr>\n      <th>1</th>\n      <td>OCO</td>\n      <td>7</td>\n      <td>0 days 00:01:23.127000</td>\n      <td>0 days 00:01:24.305285714</td>\n    </tr>\n    <tr>\n      <th>2</th>\n      <td>SAI</td>\n      <td>18</td>\n      <td>0 days 00:01:20.467000</td>\n      <td>0 days 00:01:24.498500</td>\n    </tr>\n    <tr>\n      <th>3</th>\n      <td>TSU</td>\n      <td>17</td>\n      <td>0 days 00:01:21.246000</td>\n      <td>0 days 00:01:24.652823529</td>\n    </tr>\n    <tr>\n      <th>4</th>\n      <td>PER</td>\n      <td>21</td>\n      <td>0 days 00:01:22.260000</td>\n      <td>0 days 00:01:24.715000</td>\n    </tr>\n    <tr>\n      <th>5</th>\n      <td>STR</td>\n      <td>19</td>\n      <td>0 days 00:01:21.157000</td>\n      <td>0 days 00:01:24.753263157</td>\n    </tr>\n    <tr>\n      <th>6</th>\n      <td>NOR</td>\n      <td>19</td>\n      <td>0 days 00:01:22.443000</td>\n      <td>0 days 00:01:24.902684210</td>\n    </tr>\n    <tr>\n      <th>7</th>\n      <td>LEC</td>\n      <td>21</td>\n      <td>0 days 00:01:21.171000</td>\n      <td>0 days 00:01:25.008809523</td>\n    </tr>\n    <tr>\n      <th>8</th>\n      <td>RUS</td>\n      <td>19</td>\n      <td>0 days 00:01:21.086000</td>\n      <td>0 days 00:01:25.016315789</td>\n    </tr>\n    <tr>\n      <th>9</th>\n      <td>ALO</td>\n      <td>13</td>\n      <td>0 days 00:01:22.353000</td>\n      <td>0 days 00:01:25.171307692</td>\n    </tr>\n    <tr>\n      <th>10</th>\n      <td>MAG</td>\n      <td>14</td>\n      <td>0 days 00:01:22.317000</td>\n      <td>0 days 00:01:25.190428571</td>\n    </tr>\n    <tr>\n      <th>11</th>\n      <td>PIA</td>\n      <td>17</td>\n      <td>0 days 00:01:22.199000</td>\n      <td>0 days 00:01:25.214117647</td>\n    </tr>\n    <tr>\n      <th>12</th>\n      <td>VER</td>\n      <td>24</td>\n      <td>0 days 00:01:21.610000</td>\n      <td>0 days 00:01:25.259125</td>\n    </tr>\n    <tr>\n      <th>13</th>\n      <td>BOT</td>\n      <td>22</td>\n      <td>0 days 00:01:21.461000</td>\n      <td>0 days 00:01:25.318272727</td>\n    </tr>\n    <tr>\n      <th>14</th>\n      <td>HUL</td>\n      <td>20</td>\n      <td>0 days 00:01:21.208000</td>\n      <td>0 days 00:01:25.348300</td>\n    </tr>\n    <tr>\n      <th>15</th>\n      <td>ALB</td>\n      <td>20</td>\n      <td>0 days 00:01:21.770000</td>\n      <td>0 days 00:01:25.504050</td>\n    </tr>\n    <tr>\n      <th>16</th>\n      <td>HAM</td>\n      <td>19</td>\n      <td>0 days 00:01:22.214000</td>\n      <td>0 days 00:01:25.550842105</td>\n    </tr>\n    <tr>\n      <th>17</th>\n      <td>COL</td>\n      <td>16</td>\n      <td>0 days 00:01:22.406000</td>\n      <td>0 days 00:01:25.797250</td>\n    </tr>\n    <tr>\n      <th>18</th>\n      <td>RIC</td>\n      <td>13</td>\n      <td>0 days 00:01:23.789000</td>\n      <td>0 days 00:01:26.180923076</td>\n    </tr>\n    <tr>\n      <th>19</th>\n      <td>ZHO</td>\n      <td>22</td>\n      <td>0 days 00:01:22.035000</td>\n      <td>0 days 00:01:26.798227272</td>\n    </tr>\n  </tbody>\n</table>\n</div>"
     },
     "execution_count": 85,
     "metadata": {},
     "output_type": "execute_result"
    }
   ],
   "source": [
    "# Now i think pooling all race stints together for each driver and using pick_quicklaps() can work now\n",
    "driver_race_pace_data = []\n",
    "\n",
    "# loop by driver\n",
    "for driver in stints_obj_dict_by_driver:\n",
    "    \n",
    "    # get stint objects list for the driver\n",
    "    driver_stint_objs = stints_obj_dict_by_driver[driver]\n",
    "    \n",
    "    # list to hold all quick lap times for the driver\n",
    "    driver_lap_times_list = []\n",
    "    \n",
    "    # loop through driver stints\n",
    "    for stint_obj in driver_stint_objs:\n",
    "        \n",
    "        # skip quali stints\n",
    "        if stint_obj.num_laps < 3:\n",
    "            continue\n",
    "        \n",
    "        # loop through stint's quickest laps\n",
    "        for id, lap in stint_obj.quick_laps_df.iterlaps():\n",
    "            \n",
    "            # add lap time to lap time list\n",
    "            driver_lap_times_list.append(lap['LapTime'])\n",
    "            \n",
    "    # save data from pooled laps\n",
    "    if not pd.isnull(np.mean(driver_lap_times_list)):\n",
    "        driver_race_pace_data.append([driver, len(driver_lap_times_list), np.min(driver_lap_times_list), np.mean(driver_lap_times_list)])\n",
    "        \n",
    "# sort by fastest avg time\n",
    "driver_race_pace_data.sort(key=sort_func)\n",
    "\n",
    "# make it at data frame bc fuck you\n",
    "race_pace_df = pd.DataFrame(driver_race_pace_data, columns=['Driver', 'Number of Laps', 'Fastest Lap', 'Avg LapTime'])\n",
    "\n",
    "race_pace_df\n",
    "\n",
    "# yeah idk if this method is going to work.\n",
    "# either:\n",
    "#           a. fix threshold in quick_laps call\n",
    "#           b. linear fitting\n",
    "#           c. reach out to an expert lol\n",
    "# WHY IS THIS SO HARD?"
   ],
   "metadata": {
    "collapsed": false,
    "ExecuteTime": {
     "end_time": "2024-09-12T20:24:27.608626200Z",
     "start_time": "2024-09-12T20:24:27.497114600Z"
    }
   },
   "id": "c90945eb559e6450",
   "execution_count": 85
  },
  {
   "cell_type": "code",
   "outputs": [
    {
     "data": {
      "text/plain": "{'VER': Timedelta('0 days 00:01:25.259125'),\n 'GAS': Timedelta('0 days 00:01:24.120833333'),\n 'PER': Timedelta('0 days 00:01:24.715000'),\n 'ALO': Timedelta('0 days 00:01:25.171307692'),\n 'LEC': Timedelta('0 days 00:01:25.008809523'),\n 'STR': Timedelta('0 days 00:01:24.753263157'),\n 'MAG': Timedelta('0 days 00:01:25.190428571'),\n 'TSU': Timedelta('0 days 00:01:24.652823529'),\n 'ALB': Timedelta('0 days 00:01:25.504050'),\n 'ZHO': Timedelta('0 days 00:01:26.798227272'),\n 'HUL': Timedelta('0 days 00:01:25.348300'),\n 'RIC': Timedelta('0 days 00:01:26.180923076'),\n 'OCO': Timedelta('0 days 00:01:24.305285714'),\n 'NOR': Timedelta('0 days 00:01:24.902684210'),\n 'COL': Timedelta('0 days 00:01:25.797250'),\n 'HAM': Timedelta('0 days 00:01:25.550842105'),\n 'SAI': Timedelta('0 days 00:01:24.498500'),\n 'BOT': Timedelta('0 days 00:01:25.318272727'),\n 'PIA': Timedelta('0 days 00:01:25.214117647'),\n 'RUS': Timedelta('0 days 00:01:25.016315789')}"
     },
     "execution_count": 81,
     "metadata": {},
     "output_type": "execute_result"
    }
   ],
   "source": [
    "driver_race_pace_laps"
   ],
   "metadata": {
    "collapsed": false,
    "ExecuteTime": {
     "end_time": "2024-09-12T20:12:40.662558600Z",
     "start_time": "2024-09-12T20:12:40.659557800Z"
    }
   },
   "id": "c94b5b496f8f769d",
   "execution_count": 81
  }
 ],
 "metadata": {
  "kernelspec": {
   "display_name": "Python 3",
   "language": "python",
   "name": "python3"
  },
  "language_info": {
   "codemirror_mode": {
    "name": "ipython",
    "version": 2
   },
   "file_extension": ".py",
   "mimetype": "text/x-python",
   "name": "python",
   "nbconvert_exporter": "python",
   "pygments_lexer": "ipython2",
   "version": "2.7.6"
  }
 },
 "nbformat": 4,
 "nbformat_minor": 5
}
