{
 "cells": [
  {
   "cell_type": "code",
   "execution_count": 50,
   "id": "initial_id",
   "metadata": {
    "collapsed": true,
    "ExecuteTime": {
     "end_time": "2024-09-09T21:44:09.543776200Z",
     "start_time": "2024-09-09T21:44:09.109139900Z"
    }
   },
   "outputs": [
    {
     "name": "stdout",
     "output_type": "stream",
     "text": [
      "Logging off disconnected user: \n",
      "Can't kill that session: Access is denied.\n"
     ]
    }
   ],
   "source": [
    "import fastf1 as f1 # f1 data library\n",
    "import pandas as pd\n",
    "import numpy as np\n",
    "from matplotlib import pyplot as plt"
   ]
  },
  {
   "cell_type": "code",
   "outputs": [
    {
     "data": {
      "text/plain": "    RoundNumber         Country           Location  \\\n0             0         Bahrain             Sakhir   \n1             1         Bahrain             Sakhir   \n2             2    Saudi Arabia             Jeddah   \n3             3       Australia          Melbourne   \n4             4           Japan             Suzuka   \n5             5           China           Shanghai   \n6             6   United States              Miami   \n7             7           Italy              Imola   \n8             8          Monaco             Monaco   \n9             9          Canada           Montréal   \n10           10           Spain          Barcelona   \n11           11         Austria          Spielberg   \n12           12  United Kingdom        Silverstone   \n13           13         Hungary           Budapest   \n14           14         Belgium  Spa-Francorchamps   \n15           15     Netherlands          Zandvoort   \n16           16           Italy              Monza   \n\n                                    OfficialEventName  EventDate  \\\n0            FORMULA 1 ARAMCO PRE-SEASON TESTING 2024 2024-02-23   \n1          FORMULA 1 GULF AIR BAHRAIN GRAND PRIX 2024 2024-03-02   \n2         FORMULA 1 STC SAUDI ARABIAN GRAND PRIX 2024 2024-03-09   \n3          FORMULA 1 ROLEX AUSTRALIAN GRAND PRIX 2024 2024-03-24   \n4      FORMULA 1 MSC CRUISES JAPANESE GRAND PRIX 2024 2024-04-07   \n5            FORMULA 1 LENOVO CHINESE GRAND PRIX 2024 2024-04-21   \n6          FORMULA 1 CRYPTO.COM MIAMI GRAND PRIX 2024 2024-05-05   \n7   FORMULA 1 MSC CRUISES GRAN PREMIO DEL MADE IN ... 2024-05-19   \n8                 FORMULA 1 GRAND PRIX DE MONACO 2024 2024-05-26   \n9             FORMULA 1 AWS GRAND PRIX DU CANADA 2024 2024-06-09   \n10        FORMULA 1 ARAMCO GRAN PREMIO DE ESPAÑA 2024 2024-06-23   \n11   FORMULA 1 QATAR AIRWAYS AUSTRIAN GRAND PRIX 2024 2024-06-30   \n12    FORMULA 1 QATAR AIRWAYS BRITISH GRAND PRIX 2024 2024-07-07   \n13                FORMULA 1 HUNGARIAN GRAND PRIX 2024 2024-07-21   \n14            FORMULA 1 ROLEX BELGIAN GRAND PRIX 2024 2024-07-28   \n15           FORMULA 1 HEINEKEN DUTCH GRAND PRIX 2024 2024-08-25   \n16        FORMULA 1 PIRELLI GRAN PREMIO D’ITALIA 2024 2024-09-01   \n\n                    EventName        EventFormat    Session1  \\\n0          Pre-Season Testing            testing  Practice 1   \n1          Bahrain Grand Prix       conventional  Practice 1   \n2    Saudi Arabian Grand Prix       conventional  Practice 1   \n3       Australian Grand Prix       conventional  Practice 1   \n4         Japanese Grand Prix       conventional  Practice 1   \n5          Chinese Grand Prix  sprint_qualifying  Practice 1   \n6            Miami Grand Prix  sprint_qualifying  Practice 1   \n7   Emilia Romagna Grand Prix       conventional  Practice 1   \n8           Monaco Grand Prix       conventional  Practice 1   \n9         Canadian Grand Prix       conventional  Practice 1   \n10         Spanish Grand Prix       conventional  Practice 1   \n11        Austrian Grand Prix  sprint_qualifying  Practice 1   \n12         British Grand Prix       conventional  Practice 1   \n13       Hungarian Grand Prix       conventional  Practice 1   \n14         Belgian Grand Prix       conventional  Practice 1   \n15           Dutch Grand Prix       conventional  Practice 1   \n16         Italian Grand Prix       conventional  Practice 1   \n\n                 Session1Date     Session1DateUtc  ...    Session3  \\\n0   2024-02-21 10:00:00+03:00 2024-02-21 07:00:00  ...  Practice 3   \n1   2024-02-29 14:30:00+03:00 2024-02-29 11:30:00  ...  Practice 3   \n2   2024-03-07 16:30:00+03:00 2024-03-07 13:30:00  ...  Practice 3   \n3   2024-03-22 12:30:00+11:00 2024-03-22 01:30:00  ...  Practice 3   \n4   2024-04-05 11:30:00+09:00 2024-04-05 02:30:00  ...  Practice 3   \n5   2024-04-19 11:30:00+08:00 2024-04-19 03:30:00  ...      Sprint   \n6   2024-05-03 12:30:00-04:00 2024-05-03 16:30:00  ...      Sprint   \n7   2024-05-17 13:30:00+02:00 2024-05-17 11:30:00  ...  Practice 3   \n8   2024-05-24 13:30:00+02:00 2024-05-24 11:30:00  ...  Practice 3   \n9   2024-06-07 13:30:00-04:00 2024-06-07 17:30:00  ...  Practice 3   \n10  2024-06-21 13:30:00+02:00 2024-06-21 11:30:00  ...  Practice 3   \n11  2024-06-28 12:30:00+02:00 2024-06-28 10:30:00  ...      Sprint   \n12  2024-07-05 12:30:00+01:00 2024-07-05 11:30:00  ...  Practice 3   \n13  2024-07-19 13:30:00+02:00 2024-07-19 11:30:00  ...  Practice 3   \n14  2024-07-26 13:30:00+02:00 2024-07-26 11:30:00  ...  Practice 3   \n15  2024-08-23 12:30:00+02:00 2024-08-23 10:30:00  ...  Practice 3   \n16  2024-08-30 13:30:00+02:00 2024-08-30 11:30:00  ...  Practice 3   \n\n                 Session3Date     Session3DateUtc    Session4  \\\n0   2024-02-23 10:00:00+03:00 2024-02-23 07:00:00        None   \n1   2024-03-01 15:30:00+03:00 2024-03-01 12:30:00  Qualifying   \n2   2024-03-08 16:30:00+03:00 2024-03-08 13:30:00  Qualifying   \n3   2024-03-23 12:30:00+11:00 2024-03-23 01:30:00  Qualifying   \n4   2024-04-06 11:30:00+09:00 2024-04-06 02:30:00  Qualifying   \n5   2024-04-20 11:00:00+08:00 2024-04-20 03:00:00  Qualifying   \n6   2024-05-04 12:00:00-04:00 2024-05-04 16:00:00  Qualifying   \n7   2024-05-18 12:30:00+02:00 2024-05-18 10:30:00  Qualifying   \n8   2024-05-25 12:30:00+02:00 2024-05-25 10:30:00  Qualifying   \n9   2024-06-08 12:30:00-04:00 2024-06-08 16:30:00  Qualifying   \n10  2024-06-22 12:30:00+02:00 2024-06-22 10:30:00  Qualifying   \n11  2024-06-29 12:00:00+02:00 2024-06-29 10:00:00  Qualifying   \n12  2024-07-06 11:30:00+01:00 2024-07-06 10:30:00  Qualifying   \n13  2024-07-20 12:30:00+02:00 2024-07-20 10:30:00  Qualifying   \n14  2024-07-27 12:30:00+02:00 2024-07-27 10:30:00  Qualifying   \n15  2024-08-24 11:30:00+02:00 2024-08-24 09:30:00  Qualifying   \n16  2024-08-31 12:30:00+02:00 2024-08-31 10:30:00  Qualifying   \n\n                 Session4Date     Session4DateUtc Session5  \\\n0                         NaT                 NaT     None   \n1   2024-03-01 19:00:00+03:00 2024-03-01 16:00:00     Race   \n2   2024-03-08 20:00:00+03:00 2024-03-08 17:00:00     Race   \n3   2024-03-23 16:00:00+11:00 2024-03-23 05:00:00     Race   \n4   2024-04-06 15:00:00+09:00 2024-04-06 06:00:00     Race   \n5   2024-04-20 15:00:00+08:00 2024-04-20 07:00:00     Race   \n6   2024-05-04 16:00:00-04:00 2024-05-04 20:00:00     Race   \n7   2024-05-18 16:00:00+02:00 2024-05-18 14:00:00     Race   \n8   2024-05-25 16:00:00+02:00 2024-05-25 14:00:00     Race   \n9   2024-06-08 16:00:00-04:00 2024-06-08 20:00:00     Race   \n10  2024-06-22 16:00:00+02:00 2024-06-22 14:00:00     Race   \n11  2024-06-29 16:00:00+02:00 2024-06-29 14:00:00     Race   \n12  2024-07-06 15:00:00+01:00 2024-07-06 14:00:00     Race   \n13  2024-07-20 16:00:00+02:00 2024-07-20 14:00:00     Race   \n14  2024-07-27 16:00:00+02:00 2024-07-27 14:00:00     Race   \n15  2024-08-24 15:00:00+02:00 2024-08-24 13:00:00     Race   \n16  2024-08-31 16:00:00+02:00 2024-08-31 14:00:00     Race   \n\n                 Session5Date     Session5DateUtc F1ApiSupport  \n0                         NaT                 NaT         True  \n1   2024-03-02 18:00:00+03:00 2024-03-02 15:00:00         True  \n2   2024-03-09 20:00:00+03:00 2024-03-09 17:00:00         True  \n3   2024-03-24 15:00:00+11:00 2024-03-24 04:00:00         True  \n4   2024-04-07 14:00:00+09:00 2024-04-07 05:00:00         True  \n5   2024-04-21 15:00:00+08:00 2024-04-21 07:00:00         True  \n6   2024-05-05 16:00:00-04:00 2024-05-05 20:00:00         True  \n7   2024-05-19 15:00:00+02:00 2024-05-19 13:00:00         True  \n8   2024-05-26 15:00:00+02:00 2024-05-26 13:00:00         True  \n9   2024-06-09 14:00:00-04:00 2024-06-09 18:00:00         True  \n10  2024-06-23 15:00:00+02:00 2024-06-23 13:00:00         True  \n11  2024-06-30 15:00:00+02:00 2024-06-30 13:00:00         True  \n12  2024-07-07 15:00:00+01:00 2024-07-07 14:00:00         True  \n13  2024-07-21 15:00:00+02:00 2024-07-21 13:00:00         True  \n14  2024-07-28 15:00:00+02:00 2024-07-28 13:00:00         True  \n15  2024-08-25 15:00:00+02:00 2024-08-25 13:00:00         True  \n16  2024-09-01 15:00:00+02:00 2024-09-01 13:00:00         True  \n\n[17 rows x 23 columns]",
      "text/html": "<div>\n<style scoped>\n    .dataframe tbody tr th:only-of-type {\n        vertical-align: middle;\n    }\n\n    .dataframe tbody tr th {\n        vertical-align: top;\n    }\n\n    .dataframe thead th {\n        text-align: right;\n    }\n</style>\n<table border=\"1\" class=\"dataframe\">\n  <thead>\n    <tr style=\"text-align: right;\">\n      <th></th>\n      <th>RoundNumber</th>\n      <th>Country</th>\n      <th>Location</th>\n      <th>OfficialEventName</th>\n      <th>EventDate</th>\n      <th>EventName</th>\n      <th>EventFormat</th>\n      <th>Session1</th>\n      <th>Session1Date</th>\n      <th>Session1DateUtc</th>\n      <th>...</th>\n      <th>Session3</th>\n      <th>Session3Date</th>\n      <th>Session3DateUtc</th>\n      <th>Session4</th>\n      <th>Session4Date</th>\n      <th>Session4DateUtc</th>\n      <th>Session5</th>\n      <th>Session5Date</th>\n      <th>Session5DateUtc</th>\n      <th>F1ApiSupport</th>\n    </tr>\n  </thead>\n  <tbody>\n    <tr>\n      <th>0</th>\n      <td>0</td>\n      <td>Bahrain</td>\n      <td>Sakhir</td>\n      <td>FORMULA 1 ARAMCO PRE-SEASON TESTING 2024</td>\n      <td>2024-02-23</td>\n      <td>Pre-Season Testing</td>\n      <td>testing</td>\n      <td>Practice 1</td>\n      <td>2024-02-21 10:00:00+03:00</td>\n      <td>2024-02-21 07:00:00</td>\n      <td>...</td>\n      <td>Practice 3</td>\n      <td>2024-02-23 10:00:00+03:00</td>\n      <td>2024-02-23 07:00:00</td>\n      <td>None</td>\n      <td>NaT</td>\n      <td>NaT</td>\n      <td>None</td>\n      <td>NaT</td>\n      <td>NaT</td>\n      <td>True</td>\n    </tr>\n    <tr>\n      <th>1</th>\n      <td>1</td>\n      <td>Bahrain</td>\n      <td>Sakhir</td>\n      <td>FORMULA 1 GULF AIR BAHRAIN GRAND PRIX 2024</td>\n      <td>2024-03-02</td>\n      <td>Bahrain Grand Prix</td>\n      <td>conventional</td>\n      <td>Practice 1</td>\n      <td>2024-02-29 14:30:00+03:00</td>\n      <td>2024-02-29 11:30:00</td>\n      <td>...</td>\n      <td>Practice 3</td>\n      <td>2024-03-01 15:30:00+03:00</td>\n      <td>2024-03-01 12:30:00</td>\n      <td>Qualifying</td>\n      <td>2024-03-01 19:00:00+03:00</td>\n      <td>2024-03-01 16:00:00</td>\n      <td>Race</td>\n      <td>2024-03-02 18:00:00+03:00</td>\n      <td>2024-03-02 15:00:00</td>\n      <td>True</td>\n    </tr>\n    <tr>\n      <th>2</th>\n      <td>2</td>\n      <td>Saudi Arabia</td>\n      <td>Jeddah</td>\n      <td>FORMULA 1 STC SAUDI ARABIAN GRAND PRIX 2024</td>\n      <td>2024-03-09</td>\n      <td>Saudi Arabian Grand Prix</td>\n      <td>conventional</td>\n      <td>Practice 1</td>\n      <td>2024-03-07 16:30:00+03:00</td>\n      <td>2024-03-07 13:30:00</td>\n      <td>...</td>\n      <td>Practice 3</td>\n      <td>2024-03-08 16:30:00+03:00</td>\n      <td>2024-03-08 13:30:00</td>\n      <td>Qualifying</td>\n      <td>2024-03-08 20:00:00+03:00</td>\n      <td>2024-03-08 17:00:00</td>\n      <td>Race</td>\n      <td>2024-03-09 20:00:00+03:00</td>\n      <td>2024-03-09 17:00:00</td>\n      <td>True</td>\n    </tr>\n    <tr>\n      <th>3</th>\n      <td>3</td>\n      <td>Australia</td>\n      <td>Melbourne</td>\n      <td>FORMULA 1 ROLEX AUSTRALIAN GRAND PRIX 2024</td>\n      <td>2024-03-24</td>\n      <td>Australian Grand Prix</td>\n      <td>conventional</td>\n      <td>Practice 1</td>\n      <td>2024-03-22 12:30:00+11:00</td>\n      <td>2024-03-22 01:30:00</td>\n      <td>...</td>\n      <td>Practice 3</td>\n      <td>2024-03-23 12:30:00+11:00</td>\n      <td>2024-03-23 01:30:00</td>\n      <td>Qualifying</td>\n      <td>2024-03-23 16:00:00+11:00</td>\n      <td>2024-03-23 05:00:00</td>\n      <td>Race</td>\n      <td>2024-03-24 15:00:00+11:00</td>\n      <td>2024-03-24 04:00:00</td>\n      <td>True</td>\n    </tr>\n    <tr>\n      <th>4</th>\n      <td>4</td>\n      <td>Japan</td>\n      <td>Suzuka</td>\n      <td>FORMULA 1 MSC CRUISES JAPANESE GRAND PRIX 2024</td>\n      <td>2024-04-07</td>\n      <td>Japanese Grand Prix</td>\n      <td>conventional</td>\n      <td>Practice 1</td>\n      <td>2024-04-05 11:30:00+09:00</td>\n      <td>2024-04-05 02:30:00</td>\n      <td>...</td>\n      <td>Practice 3</td>\n      <td>2024-04-06 11:30:00+09:00</td>\n      <td>2024-04-06 02:30:00</td>\n      <td>Qualifying</td>\n      <td>2024-04-06 15:00:00+09:00</td>\n      <td>2024-04-06 06:00:00</td>\n      <td>Race</td>\n      <td>2024-04-07 14:00:00+09:00</td>\n      <td>2024-04-07 05:00:00</td>\n      <td>True</td>\n    </tr>\n    <tr>\n      <th>5</th>\n      <td>5</td>\n      <td>China</td>\n      <td>Shanghai</td>\n      <td>FORMULA 1 LENOVO CHINESE GRAND PRIX 2024</td>\n      <td>2024-04-21</td>\n      <td>Chinese Grand Prix</td>\n      <td>sprint_qualifying</td>\n      <td>Practice 1</td>\n      <td>2024-04-19 11:30:00+08:00</td>\n      <td>2024-04-19 03:30:00</td>\n      <td>...</td>\n      <td>Sprint</td>\n      <td>2024-04-20 11:00:00+08:00</td>\n      <td>2024-04-20 03:00:00</td>\n      <td>Qualifying</td>\n      <td>2024-04-20 15:00:00+08:00</td>\n      <td>2024-04-20 07:00:00</td>\n      <td>Race</td>\n      <td>2024-04-21 15:00:00+08:00</td>\n      <td>2024-04-21 07:00:00</td>\n      <td>True</td>\n    </tr>\n    <tr>\n      <th>6</th>\n      <td>6</td>\n      <td>United States</td>\n      <td>Miami</td>\n      <td>FORMULA 1 CRYPTO.COM MIAMI GRAND PRIX 2024</td>\n      <td>2024-05-05</td>\n      <td>Miami Grand Prix</td>\n      <td>sprint_qualifying</td>\n      <td>Practice 1</td>\n      <td>2024-05-03 12:30:00-04:00</td>\n      <td>2024-05-03 16:30:00</td>\n      <td>...</td>\n      <td>Sprint</td>\n      <td>2024-05-04 12:00:00-04:00</td>\n      <td>2024-05-04 16:00:00</td>\n      <td>Qualifying</td>\n      <td>2024-05-04 16:00:00-04:00</td>\n      <td>2024-05-04 20:00:00</td>\n      <td>Race</td>\n      <td>2024-05-05 16:00:00-04:00</td>\n      <td>2024-05-05 20:00:00</td>\n      <td>True</td>\n    </tr>\n    <tr>\n      <th>7</th>\n      <td>7</td>\n      <td>Italy</td>\n      <td>Imola</td>\n      <td>FORMULA 1 MSC CRUISES GRAN PREMIO DEL MADE IN ...</td>\n      <td>2024-05-19</td>\n      <td>Emilia Romagna Grand Prix</td>\n      <td>conventional</td>\n      <td>Practice 1</td>\n      <td>2024-05-17 13:30:00+02:00</td>\n      <td>2024-05-17 11:30:00</td>\n      <td>...</td>\n      <td>Practice 3</td>\n      <td>2024-05-18 12:30:00+02:00</td>\n      <td>2024-05-18 10:30:00</td>\n      <td>Qualifying</td>\n      <td>2024-05-18 16:00:00+02:00</td>\n      <td>2024-05-18 14:00:00</td>\n      <td>Race</td>\n      <td>2024-05-19 15:00:00+02:00</td>\n      <td>2024-05-19 13:00:00</td>\n      <td>True</td>\n    </tr>\n    <tr>\n      <th>8</th>\n      <td>8</td>\n      <td>Monaco</td>\n      <td>Monaco</td>\n      <td>FORMULA 1 GRAND PRIX DE MONACO 2024</td>\n      <td>2024-05-26</td>\n      <td>Monaco Grand Prix</td>\n      <td>conventional</td>\n      <td>Practice 1</td>\n      <td>2024-05-24 13:30:00+02:00</td>\n      <td>2024-05-24 11:30:00</td>\n      <td>...</td>\n      <td>Practice 3</td>\n      <td>2024-05-25 12:30:00+02:00</td>\n      <td>2024-05-25 10:30:00</td>\n      <td>Qualifying</td>\n      <td>2024-05-25 16:00:00+02:00</td>\n      <td>2024-05-25 14:00:00</td>\n      <td>Race</td>\n      <td>2024-05-26 15:00:00+02:00</td>\n      <td>2024-05-26 13:00:00</td>\n      <td>True</td>\n    </tr>\n    <tr>\n      <th>9</th>\n      <td>9</td>\n      <td>Canada</td>\n      <td>Montréal</td>\n      <td>FORMULA 1 AWS GRAND PRIX DU CANADA 2024</td>\n      <td>2024-06-09</td>\n      <td>Canadian Grand Prix</td>\n      <td>conventional</td>\n      <td>Practice 1</td>\n      <td>2024-06-07 13:30:00-04:00</td>\n      <td>2024-06-07 17:30:00</td>\n      <td>...</td>\n      <td>Practice 3</td>\n      <td>2024-06-08 12:30:00-04:00</td>\n      <td>2024-06-08 16:30:00</td>\n      <td>Qualifying</td>\n      <td>2024-06-08 16:00:00-04:00</td>\n      <td>2024-06-08 20:00:00</td>\n      <td>Race</td>\n      <td>2024-06-09 14:00:00-04:00</td>\n      <td>2024-06-09 18:00:00</td>\n      <td>True</td>\n    </tr>\n    <tr>\n      <th>10</th>\n      <td>10</td>\n      <td>Spain</td>\n      <td>Barcelona</td>\n      <td>FORMULA 1 ARAMCO GRAN PREMIO DE ESPAÑA 2024</td>\n      <td>2024-06-23</td>\n      <td>Spanish Grand Prix</td>\n      <td>conventional</td>\n      <td>Practice 1</td>\n      <td>2024-06-21 13:30:00+02:00</td>\n      <td>2024-06-21 11:30:00</td>\n      <td>...</td>\n      <td>Practice 3</td>\n      <td>2024-06-22 12:30:00+02:00</td>\n      <td>2024-06-22 10:30:00</td>\n      <td>Qualifying</td>\n      <td>2024-06-22 16:00:00+02:00</td>\n      <td>2024-06-22 14:00:00</td>\n      <td>Race</td>\n      <td>2024-06-23 15:00:00+02:00</td>\n      <td>2024-06-23 13:00:00</td>\n      <td>True</td>\n    </tr>\n    <tr>\n      <th>11</th>\n      <td>11</td>\n      <td>Austria</td>\n      <td>Spielberg</td>\n      <td>FORMULA 1 QATAR AIRWAYS AUSTRIAN GRAND PRIX 2024</td>\n      <td>2024-06-30</td>\n      <td>Austrian Grand Prix</td>\n      <td>sprint_qualifying</td>\n      <td>Practice 1</td>\n      <td>2024-06-28 12:30:00+02:00</td>\n      <td>2024-06-28 10:30:00</td>\n      <td>...</td>\n      <td>Sprint</td>\n      <td>2024-06-29 12:00:00+02:00</td>\n      <td>2024-06-29 10:00:00</td>\n      <td>Qualifying</td>\n      <td>2024-06-29 16:00:00+02:00</td>\n      <td>2024-06-29 14:00:00</td>\n      <td>Race</td>\n      <td>2024-06-30 15:00:00+02:00</td>\n      <td>2024-06-30 13:00:00</td>\n      <td>True</td>\n    </tr>\n    <tr>\n      <th>12</th>\n      <td>12</td>\n      <td>United Kingdom</td>\n      <td>Silverstone</td>\n      <td>FORMULA 1 QATAR AIRWAYS BRITISH GRAND PRIX 2024</td>\n      <td>2024-07-07</td>\n      <td>British Grand Prix</td>\n      <td>conventional</td>\n      <td>Practice 1</td>\n      <td>2024-07-05 12:30:00+01:00</td>\n      <td>2024-07-05 11:30:00</td>\n      <td>...</td>\n      <td>Practice 3</td>\n      <td>2024-07-06 11:30:00+01:00</td>\n      <td>2024-07-06 10:30:00</td>\n      <td>Qualifying</td>\n      <td>2024-07-06 15:00:00+01:00</td>\n      <td>2024-07-06 14:00:00</td>\n      <td>Race</td>\n      <td>2024-07-07 15:00:00+01:00</td>\n      <td>2024-07-07 14:00:00</td>\n      <td>True</td>\n    </tr>\n    <tr>\n      <th>13</th>\n      <td>13</td>\n      <td>Hungary</td>\n      <td>Budapest</td>\n      <td>FORMULA 1 HUNGARIAN GRAND PRIX 2024</td>\n      <td>2024-07-21</td>\n      <td>Hungarian Grand Prix</td>\n      <td>conventional</td>\n      <td>Practice 1</td>\n      <td>2024-07-19 13:30:00+02:00</td>\n      <td>2024-07-19 11:30:00</td>\n      <td>...</td>\n      <td>Practice 3</td>\n      <td>2024-07-20 12:30:00+02:00</td>\n      <td>2024-07-20 10:30:00</td>\n      <td>Qualifying</td>\n      <td>2024-07-20 16:00:00+02:00</td>\n      <td>2024-07-20 14:00:00</td>\n      <td>Race</td>\n      <td>2024-07-21 15:00:00+02:00</td>\n      <td>2024-07-21 13:00:00</td>\n      <td>True</td>\n    </tr>\n    <tr>\n      <th>14</th>\n      <td>14</td>\n      <td>Belgium</td>\n      <td>Spa-Francorchamps</td>\n      <td>FORMULA 1 ROLEX BELGIAN GRAND PRIX 2024</td>\n      <td>2024-07-28</td>\n      <td>Belgian Grand Prix</td>\n      <td>conventional</td>\n      <td>Practice 1</td>\n      <td>2024-07-26 13:30:00+02:00</td>\n      <td>2024-07-26 11:30:00</td>\n      <td>...</td>\n      <td>Practice 3</td>\n      <td>2024-07-27 12:30:00+02:00</td>\n      <td>2024-07-27 10:30:00</td>\n      <td>Qualifying</td>\n      <td>2024-07-27 16:00:00+02:00</td>\n      <td>2024-07-27 14:00:00</td>\n      <td>Race</td>\n      <td>2024-07-28 15:00:00+02:00</td>\n      <td>2024-07-28 13:00:00</td>\n      <td>True</td>\n    </tr>\n    <tr>\n      <th>15</th>\n      <td>15</td>\n      <td>Netherlands</td>\n      <td>Zandvoort</td>\n      <td>FORMULA 1 HEINEKEN DUTCH GRAND PRIX 2024</td>\n      <td>2024-08-25</td>\n      <td>Dutch Grand Prix</td>\n      <td>conventional</td>\n      <td>Practice 1</td>\n      <td>2024-08-23 12:30:00+02:00</td>\n      <td>2024-08-23 10:30:00</td>\n      <td>...</td>\n      <td>Practice 3</td>\n      <td>2024-08-24 11:30:00+02:00</td>\n      <td>2024-08-24 09:30:00</td>\n      <td>Qualifying</td>\n      <td>2024-08-24 15:00:00+02:00</td>\n      <td>2024-08-24 13:00:00</td>\n      <td>Race</td>\n      <td>2024-08-25 15:00:00+02:00</td>\n      <td>2024-08-25 13:00:00</td>\n      <td>True</td>\n    </tr>\n    <tr>\n      <th>16</th>\n      <td>16</td>\n      <td>Italy</td>\n      <td>Monza</td>\n      <td>FORMULA 1 PIRELLI GRAN PREMIO D’ITALIA 2024</td>\n      <td>2024-09-01</td>\n      <td>Italian Grand Prix</td>\n      <td>conventional</td>\n      <td>Practice 1</td>\n      <td>2024-08-30 13:30:00+02:00</td>\n      <td>2024-08-30 11:30:00</td>\n      <td>...</td>\n      <td>Practice 3</td>\n      <td>2024-08-31 12:30:00+02:00</td>\n      <td>2024-08-31 10:30:00</td>\n      <td>Qualifying</td>\n      <td>2024-08-31 16:00:00+02:00</td>\n      <td>2024-08-31 14:00:00</td>\n      <td>Race</td>\n      <td>2024-09-01 15:00:00+02:00</td>\n      <td>2024-09-01 13:00:00</td>\n      <td>True</td>\n    </tr>\n  </tbody>\n</table>\n<p>17 rows × 23 columns</p>\n</div>"
     },
     "execution_count": 51,
     "metadata": {},
     "output_type": "execute_result"
    }
   ],
   "source": [
    "event_schedule = f1.get_event_schedule(2024)\n",
    "\n",
    "event_schedule[event_schedule.Session1DateUtc < pd.Timestamp.today()]"
   ],
   "metadata": {
    "collapsed": false,
    "ExecuteTime": {
     "end_time": "2024-09-09T21:44:10.841129800Z",
     "start_time": "2024-09-09T21:44:09.543776200Z"
    }
   },
   "id": "c548990668a1fa37",
   "execution_count": 51
  },
  {
   "cell_type": "code",
   "outputs": [
    {
     "name": "stderr",
     "output_type": "stream",
     "text": [
      "core           INFO \tLoading data for Italian Grand Prix - Practice 1 [v3.3.5]\n",
      "req            INFO \tUsing cached data for session_info\n",
      "req            INFO \tUsing cached data for driver_info\n",
      "req            INFO \tUsing cached data for session_status_data\n",
      "req            INFO \tUsing cached data for track_status_data\n",
      "req            INFO \tUsing cached data for _extended_timing_data\n",
      "req            INFO \tUsing cached data for timing_app_data\n",
      "core           INFO \tProcessing timing data...\n",
      "core        WARNING \tNo lap data for driver 63\n",
      "core        WARNING \tFailed to perform lap accuracy check - all laps marked as inaccurate (driver 63)\n",
      "core           INFO \tFinished loading data for 21 drivers: ['1', '10', '11', '12', '14', '16', '18', '20', '22', '23', '24', '27', '3', '31', '4', '43', '44', '55', '63', '77', '81']\n",
      "core           INFO \tLoading data for Italian Grand Prix - Practice 2 [v3.3.5]\n",
      "req            INFO \tUsing cached data for session_info\n",
      "req            INFO \tUsing cached data for driver_info\n",
      "req            INFO \tUsing cached data for session_status_data\n",
      "req            INFO \tUsing cached data for track_status_data\n",
      "req            INFO \tUsing cached data for _extended_timing_data\n",
      "req            INFO \tUsing cached data for timing_app_data\n",
      "core           INFO \tProcessing timing data...\n"
     ]
    },
    {
     "name": "stdout",
     "output_type": "stream",
     "text": [
      "FP1 finished loading\n"
     ]
    },
    {
     "name": "stderr",
     "output_type": "stream",
     "text": [
      "core           INFO \tFinished loading data for 20 drivers: ['1', '10', '11', '14', '16', '18', '20', '22', '23', '24', '27', '3', '31', '4', '43', '44', '55', '63', '77', '81']\n",
      "core           INFO \tLoading data for Italian Grand Prix - Practice 3 [v3.3.5]\n",
      "req            INFO \tUsing cached data for session_info\n",
      "req            INFO \tUsing cached data for driver_info\n",
      "req            INFO \tUsing cached data for session_status_data\n",
      "req            INFO \tUsing cached data for track_status_data\n",
      "req            INFO \tUsing cached data for _extended_timing_data\n",
      "req            INFO \tUsing cached data for timing_app_data\n",
      "core           INFO \tProcessing timing data...\n"
     ]
    },
    {
     "name": "stdout",
     "output_type": "stream",
     "text": [
      "FP2 finished loading\n"
     ]
    },
    {
     "name": "stderr",
     "output_type": "stream",
     "text": [
      "core           INFO \tFinished loading data for 20 drivers: ['1', '10', '11', '14', '16', '18', '20', '22', '23', '24', '27', '3', '31', '4', '43', '44', '55', '63', '77', '81']\n"
     ]
    },
    {
     "name": "stdout",
     "output_type": "stream",
     "text": [
      "FP3 finished loading\n"
     ]
    }
   ],
   "source": [
    "practice_sessions = {\"FP1\": f1.get_session(2024, 16, 'FP1'), \"FP2\":f1.get_session(2024, 16, 'FP2'), \"FP3\":f1.get_session(2024, 16, 'FP3')}\n",
    "\n",
    "for session in practice_sessions:\n",
    "    practice_sessions[session].load(telemetry=False, weather=False, messages=False)\n",
    "    print(f\"{session} finished loading\")"
   ],
   "metadata": {
    "collapsed": false,
    "ExecuteTime": {
     "end_time": "2024-09-12T19:02:33.279541300Z",
     "start_time": "2024-09-12T19:02:27.118733100Z"
    }
   },
   "id": "f861d2a5ce33f9df",
   "execution_count": 61
  }
 ],
 "metadata": {
  "kernelspec": {
   "display_name": "Python 3",
   "language": "python",
   "name": "python3"
  },
  "language_info": {
   "codemirror_mode": {
    "name": "ipython",
    "version": 2
   },
   "file_extension": ".py",
   "mimetype": "text/x-python",
   "name": "python",
   "nbconvert_exporter": "python",
   "pygments_lexer": "ipython2",
   "version": "2.7.6"
  }
 },
 "nbformat": 4,
 "nbformat_minor": 5
}
