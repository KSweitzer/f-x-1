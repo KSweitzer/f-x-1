{
 "cells": [
  {
   "cell_type": "code",
   "execution_count": 50,
   "id": "initial_id",
   "metadata": {
    "collapsed": true,
    "ExecuteTime": {
     "end_time": "2024-09-09T21:44:09.543776200Z",
     "start_time": "2024-09-09T21:44:09.109139900Z"
    }
   },
   "outputs": [
    {
     "name": "stdout",
     "output_type": "stream",
     "text": [
      "Logging off disconnected user: \n",
      "Can't kill that session: Access is denied.\n"
     ]
    }
   ],
   "source": [
    "import fastf1 as f1 # f1 data library\n",
    "import pandas as pd\n",
    "import numpy as np\n",
    "from Demos.win32ts_logoff_disconnected import sessions\n",
    "from matplotlib import pyplot as plt"
   ]
  },
  {
   "cell_type": "code",
   "outputs": [
    {
     "data": {
      "text/plain": "    RoundNumber         Country           Location  \\\n0             0         Bahrain             Sakhir   \n1             1         Bahrain             Sakhir   \n2             2    Saudi Arabia             Jeddah   \n3             3       Australia          Melbourne   \n4             4           Japan             Suzuka   \n5             5           China           Shanghai   \n6             6   United States              Miami   \n7             7           Italy              Imola   \n8             8          Monaco             Monaco   \n9             9          Canada           Montréal   \n10           10           Spain          Barcelona   \n11           11         Austria          Spielberg   \n12           12  United Kingdom        Silverstone   \n13           13         Hungary           Budapest   \n14           14         Belgium  Spa-Francorchamps   \n15           15     Netherlands          Zandvoort   \n16           16           Italy              Monza   \n\n                                    OfficialEventName  EventDate  \\\n0            FORMULA 1 ARAMCO PRE-SEASON TESTING 2024 2024-02-23   \n1          FORMULA 1 GULF AIR BAHRAIN GRAND PRIX 2024 2024-03-02   \n2         FORMULA 1 STC SAUDI ARABIAN GRAND PRIX 2024 2024-03-09   \n3          FORMULA 1 ROLEX AUSTRALIAN GRAND PRIX 2024 2024-03-24   \n4      FORMULA 1 MSC CRUISES JAPANESE GRAND PRIX 2024 2024-04-07   \n5            FORMULA 1 LENOVO CHINESE GRAND PRIX 2024 2024-04-21   \n6          FORMULA 1 CRYPTO.COM MIAMI GRAND PRIX 2024 2024-05-05   \n7   FORMULA 1 MSC CRUISES GRAN PREMIO DEL MADE IN ... 2024-05-19   \n8                 FORMULA 1 GRAND PRIX DE MONACO 2024 2024-05-26   \n9             FORMULA 1 AWS GRAND PRIX DU CANADA 2024 2024-06-09   \n10        FORMULA 1 ARAMCO GRAN PREMIO DE ESPAÑA 2024 2024-06-23   \n11   FORMULA 1 QATAR AIRWAYS AUSTRIAN GRAND PRIX 2024 2024-06-30   \n12    FORMULA 1 QATAR AIRWAYS BRITISH GRAND PRIX 2024 2024-07-07   \n13                FORMULA 1 HUNGARIAN GRAND PRIX 2024 2024-07-21   \n14            FORMULA 1 ROLEX BELGIAN GRAND PRIX 2024 2024-07-28   \n15           FORMULA 1 HEINEKEN DUTCH GRAND PRIX 2024 2024-08-25   \n16        FORMULA 1 PIRELLI GRAN PREMIO D’ITALIA 2024 2024-09-01   \n\n                    EventName        EventFormat    Session1  \\\n0          Pre-Season Testing            testing  Practice 1   \n1          Bahrain Grand Prix       conventional  Practice 1   \n2    Saudi Arabian Grand Prix       conventional  Practice 1   \n3       Australian Grand Prix       conventional  Practice 1   \n4         Japanese Grand Prix       conventional  Practice 1   \n5          Chinese Grand Prix  sprint_qualifying  Practice 1   \n6            Miami Grand Prix  sprint_qualifying  Practice 1   \n7   Emilia Romagna Grand Prix       conventional  Practice 1   \n8           Monaco Grand Prix       conventional  Practice 1   \n9         Canadian Grand Prix       conventional  Practice 1   \n10         Spanish Grand Prix       conventional  Practice 1   \n11        Austrian Grand Prix  sprint_qualifying  Practice 1   \n12         British Grand Prix       conventional  Practice 1   \n13       Hungarian Grand Prix       conventional  Practice 1   \n14         Belgian Grand Prix       conventional  Practice 1   \n15           Dutch Grand Prix       conventional  Practice 1   \n16         Italian Grand Prix       conventional  Practice 1   \n\n                 Session1Date     Session1DateUtc  ...    Session3  \\\n0   2024-02-21 10:00:00+03:00 2024-02-21 07:00:00  ...  Practice 3   \n1   2024-02-29 14:30:00+03:00 2024-02-29 11:30:00  ...  Practice 3   \n2   2024-03-07 16:30:00+03:00 2024-03-07 13:30:00  ...  Practice 3   \n3   2024-03-22 12:30:00+11:00 2024-03-22 01:30:00  ...  Practice 3   \n4   2024-04-05 11:30:00+09:00 2024-04-05 02:30:00  ...  Practice 3   \n5   2024-04-19 11:30:00+08:00 2024-04-19 03:30:00  ...      Sprint   \n6   2024-05-03 12:30:00-04:00 2024-05-03 16:30:00  ...      Sprint   \n7   2024-05-17 13:30:00+02:00 2024-05-17 11:30:00  ...  Practice 3   \n8   2024-05-24 13:30:00+02:00 2024-05-24 11:30:00  ...  Practice 3   \n9   2024-06-07 13:30:00-04:00 2024-06-07 17:30:00  ...  Practice 3   \n10  2024-06-21 13:30:00+02:00 2024-06-21 11:30:00  ...  Practice 3   \n11  2024-06-28 12:30:00+02:00 2024-06-28 10:30:00  ...      Sprint   \n12  2024-07-05 12:30:00+01:00 2024-07-05 11:30:00  ...  Practice 3   \n13  2024-07-19 13:30:00+02:00 2024-07-19 11:30:00  ...  Practice 3   \n14  2024-07-26 13:30:00+02:00 2024-07-26 11:30:00  ...  Practice 3   \n15  2024-08-23 12:30:00+02:00 2024-08-23 10:30:00  ...  Practice 3   \n16  2024-08-30 13:30:00+02:00 2024-08-30 11:30:00  ...  Practice 3   \n\n                 Session3Date     Session3DateUtc    Session4  \\\n0   2024-02-23 10:00:00+03:00 2024-02-23 07:00:00        None   \n1   2024-03-01 15:30:00+03:00 2024-03-01 12:30:00  Qualifying   \n2   2024-03-08 16:30:00+03:00 2024-03-08 13:30:00  Qualifying   \n3   2024-03-23 12:30:00+11:00 2024-03-23 01:30:00  Qualifying   \n4   2024-04-06 11:30:00+09:00 2024-04-06 02:30:00  Qualifying   \n5   2024-04-20 11:00:00+08:00 2024-04-20 03:00:00  Qualifying   \n6   2024-05-04 12:00:00-04:00 2024-05-04 16:00:00  Qualifying   \n7   2024-05-18 12:30:00+02:00 2024-05-18 10:30:00  Qualifying   \n8   2024-05-25 12:30:00+02:00 2024-05-25 10:30:00  Qualifying   \n9   2024-06-08 12:30:00-04:00 2024-06-08 16:30:00  Qualifying   \n10  2024-06-22 12:30:00+02:00 2024-06-22 10:30:00  Qualifying   \n11  2024-06-29 12:00:00+02:00 2024-06-29 10:00:00  Qualifying   \n12  2024-07-06 11:30:00+01:00 2024-07-06 10:30:00  Qualifying   \n13  2024-07-20 12:30:00+02:00 2024-07-20 10:30:00  Qualifying   \n14  2024-07-27 12:30:00+02:00 2024-07-27 10:30:00  Qualifying   \n15  2024-08-24 11:30:00+02:00 2024-08-24 09:30:00  Qualifying   \n16  2024-08-31 12:30:00+02:00 2024-08-31 10:30:00  Qualifying   \n\n                 Session4Date     Session4DateUtc Session5  \\\n0                         NaT                 NaT     None   \n1   2024-03-01 19:00:00+03:00 2024-03-01 16:00:00     Race   \n2   2024-03-08 20:00:00+03:00 2024-03-08 17:00:00     Race   \n3   2024-03-23 16:00:00+11:00 2024-03-23 05:00:00     Race   \n4   2024-04-06 15:00:00+09:00 2024-04-06 06:00:00     Race   \n5   2024-04-20 15:00:00+08:00 2024-04-20 07:00:00     Race   \n6   2024-05-04 16:00:00-04:00 2024-05-04 20:00:00     Race   \n7   2024-05-18 16:00:00+02:00 2024-05-18 14:00:00     Race   \n8   2024-05-25 16:00:00+02:00 2024-05-25 14:00:00     Race   \n9   2024-06-08 16:00:00-04:00 2024-06-08 20:00:00     Race   \n10  2024-06-22 16:00:00+02:00 2024-06-22 14:00:00     Race   \n11  2024-06-29 16:00:00+02:00 2024-06-29 14:00:00     Race   \n12  2024-07-06 15:00:00+01:00 2024-07-06 14:00:00     Race   \n13  2024-07-20 16:00:00+02:00 2024-07-20 14:00:00     Race   \n14  2024-07-27 16:00:00+02:00 2024-07-27 14:00:00     Race   \n15  2024-08-24 15:00:00+02:00 2024-08-24 13:00:00     Race   \n16  2024-08-31 16:00:00+02:00 2024-08-31 14:00:00     Race   \n\n                 Session5Date     Session5DateUtc F1ApiSupport  \n0                         NaT                 NaT         True  \n1   2024-03-02 18:00:00+03:00 2024-03-02 15:00:00         True  \n2   2024-03-09 20:00:00+03:00 2024-03-09 17:00:00         True  \n3   2024-03-24 15:00:00+11:00 2024-03-24 04:00:00         True  \n4   2024-04-07 14:00:00+09:00 2024-04-07 05:00:00         True  \n5   2024-04-21 15:00:00+08:00 2024-04-21 07:00:00         True  \n6   2024-05-05 16:00:00-04:00 2024-05-05 20:00:00         True  \n7   2024-05-19 15:00:00+02:00 2024-05-19 13:00:00         True  \n8   2024-05-26 15:00:00+02:00 2024-05-26 13:00:00         True  \n9   2024-06-09 14:00:00-04:00 2024-06-09 18:00:00         True  \n10  2024-06-23 15:00:00+02:00 2024-06-23 13:00:00         True  \n11  2024-06-30 15:00:00+02:00 2024-06-30 13:00:00         True  \n12  2024-07-07 15:00:00+01:00 2024-07-07 14:00:00         True  \n13  2024-07-21 15:00:00+02:00 2024-07-21 13:00:00         True  \n14  2024-07-28 15:00:00+02:00 2024-07-28 13:00:00         True  \n15  2024-08-25 15:00:00+02:00 2024-08-25 13:00:00         True  \n16  2024-09-01 15:00:00+02:00 2024-09-01 13:00:00         True  \n\n[17 rows x 23 columns]",
      "text/html": "<div>\n<style scoped>\n    .dataframe tbody tr th:only-of-type {\n        vertical-align: middle;\n    }\n\n    .dataframe tbody tr th {\n        vertical-align: top;\n    }\n\n    .dataframe thead th {\n        text-align: right;\n    }\n</style>\n<table border=\"1\" class=\"dataframe\">\n  <thead>\n    <tr style=\"text-align: right;\">\n      <th></th>\n      <th>RoundNumber</th>\n      <th>Country</th>\n      <th>Location</th>\n      <th>OfficialEventName</th>\n      <th>EventDate</th>\n      <th>EventName</th>\n      <th>EventFormat</th>\n      <th>Session1</th>\n      <th>Session1Date</th>\n      <th>Session1DateUtc</th>\n      <th>...</th>\n      <th>Session3</th>\n      <th>Session3Date</th>\n      <th>Session3DateUtc</th>\n      <th>Session4</th>\n      <th>Session4Date</th>\n      <th>Session4DateUtc</th>\n      <th>Session5</th>\n      <th>Session5Date</th>\n      <th>Session5DateUtc</th>\n      <th>F1ApiSupport</th>\n    </tr>\n  </thead>\n  <tbody>\n    <tr>\n      <th>0</th>\n      <td>0</td>\n      <td>Bahrain</td>\n      <td>Sakhir</td>\n      <td>FORMULA 1 ARAMCO PRE-SEASON TESTING 2024</td>\n      <td>2024-02-23</td>\n      <td>Pre-Season Testing</td>\n      <td>testing</td>\n      <td>Practice 1</td>\n      <td>2024-02-21 10:00:00+03:00</td>\n      <td>2024-02-21 07:00:00</td>\n      <td>...</td>\n      <td>Practice 3</td>\n      <td>2024-02-23 10:00:00+03:00</td>\n      <td>2024-02-23 07:00:00</td>\n      <td>None</td>\n      <td>NaT</td>\n      <td>NaT</td>\n      <td>None</td>\n      <td>NaT</td>\n      <td>NaT</td>\n      <td>True</td>\n    </tr>\n    <tr>\n      <th>1</th>\n      <td>1</td>\n      <td>Bahrain</td>\n      <td>Sakhir</td>\n      <td>FORMULA 1 GULF AIR BAHRAIN GRAND PRIX 2024</td>\n      <td>2024-03-02</td>\n      <td>Bahrain Grand Prix</td>\n      <td>conventional</td>\n      <td>Practice 1</td>\n      <td>2024-02-29 14:30:00+03:00</td>\n      <td>2024-02-29 11:30:00</td>\n      <td>...</td>\n      <td>Practice 3</td>\n      <td>2024-03-01 15:30:00+03:00</td>\n      <td>2024-03-01 12:30:00</td>\n      <td>Qualifying</td>\n      <td>2024-03-01 19:00:00+03:00</td>\n      <td>2024-03-01 16:00:00</td>\n      <td>Race</td>\n      <td>2024-03-02 18:00:00+03:00</td>\n      <td>2024-03-02 15:00:00</td>\n      <td>True</td>\n    </tr>\n    <tr>\n      <th>2</th>\n      <td>2</td>\n      <td>Saudi Arabia</td>\n      <td>Jeddah</td>\n      <td>FORMULA 1 STC SAUDI ARABIAN GRAND PRIX 2024</td>\n      <td>2024-03-09</td>\n      <td>Saudi Arabian Grand Prix</td>\n      <td>conventional</td>\n      <td>Practice 1</td>\n      <td>2024-03-07 16:30:00+03:00</td>\n      <td>2024-03-07 13:30:00</td>\n      <td>...</td>\n      <td>Practice 3</td>\n      <td>2024-03-08 16:30:00+03:00</td>\n      <td>2024-03-08 13:30:00</td>\n      <td>Qualifying</td>\n      <td>2024-03-08 20:00:00+03:00</td>\n      <td>2024-03-08 17:00:00</td>\n      <td>Race</td>\n      <td>2024-03-09 20:00:00+03:00</td>\n      <td>2024-03-09 17:00:00</td>\n      <td>True</td>\n    </tr>\n    <tr>\n      <th>3</th>\n      <td>3</td>\n      <td>Australia</td>\n      <td>Melbourne</td>\n      <td>FORMULA 1 ROLEX AUSTRALIAN GRAND PRIX 2024</td>\n      <td>2024-03-24</td>\n      <td>Australian Grand Prix</td>\n      <td>conventional</td>\n      <td>Practice 1</td>\n      <td>2024-03-22 12:30:00+11:00</td>\n      <td>2024-03-22 01:30:00</td>\n      <td>...</td>\n      <td>Practice 3</td>\n      <td>2024-03-23 12:30:00+11:00</td>\n      <td>2024-03-23 01:30:00</td>\n      <td>Qualifying</td>\n      <td>2024-03-23 16:00:00+11:00</td>\n      <td>2024-03-23 05:00:00</td>\n      <td>Race</td>\n      <td>2024-03-24 15:00:00+11:00</td>\n      <td>2024-03-24 04:00:00</td>\n      <td>True</td>\n    </tr>\n    <tr>\n      <th>4</th>\n      <td>4</td>\n      <td>Japan</td>\n      <td>Suzuka</td>\n      <td>FORMULA 1 MSC CRUISES JAPANESE GRAND PRIX 2024</td>\n      <td>2024-04-07</td>\n      <td>Japanese Grand Prix</td>\n      <td>conventional</td>\n      <td>Practice 1</td>\n      <td>2024-04-05 11:30:00+09:00</td>\n      <td>2024-04-05 02:30:00</td>\n      <td>...</td>\n      <td>Practice 3</td>\n      <td>2024-04-06 11:30:00+09:00</td>\n      <td>2024-04-06 02:30:00</td>\n      <td>Qualifying</td>\n      <td>2024-04-06 15:00:00+09:00</td>\n      <td>2024-04-06 06:00:00</td>\n      <td>Race</td>\n      <td>2024-04-07 14:00:00+09:00</td>\n      <td>2024-04-07 05:00:00</td>\n      <td>True</td>\n    </tr>\n    <tr>\n      <th>5</th>\n      <td>5</td>\n      <td>China</td>\n      <td>Shanghai</td>\n      <td>FORMULA 1 LENOVO CHINESE GRAND PRIX 2024</td>\n      <td>2024-04-21</td>\n      <td>Chinese Grand Prix</td>\n      <td>sprint_qualifying</td>\n      <td>Practice 1</td>\n      <td>2024-04-19 11:30:00+08:00</td>\n      <td>2024-04-19 03:30:00</td>\n      <td>...</td>\n      <td>Sprint</td>\n      <td>2024-04-20 11:00:00+08:00</td>\n      <td>2024-04-20 03:00:00</td>\n      <td>Qualifying</td>\n      <td>2024-04-20 15:00:00+08:00</td>\n      <td>2024-04-20 07:00:00</td>\n      <td>Race</td>\n      <td>2024-04-21 15:00:00+08:00</td>\n      <td>2024-04-21 07:00:00</td>\n      <td>True</td>\n    </tr>\n    <tr>\n      <th>6</th>\n      <td>6</td>\n      <td>United States</td>\n      <td>Miami</td>\n      <td>FORMULA 1 CRYPTO.COM MIAMI GRAND PRIX 2024</td>\n      <td>2024-05-05</td>\n      <td>Miami Grand Prix</td>\n      <td>sprint_qualifying</td>\n      <td>Practice 1</td>\n      <td>2024-05-03 12:30:00-04:00</td>\n      <td>2024-05-03 16:30:00</td>\n      <td>...</td>\n      <td>Sprint</td>\n      <td>2024-05-04 12:00:00-04:00</td>\n      <td>2024-05-04 16:00:00</td>\n      <td>Qualifying</td>\n      <td>2024-05-04 16:00:00-04:00</td>\n      <td>2024-05-04 20:00:00</td>\n      <td>Race</td>\n      <td>2024-05-05 16:00:00-04:00</td>\n      <td>2024-05-05 20:00:00</td>\n      <td>True</td>\n    </tr>\n    <tr>\n      <th>7</th>\n      <td>7</td>\n      <td>Italy</td>\n      <td>Imola</td>\n      <td>FORMULA 1 MSC CRUISES GRAN PREMIO DEL MADE IN ...</td>\n      <td>2024-05-19</td>\n      <td>Emilia Romagna Grand Prix</td>\n      <td>conventional</td>\n      <td>Practice 1</td>\n      <td>2024-05-17 13:30:00+02:00</td>\n      <td>2024-05-17 11:30:00</td>\n      <td>...</td>\n      <td>Practice 3</td>\n      <td>2024-05-18 12:30:00+02:00</td>\n      <td>2024-05-18 10:30:00</td>\n      <td>Qualifying</td>\n      <td>2024-05-18 16:00:00+02:00</td>\n      <td>2024-05-18 14:00:00</td>\n      <td>Race</td>\n      <td>2024-05-19 15:00:00+02:00</td>\n      <td>2024-05-19 13:00:00</td>\n      <td>True</td>\n    </tr>\n    <tr>\n      <th>8</th>\n      <td>8</td>\n      <td>Monaco</td>\n      <td>Monaco</td>\n      <td>FORMULA 1 GRAND PRIX DE MONACO 2024</td>\n      <td>2024-05-26</td>\n      <td>Monaco Grand Prix</td>\n      <td>conventional</td>\n      <td>Practice 1</td>\n      <td>2024-05-24 13:30:00+02:00</td>\n      <td>2024-05-24 11:30:00</td>\n      <td>...</td>\n      <td>Practice 3</td>\n      <td>2024-05-25 12:30:00+02:00</td>\n      <td>2024-05-25 10:30:00</td>\n      <td>Qualifying</td>\n      <td>2024-05-25 16:00:00+02:00</td>\n      <td>2024-05-25 14:00:00</td>\n      <td>Race</td>\n      <td>2024-05-26 15:00:00+02:00</td>\n      <td>2024-05-26 13:00:00</td>\n      <td>True</td>\n    </tr>\n    <tr>\n      <th>9</th>\n      <td>9</td>\n      <td>Canada</td>\n      <td>Montréal</td>\n      <td>FORMULA 1 AWS GRAND PRIX DU CANADA 2024</td>\n      <td>2024-06-09</td>\n      <td>Canadian Grand Prix</td>\n      <td>conventional</td>\n      <td>Practice 1</td>\n      <td>2024-06-07 13:30:00-04:00</td>\n      <td>2024-06-07 17:30:00</td>\n      <td>...</td>\n      <td>Practice 3</td>\n      <td>2024-06-08 12:30:00-04:00</td>\n      <td>2024-06-08 16:30:00</td>\n      <td>Qualifying</td>\n      <td>2024-06-08 16:00:00-04:00</td>\n      <td>2024-06-08 20:00:00</td>\n      <td>Race</td>\n      <td>2024-06-09 14:00:00-04:00</td>\n      <td>2024-06-09 18:00:00</td>\n      <td>True</td>\n    </tr>\n    <tr>\n      <th>10</th>\n      <td>10</td>\n      <td>Spain</td>\n      <td>Barcelona</td>\n      <td>FORMULA 1 ARAMCO GRAN PREMIO DE ESPAÑA 2024</td>\n      <td>2024-06-23</td>\n      <td>Spanish Grand Prix</td>\n      <td>conventional</td>\n      <td>Practice 1</td>\n      <td>2024-06-21 13:30:00+02:00</td>\n      <td>2024-06-21 11:30:00</td>\n      <td>...</td>\n      <td>Practice 3</td>\n      <td>2024-06-22 12:30:00+02:00</td>\n      <td>2024-06-22 10:30:00</td>\n      <td>Qualifying</td>\n      <td>2024-06-22 16:00:00+02:00</td>\n      <td>2024-06-22 14:00:00</td>\n      <td>Race</td>\n      <td>2024-06-23 15:00:00+02:00</td>\n      <td>2024-06-23 13:00:00</td>\n      <td>True</td>\n    </tr>\n    <tr>\n      <th>11</th>\n      <td>11</td>\n      <td>Austria</td>\n      <td>Spielberg</td>\n      <td>FORMULA 1 QATAR AIRWAYS AUSTRIAN GRAND PRIX 2024</td>\n      <td>2024-06-30</td>\n      <td>Austrian Grand Prix</td>\n      <td>sprint_qualifying</td>\n      <td>Practice 1</td>\n      <td>2024-06-28 12:30:00+02:00</td>\n      <td>2024-06-28 10:30:00</td>\n      <td>...</td>\n      <td>Sprint</td>\n      <td>2024-06-29 12:00:00+02:00</td>\n      <td>2024-06-29 10:00:00</td>\n      <td>Qualifying</td>\n      <td>2024-06-29 16:00:00+02:00</td>\n      <td>2024-06-29 14:00:00</td>\n      <td>Race</td>\n      <td>2024-06-30 15:00:00+02:00</td>\n      <td>2024-06-30 13:00:00</td>\n      <td>True</td>\n    </tr>\n    <tr>\n      <th>12</th>\n      <td>12</td>\n      <td>United Kingdom</td>\n      <td>Silverstone</td>\n      <td>FORMULA 1 QATAR AIRWAYS BRITISH GRAND PRIX 2024</td>\n      <td>2024-07-07</td>\n      <td>British Grand Prix</td>\n      <td>conventional</td>\n      <td>Practice 1</td>\n      <td>2024-07-05 12:30:00+01:00</td>\n      <td>2024-07-05 11:30:00</td>\n      <td>...</td>\n      <td>Practice 3</td>\n      <td>2024-07-06 11:30:00+01:00</td>\n      <td>2024-07-06 10:30:00</td>\n      <td>Qualifying</td>\n      <td>2024-07-06 15:00:00+01:00</td>\n      <td>2024-07-06 14:00:00</td>\n      <td>Race</td>\n      <td>2024-07-07 15:00:00+01:00</td>\n      <td>2024-07-07 14:00:00</td>\n      <td>True</td>\n    </tr>\n    <tr>\n      <th>13</th>\n      <td>13</td>\n      <td>Hungary</td>\n      <td>Budapest</td>\n      <td>FORMULA 1 HUNGARIAN GRAND PRIX 2024</td>\n      <td>2024-07-21</td>\n      <td>Hungarian Grand Prix</td>\n      <td>conventional</td>\n      <td>Practice 1</td>\n      <td>2024-07-19 13:30:00+02:00</td>\n      <td>2024-07-19 11:30:00</td>\n      <td>...</td>\n      <td>Practice 3</td>\n      <td>2024-07-20 12:30:00+02:00</td>\n      <td>2024-07-20 10:30:00</td>\n      <td>Qualifying</td>\n      <td>2024-07-20 16:00:00+02:00</td>\n      <td>2024-07-20 14:00:00</td>\n      <td>Race</td>\n      <td>2024-07-21 15:00:00+02:00</td>\n      <td>2024-07-21 13:00:00</td>\n      <td>True</td>\n    </tr>\n    <tr>\n      <th>14</th>\n      <td>14</td>\n      <td>Belgium</td>\n      <td>Spa-Francorchamps</td>\n      <td>FORMULA 1 ROLEX BELGIAN GRAND PRIX 2024</td>\n      <td>2024-07-28</td>\n      <td>Belgian Grand Prix</td>\n      <td>conventional</td>\n      <td>Practice 1</td>\n      <td>2024-07-26 13:30:00+02:00</td>\n      <td>2024-07-26 11:30:00</td>\n      <td>...</td>\n      <td>Practice 3</td>\n      <td>2024-07-27 12:30:00+02:00</td>\n      <td>2024-07-27 10:30:00</td>\n      <td>Qualifying</td>\n      <td>2024-07-27 16:00:00+02:00</td>\n      <td>2024-07-27 14:00:00</td>\n      <td>Race</td>\n      <td>2024-07-28 15:00:00+02:00</td>\n      <td>2024-07-28 13:00:00</td>\n      <td>True</td>\n    </tr>\n    <tr>\n      <th>15</th>\n      <td>15</td>\n      <td>Netherlands</td>\n      <td>Zandvoort</td>\n      <td>FORMULA 1 HEINEKEN DUTCH GRAND PRIX 2024</td>\n      <td>2024-08-25</td>\n      <td>Dutch Grand Prix</td>\n      <td>conventional</td>\n      <td>Practice 1</td>\n      <td>2024-08-23 12:30:00+02:00</td>\n      <td>2024-08-23 10:30:00</td>\n      <td>...</td>\n      <td>Practice 3</td>\n      <td>2024-08-24 11:30:00+02:00</td>\n      <td>2024-08-24 09:30:00</td>\n      <td>Qualifying</td>\n      <td>2024-08-24 15:00:00+02:00</td>\n      <td>2024-08-24 13:00:00</td>\n      <td>Race</td>\n      <td>2024-08-25 15:00:00+02:00</td>\n      <td>2024-08-25 13:00:00</td>\n      <td>True</td>\n    </tr>\n    <tr>\n      <th>16</th>\n      <td>16</td>\n      <td>Italy</td>\n      <td>Monza</td>\n      <td>FORMULA 1 PIRELLI GRAN PREMIO D’ITALIA 2024</td>\n      <td>2024-09-01</td>\n      <td>Italian Grand Prix</td>\n      <td>conventional</td>\n      <td>Practice 1</td>\n      <td>2024-08-30 13:30:00+02:00</td>\n      <td>2024-08-30 11:30:00</td>\n      <td>...</td>\n      <td>Practice 3</td>\n      <td>2024-08-31 12:30:00+02:00</td>\n      <td>2024-08-31 10:30:00</td>\n      <td>Qualifying</td>\n      <td>2024-08-31 16:00:00+02:00</td>\n      <td>2024-08-31 14:00:00</td>\n      <td>Race</td>\n      <td>2024-09-01 15:00:00+02:00</td>\n      <td>2024-09-01 13:00:00</td>\n      <td>True</td>\n    </tr>\n  </tbody>\n</table>\n<p>17 rows × 23 columns</p>\n</div>"
     },
     "execution_count": 51,
     "metadata": {},
     "output_type": "execute_result"
    }
   ],
   "source": [
    "event_schedule = f1.get_event_schedule(2024)\n",
    "\n",
    "event_schedule[event_schedule.Session1DateUtc < pd.Timestamp.today()]"
   ],
   "metadata": {
    "collapsed": false,
    "ExecuteTime": {
     "end_time": "2024-09-09T21:44:10.841129800Z",
     "start_time": "2024-09-09T21:44:09.543776200Z"
    }
   },
   "id": "c548990668a1fa37",
   "execution_count": 51
  },
  {
   "cell_type": "code",
   "outputs": [
    {
     "name": "stderr",
     "output_type": "stream",
     "text": [
      "core           INFO \tLoading data for Italian Grand Prix - Practice 1 [v3.3.5]\n",
      "req            INFO \tUsing cached data for session_info\n",
      "req            INFO \tUsing cached data for driver_info\n",
      "req            INFO \tUsing cached data for session_status_data\n",
      "req            INFO \tUsing cached data for track_status_data\n",
      "req            INFO \tUsing cached data for _extended_timing_data\n",
      "req            INFO \tUsing cached data for timing_app_data\n",
      "core           INFO \tProcessing timing data...\n",
      "core        WARNING \tNo lap data for driver 63\n",
      "core        WARNING \tFailed to perform lap accuracy check - all laps marked as inaccurate (driver 63)\n",
      "core           INFO \tFinished loading data for 21 drivers: ['1', '10', '11', '12', '14', '16', '18', '20', '22', '23', '24', '27', '3', '31', '4', '43', '44', '55', '63', '77', '81']\n",
      "core           INFO \tLoading data for Italian Grand Prix - Practice 2 [v3.3.5]\n",
      "req            INFO \tUsing cached data for session_info\n",
      "req            INFO \tUsing cached data for driver_info\n",
      "req            INFO \tUsing cached data for session_status_data\n",
      "req            INFO \tUsing cached data for track_status_data\n",
      "req            INFO \tUsing cached data for _extended_timing_data\n",
      "req            INFO \tUsing cached data for timing_app_data\n",
      "core           INFO \tProcessing timing data...\n"
     ]
    },
    {
     "name": "stdout",
     "output_type": "stream",
     "text": [
      "FP1 finished loading\n"
     ]
    },
    {
     "name": "stderr",
     "output_type": "stream",
     "text": [
      "core           INFO \tFinished loading data for 20 drivers: ['1', '10', '11', '14', '16', '18', '20', '22', '23', '24', '27', '3', '31', '4', '43', '44', '55', '63', '77', '81']\n",
      "core           INFO \tLoading data for Italian Grand Prix - Practice 3 [v3.3.5]\n",
      "req            INFO \tUsing cached data for session_info\n",
      "req            INFO \tUsing cached data for driver_info\n",
      "req            INFO \tUsing cached data for session_status_data\n",
      "req            INFO \tUsing cached data for track_status_data\n",
      "req            INFO \tUsing cached data for _extended_timing_data\n",
      "req            INFO \tUsing cached data for timing_app_data\n",
      "core           INFO \tProcessing timing data...\n"
     ]
    },
    {
     "name": "stdout",
     "output_type": "stream",
     "text": [
      "FP2 finished loading\n"
     ]
    },
    {
     "name": "stderr",
     "output_type": "stream",
     "text": [
      "core           INFO \tFinished loading data for 20 drivers: ['1', '10', '11', '14', '16', '18', '20', '22', '23', '24', '27', '3', '31', '4', '43', '44', '55', '63', '77', '81']\n"
     ]
    },
    {
     "name": "stdout",
     "output_type": "stream",
     "text": [
      "FP3 finished loading\n"
     ]
    }
   ],
   "source": [
    "practice_sessions = {\"FP1\": f1.get_session(2024, 16, 'FP1'), \"FP2\":f1.get_session(2024, 16, 'FP2'), \"FP3\":f1.get_session(2024, 16, 'FP3')}\n",
    "\n",
    "for session in practice_sessions:\n",
    "    practice_sessions[session].load(telemetry=False, weather=False, messages=False)\n",
    "    print(f\"{session} finished loading\")"
   ],
   "metadata": {
    "collapsed": false,
    "ExecuteTime": {
     "end_time": "2024-09-12T19:02:33.279541300Z",
     "start_time": "2024-09-12T19:02:27.118733100Z"
    }
   },
   "id": "f861d2a5ce33f9df",
   "execution_count": 61
  },
  {
   "cell_type": "code",
   "outputs": [
    {
     "name": "stdout",
     "output_type": "stream",
     "text": [
      "Analyzing FP1\n",
      "Analyzing FP2\n",
      "Analyzing FP3\n"
     ]
    },
    {
     "data": {
      "text/plain": "    Session Driver  Stint  FreshTyre    Tire  Number of Laps  \\\n29      FP3    ALO    7.0       True    SOFT               1   \n35      FP3    ALO    8.0      False    SOFT               1   \n43      FP3    ALO    6.0      False    SOFT               1   \n44      FP2    ALO    2.0       True    SOFT               1   \n65      FP3    ALO    4.0       True    SOFT               1   \n92      FP1    ALO    5.0      False    SOFT               1   \n95      FP1    ALO    4.0       True    SOFT               1   \n131     FP2    ALO    4.0      False  MEDIUM               8   \n173     FP1    ALO    3.0      False  MEDIUM               5   \n191     FP3    ALO    9.0      False    SOFT               2   \n216     FP2    ALO    5.0      False    SOFT               2   \n218     FP2    ALO    1.0       True  MEDIUM               4   \n\n               Fastest Lap            Avg LapTime  \n29  0 days 00:01:20.968000 0 days 00:01:20.968000  \n35  0 days 00:01:21.148000 0 days 00:01:21.148000  \n43  0 days 00:01:21.314000 0 days 00:01:21.314000  \n44  0 days 00:01:21.316000 0 days 00:01:21.316000  \n65  0 days 00:01:21.732000 0 days 00:01:21.732000  \n92  0 days 00:01:22.315000 0 days 00:01:22.315000  \n95  0 days 00:01:22.374000 0 days 00:01:22.374000  \n131 0 days 00:01:25.760000 0 days 00:01:26.207250  \n173 0 days 00:01:23.349000 0 days 00:01:38.352400  \n191 0 days 00:01:31.029000 0 days 00:01:41.266500  \n216 0 days 00:01:25.428000 0 days 00:01:46.273500  \n218 0 days 00:01:22.353000 0 days 00:01:46.959750  ",
      "text/html": "<div>\n<style scoped>\n    .dataframe tbody tr th:only-of-type {\n        vertical-align: middle;\n    }\n\n    .dataframe tbody tr th {\n        vertical-align: top;\n    }\n\n    .dataframe thead th {\n        text-align: right;\n    }\n</style>\n<table border=\"1\" class=\"dataframe\">\n  <thead>\n    <tr style=\"text-align: right;\">\n      <th></th>\n      <th>Session</th>\n      <th>Driver</th>\n      <th>Stint</th>\n      <th>FreshTyre</th>\n      <th>Tire</th>\n      <th>Number of Laps</th>\n      <th>Fastest Lap</th>\n      <th>Avg LapTime</th>\n    </tr>\n  </thead>\n  <tbody>\n    <tr>\n      <th>29</th>\n      <td>FP3</td>\n      <td>ALO</td>\n      <td>7.0</td>\n      <td>True</td>\n      <td>SOFT</td>\n      <td>1</td>\n      <td>0 days 00:01:20.968000</td>\n      <td>0 days 00:01:20.968000</td>\n    </tr>\n    <tr>\n      <th>35</th>\n      <td>FP3</td>\n      <td>ALO</td>\n      <td>8.0</td>\n      <td>False</td>\n      <td>SOFT</td>\n      <td>1</td>\n      <td>0 days 00:01:21.148000</td>\n      <td>0 days 00:01:21.148000</td>\n    </tr>\n    <tr>\n      <th>43</th>\n      <td>FP3</td>\n      <td>ALO</td>\n      <td>6.0</td>\n      <td>False</td>\n      <td>SOFT</td>\n      <td>1</td>\n      <td>0 days 00:01:21.314000</td>\n      <td>0 days 00:01:21.314000</td>\n    </tr>\n    <tr>\n      <th>44</th>\n      <td>FP2</td>\n      <td>ALO</td>\n      <td>2.0</td>\n      <td>True</td>\n      <td>SOFT</td>\n      <td>1</td>\n      <td>0 days 00:01:21.316000</td>\n      <td>0 days 00:01:21.316000</td>\n    </tr>\n    <tr>\n      <th>65</th>\n      <td>FP3</td>\n      <td>ALO</td>\n      <td>4.0</td>\n      <td>True</td>\n      <td>SOFT</td>\n      <td>1</td>\n      <td>0 days 00:01:21.732000</td>\n      <td>0 days 00:01:21.732000</td>\n    </tr>\n    <tr>\n      <th>92</th>\n      <td>FP1</td>\n      <td>ALO</td>\n      <td>5.0</td>\n      <td>False</td>\n      <td>SOFT</td>\n      <td>1</td>\n      <td>0 days 00:01:22.315000</td>\n      <td>0 days 00:01:22.315000</td>\n    </tr>\n    <tr>\n      <th>95</th>\n      <td>FP1</td>\n      <td>ALO</td>\n      <td>4.0</td>\n      <td>True</td>\n      <td>SOFT</td>\n      <td>1</td>\n      <td>0 days 00:01:22.374000</td>\n      <td>0 days 00:01:22.374000</td>\n    </tr>\n    <tr>\n      <th>131</th>\n      <td>FP2</td>\n      <td>ALO</td>\n      <td>4.0</td>\n      <td>False</td>\n      <td>MEDIUM</td>\n      <td>8</td>\n      <td>0 days 00:01:25.760000</td>\n      <td>0 days 00:01:26.207250</td>\n    </tr>\n    <tr>\n      <th>173</th>\n      <td>FP1</td>\n      <td>ALO</td>\n      <td>3.0</td>\n      <td>False</td>\n      <td>MEDIUM</td>\n      <td>5</td>\n      <td>0 days 00:01:23.349000</td>\n      <td>0 days 00:01:38.352400</td>\n    </tr>\n    <tr>\n      <th>191</th>\n      <td>FP3</td>\n      <td>ALO</td>\n      <td>9.0</td>\n      <td>False</td>\n      <td>SOFT</td>\n      <td>2</td>\n      <td>0 days 00:01:31.029000</td>\n      <td>0 days 00:01:41.266500</td>\n    </tr>\n    <tr>\n      <th>216</th>\n      <td>FP2</td>\n      <td>ALO</td>\n      <td>5.0</td>\n      <td>False</td>\n      <td>SOFT</td>\n      <td>2</td>\n      <td>0 days 00:01:25.428000</td>\n      <td>0 days 00:01:46.273500</td>\n    </tr>\n    <tr>\n      <th>218</th>\n      <td>FP2</td>\n      <td>ALO</td>\n      <td>1.0</td>\n      <td>True</td>\n      <td>MEDIUM</td>\n      <td>4</td>\n      <td>0 days 00:01:22.353000</td>\n      <td>0 days 00:01:46.959750</td>\n    </tr>\n  </tbody>\n</table>\n</div>"
     },
     "execution_count": 64,
     "metadata": {},
     "output_type": "execute_result"
    }
   ],
   "source": [
    "def sort_func(e):\n",
    "    return e[-1]\n",
    "\n",
    "# I want to find the fastest stints\n",
    "stints = []\n",
    "for session_name in practice_sessions:\n",
    "    print(f\"Analyzing {session_name}\")\n",
    "    session_laps = practice_sessions[session_name].laps.dropna(subset=['LapTime'])\n",
    "    drivers = session_laps.Driver.unique()\n",
    "    for driver in drivers:\n",
    "        driver_session_laps = session_laps.pick_driver(driver).pick_wo_box()\n",
    "        driver_stints = driver_session_laps.Stint.unique()\n",
    "        for stint in driver_stints:\n",
    "            driver_stint_laps = driver_session_laps[driver_session_laps['Stint'] == stint]\n",
    "            fastest_stint_lap = driver_stint_laps['LapTime'].min()\n",
    "            if not pd.isnull(np.mean(driver_stint_laps['LapTime'])):\n",
    "                stint_data = [session_name, driver, stint, driver_stint_laps[\"FreshTyre\"].unique()[0], driver_stint_laps[\"Compound\"].unique()[0], len(driver_stint_laps), fastest_stint_lap, np.mean(driver_stint_laps['LapTime'])]\n",
    "                stints.append(stint_data)\n",
    "                \n",
    "stints.sort(key=sort_func)\n",
    "df = pd.DataFrame(stints, columns=['Session', 'Driver', 'Stint', 'FreshTyre', 'Tire', 'Number of Laps', 'Fastest Lap', 'Avg LapTime'])\n",
    "\n",
    "# Seems to be able to let the quali runs rise to the top\n",
    "# The original goal was to find race pace but this can be used\n",
    "# Going to look at numbers of laps == 3 for quali runs\n",
    "\n",
    "display_df = df[df[\"Driver\"] == \"ALO\"]\n",
    "#display_df = display_df[display_df[\"Session\"] == \"FP1\"]\n",
    "# actual results for quali was NOR PIA RUS\n",
    "# if you look at the quali runs mclaren did not do a real quali run but that doesnt matter bc they knew they were on top\n",
    "# looking at the #1 quali runs you can easily see that merc and ferrari were next up\n",
    "\n",
    "display_df"
   ],
   "metadata": {
    "collapsed": false,
    "ExecuteTime": {
     "end_time": "2024-09-12T19:09:01.171301Z",
     "start_time": "2024-09-12T19:08:58.791360200Z"
    }
   },
   "id": "18c4670254dd2a67",
   "execution_count": 64
  },
  {
   "cell_type": "code",
   "outputs": [
    {
     "name": "stdout",
     "output_type": "stream",
     "text": [
      "Analyzing FP1\n",
      "Analyzing FP2\n",
      "Analyzing FP3\n"
     ]
    },
    {
     "data": {
      "text/plain": "   Session Driver            Fastest Lap               Avg LapTime\n0      FP3    LEC 0 days 00:01:20.226000    0 days 00:01:20.591200\n1      FP3    PIA 0 days 00:01:20.252000    0 days 00:01:20.666000\n2      FP3    HAM 0 days 00:01:20.117000    0 days 00:01:20.785200\n3      FP3    SAI 0 days 00:01:20.463000 0 days 00:01:20.826166666\n4      FP3    ALB 0 days 00:01:20.596000    0 days 00:01:20.932750\n5      FP3    NOR 0 days 00:01:20.262000    0 days 00:01:21.253500\n6      FP3    ALO 0 days 00:01:20.968000    0 days 00:01:21.290500\n7      FP3    TSU 0 days 00:01:21.141000    0 days 00:01:21.467250\n8      FP3    STR 0 days 00:01:21.157000    0 days 00:01:21.614200\n9      FP3    COL 0 days 00:01:20.905000    0 days 00:01:21.645750\n10     FP3    GAS 0 days 00:01:21.155000 0 days 00:01:21.692333333\n11     FP3    OCO 0 days 00:01:21.258000    0 days 00:01:21.722000\n12     FP3    BOT 0 days 00:01:21.357000    0 days 00:01:21.949400\n13     FP2    MAG 0 days 00:01:21.499000 0 days 00:01:22.349666666\n14     FP3    RIC 0 days 00:01:21.077000    0 days 00:01:22.549600\n15     FP3    ZHO 0 days 00:01:22.035000    0 days 00:01:22.772750\n16     FP3    RUS 0 days 00:01:20.210000 0 days 00:01:22.837363636\n17     FP2    OCO 0 days 00:01:21.867000    0 days 00:01:23.153000\n18     FP3    HUL 0 days 00:01:20.943000    0 days 00:01:23.160875\n19     FP1    VER 0 days 00:01:21.676000    0 days 00:01:23.244500\n20     FP1    ALO 0 days 00:01:22.315000    0 days 00:01:23.492800\n21     FP1    OCO 0 days 00:01:22.880000 0 days 00:01:23.719666666\n22     FP3    VER 0 days 00:01:20.368000 0 days 00:01:23.803583333\n23     FP2    GAS 0 days 00:01:21.819000 0 days 00:01:23.869166666\n24     FP1    PER 0 days 00:01:22.311000 0 days 00:01:23.920285714\n25     FP1    NOR 0 days 00:01:21.917000 0 days 00:01:23.936545454\n26     FP2    COL 0 days 00:01:21.784000 0 days 00:01:23.943444444\n27     FP1    ANT 0 days 00:01:23.955000    0 days 00:01:23.955000\n28     FP2    PER 0 days 00:01:21.678000 0 days 00:01:24.210857142\n29     FP3    MAG 0 days 00:01:21.208000    0 days 00:01:24.241600\n30     FP2    SAI 0 days 00:01:20.841000 0 days 00:01:24.326636363\n31     FP1    STR 0 days 00:01:22.864000    0 days 00:01:24.338000\n32     FP3    PER 0 days 00:01:21.287000 0 days 00:01:24.403818181\n33     FP2    NOR 0 days 00:01:20.741000 0 days 00:01:24.486615384\n34     FP2    HAM 0 days 00:01:20.738000 0 days 00:01:24.525923076\n35     FP2    PIA 0 days 00:01:20.858000 0 days 00:01:24.546769230\n36     FP2    LEC 0 days 00:01:20.892000 0 days 00:01:24.564066666\n37     FP1    LEC 0 days 00:01:21.904000    0 days 00:01:24.623000\n38     FP1    BOT 0 days 00:01:22.127000    0 days 00:01:24.639500\n39     FP1    ALB 0 days 00:01:22.220000 0 days 00:01:24.684363636\n40     FP1    MAG 0 days 00:01:22.572000    0 days 00:01:24.714625\n41     FP2    STR 0 days 00:01:21.363000 0 days 00:01:24.754615384\n42     FP1    PIA 0 days 00:01:22.199000 0 days 00:01:24.796285714\n43     FP2    TSU 0 days 00:01:21.735000 0 days 00:01:24.816571428\n44     FP1    SAI 0 days 00:01:22.126000    0 days 00:01:24.833750\n45     FP2    HUL 0 days 00:01:21.140000    0 days 00:01:24.906000\n46     FP1    HAM 0 days 00:01:22.214000    0 days 00:01:25.072000\n47     FP2    ALB 0 days 00:01:21.592000 0 days 00:01:25.087357142\n48     FP2    RIC 0 days 00:01:21.300000    0 days 00:01:25.090300\n49     FP1    TSU 0 days 00:01:22.714000 0 days 00:01:25.099444444\n50     FP2    ALO 0 days 00:01:21.316000 0 days 00:01:25.099666666\n51     FP2    BOT 0 days 00:01:21.461000 0 days 00:01:25.187090909\n52     FP1    GAS 0 days 00:01:22.763000 0 days 00:01:25.212111111\n53     FP2    VER 0 days 00:01:21.610000 0 days 00:01:25.246833333\n54     FP1    RIC 0 days 00:01:22.605000 0 days 00:01:25.275777777\n55     FP2    RUS 0 days 00:01:21.086000    0 days 00:01:25.534750\n56     FP1    HUL 0 days 00:01:23.157000 0 days 00:01:25.824555555\n57     FP2    ZHO 0 days 00:01:22.223000 0 days 00:01:25.932454545\n58     FP1    COL 0 days 00:01:22.880000 0 days 00:01:26.008833333\n59     FP1    ZHO 0 days 00:01:22.854000    0 days 00:01:26.320200",
      "text/html": "<div>\n<style scoped>\n    .dataframe tbody tr th:only-of-type {\n        vertical-align: middle;\n    }\n\n    .dataframe tbody tr th {\n        vertical-align: top;\n    }\n\n    .dataframe thead th {\n        text-align: right;\n    }\n</style>\n<table border=\"1\" class=\"dataframe\">\n  <thead>\n    <tr style=\"text-align: right;\">\n      <th></th>\n      <th>Session</th>\n      <th>Driver</th>\n      <th>Fastest Lap</th>\n      <th>Avg LapTime</th>\n    </tr>\n  </thead>\n  <tbody>\n    <tr>\n      <th>0</th>\n      <td>FP3</td>\n      <td>LEC</td>\n      <td>0 days 00:01:20.226000</td>\n      <td>0 days 00:01:20.591200</td>\n    </tr>\n    <tr>\n      <th>1</th>\n      <td>FP3</td>\n      <td>PIA</td>\n      <td>0 days 00:01:20.252000</td>\n      <td>0 days 00:01:20.666000</td>\n    </tr>\n    <tr>\n      <th>2</th>\n      <td>FP3</td>\n      <td>HAM</td>\n      <td>0 days 00:01:20.117000</td>\n      <td>0 days 00:01:20.785200</td>\n    </tr>\n    <tr>\n      <th>3</th>\n      <td>FP3</td>\n      <td>SAI</td>\n      <td>0 days 00:01:20.463000</td>\n      <td>0 days 00:01:20.826166666</td>\n    </tr>\n    <tr>\n      <th>4</th>\n      <td>FP3</td>\n      <td>ALB</td>\n      <td>0 days 00:01:20.596000</td>\n      <td>0 days 00:01:20.932750</td>\n    </tr>\n    <tr>\n      <th>5</th>\n      <td>FP3</td>\n      <td>NOR</td>\n      <td>0 days 00:01:20.262000</td>\n      <td>0 days 00:01:21.253500</td>\n    </tr>\n    <tr>\n      <th>6</th>\n      <td>FP3</td>\n      <td>ALO</td>\n      <td>0 days 00:01:20.968000</td>\n      <td>0 days 00:01:21.290500</td>\n    </tr>\n    <tr>\n      <th>7</th>\n      <td>FP3</td>\n      <td>TSU</td>\n      <td>0 days 00:01:21.141000</td>\n      <td>0 days 00:01:21.467250</td>\n    </tr>\n    <tr>\n      <th>8</th>\n      <td>FP3</td>\n      <td>STR</td>\n      <td>0 days 00:01:21.157000</td>\n      <td>0 days 00:01:21.614200</td>\n    </tr>\n    <tr>\n      <th>9</th>\n      <td>FP3</td>\n      <td>COL</td>\n      <td>0 days 00:01:20.905000</td>\n      <td>0 days 00:01:21.645750</td>\n    </tr>\n    <tr>\n      <th>10</th>\n      <td>FP3</td>\n      <td>GAS</td>\n      <td>0 days 00:01:21.155000</td>\n      <td>0 days 00:01:21.692333333</td>\n    </tr>\n    <tr>\n      <th>11</th>\n      <td>FP3</td>\n      <td>OCO</td>\n      <td>0 days 00:01:21.258000</td>\n      <td>0 days 00:01:21.722000</td>\n    </tr>\n    <tr>\n      <th>12</th>\n      <td>FP3</td>\n      <td>BOT</td>\n      <td>0 days 00:01:21.357000</td>\n      <td>0 days 00:01:21.949400</td>\n    </tr>\n    <tr>\n      <th>13</th>\n      <td>FP2</td>\n      <td>MAG</td>\n      <td>0 days 00:01:21.499000</td>\n      <td>0 days 00:01:22.349666666</td>\n    </tr>\n    <tr>\n      <th>14</th>\n      <td>FP3</td>\n      <td>RIC</td>\n      <td>0 days 00:01:21.077000</td>\n      <td>0 days 00:01:22.549600</td>\n    </tr>\n    <tr>\n      <th>15</th>\n      <td>FP3</td>\n      <td>ZHO</td>\n      <td>0 days 00:01:22.035000</td>\n      <td>0 days 00:01:22.772750</td>\n    </tr>\n    <tr>\n      <th>16</th>\n      <td>FP3</td>\n      <td>RUS</td>\n      <td>0 days 00:01:20.210000</td>\n      <td>0 days 00:01:22.837363636</td>\n    </tr>\n    <tr>\n      <th>17</th>\n      <td>FP2</td>\n      <td>OCO</td>\n      <td>0 days 00:01:21.867000</td>\n      <td>0 days 00:01:23.153000</td>\n    </tr>\n    <tr>\n      <th>18</th>\n      <td>FP3</td>\n      <td>HUL</td>\n      <td>0 days 00:01:20.943000</td>\n      <td>0 days 00:01:23.160875</td>\n    </tr>\n    <tr>\n      <th>19</th>\n      <td>FP1</td>\n      <td>VER</td>\n      <td>0 days 00:01:21.676000</td>\n      <td>0 days 00:01:23.244500</td>\n    </tr>\n    <tr>\n      <th>20</th>\n      <td>FP1</td>\n      <td>ALO</td>\n      <td>0 days 00:01:22.315000</td>\n      <td>0 days 00:01:23.492800</td>\n    </tr>\n    <tr>\n      <th>21</th>\n      <td>FP1</td>\n      <td>OCO</td>\n      <td>0 days 00:01:22.880000</td>\n      <td>0 days 00:01:23.719666666</td>\n    </tr>\n    <tr>\n      <th>22</th>\n      <td>FP3</td>\n      <td>VER</td>\n      <td>0 days 00:01:20.368000</td>\n      <td>0 days 00:01:23.803583333</td>\n    </tr>\n    <tr>\n      <th>23</th>\n      <td>FP2</td>\n      <td>GAS</td>\n      <td>0 days 00:01:21.819000</td>\n      <td>0 days 00:01:23.869166666</td>\n    </tr>\n    <tr>\n      <th>24</th>\n      <td>FP1</td>\n      <td>PER</td>\n      <td>0 days 00:01:22.311000</td>\n      <td>0 days 00:01:23.920285714</td>\n    </tr>\n    <tr>\n      <th>25</th>\n      <td>FP1</td>\n      <td>NOR</td>\n      <td>0 days 00:01:21.917000</td>\n      <td>0 days 00:01:23.936545454</td>\n    </tr>\n    <tr>\n      <th>26</th>\n      <td>FP2</td>\n      <td>COL</td>\n      <td>0 days 00:01:21.784000</td>\n      <td>0 days 00:01:23.943444444</td>\n    </tr>\n    <tr>\n      <th>27</th>\n      <td>FP1</td>\n      <td>ANT</td>\n      <td>0 days 00:01:23.955000</td>\n      <td>0 days 00:01:23.955000</td>\n    </tr>\n    <tr>\n      <th>28</th>\n      <td>FP2</td>\n      <td>PER</td>\n      <td>0 days 00:01:21.678000</td>\n      <td>0 days 00:01:24.210857142</td>\n    </tr>\n    <tr>\n      <th>29</th>\n      <td>FP3</td>\n      <td>MAG</td>\n      <td>0 days 00:01:21.208000</td>\n      <td>0 days 00:01:24.241600</td>\n    </tr>\n    <tr>\n      <th>30</th>\n      <td>FP2</td>\n      <td>SAI</td>\n      <td>0 days 00:01:20.841000</td>\n      <td>0 days 00:01:24.326636363</td>\n    </tr>\n    <tr>\n      <th>31</th>\n      <td>FP1</td>\n      <td>STR</td>\n      <td>0 days 00:01:22.864000</td>\n      <td>0 days 00:01:24.338000</td>\n    </tr>\n    <tr>\n      <th>32</th>\n      <td>FP3</td>\n      <td>PER</td>\n      <td>0 days 00:01:21.287000</td>\n      <td>0 days 00:01:24.403818181</td>\n    </tr>\n    <tr>\n      <th>33</th>\n      <td>FP2</td>\n      <td>NOR</td>\n      <td>0 days 00:01:20.741000</td>\n      <td>0 days 00:01:24.486615384</td>\n    </tr>\n    <tr>\n      <th>34</th>\n      <td>FP2</td>\n      <td>HAM</td>\n      <td>0 days 00:01:20.738000</td>\n      <td>0 days 00:01:24.525923076</td>\n    </tr>\n    <tr>\n      <th>35</th>\n      <td>FP2</td>\n      <td>PIA</td>\n      <td>0 days 00:01:20.858000</td>\n      <td>0 days 00:01:24.546769230</td>\n    </tr>\n    <tr>\n      <th>36</th>\n      <td>FP2</td>\n      <td>LEC</td>\n      <td>0 days 00:01:20.892000</td>\n      <td>0 days 00:01:24.564066666</td>\n    </tr>\n    <tr>\n      <th>37</th>\n      <td>FP1</td>\n      <td>LEC</td>\n      <td>0 days 00:01:21.904000</td>\n      <td>0 days 00:01:24.623000</td>\n    </tr>\n    <tr>\n      <th>38</th>\n      <td>FP1</td>\n      <td>BOT</td>\n      <td>0 days 00:01:22.127000</td>\n      <td>0 days 00:01:24.639500</td>\n    </tr>\n    <tr>\n      <th>39</th>\n      <td>FP1</td>\n      <td>ALB</td>\n      <td>0 days 00:01:22.220000</td>\n      <td>0 days 00:01:24.684363636</td>\n    </tr>\n    <tr>\n      <th>40</th>\n      <td>FP1</td>\n      <td>MAG</td>\n      <td>0 days 00:01:22.572000</td>\n      <td>0 days 00:01:24.714625</td>\n    </tr>\n    <tr>\n      <th>41</th>\n      <td>FP2</td>\n      <td>STR</td>\n      <td>0 days 00:01:21.363000</td>\n      <td>0 days 00:01:24.754615384</td>\n    </tr>\n    <tr>\n      <th>42</th>\n      <td>FP1</td>\n      <td>PIA</td>\n      <td>0 days 00:01:22.199000</td>\n      <td>0 days 00:01:24.796285714</td>\n    </tr>\n    <tr>\n      <th>43</th>\n      <td>FP2</td>\n      <td>TSU</td>\n      <td>0 days 00:01:21.735000</td>\n      <td>0 days 00:01:24.816571428</td>\n    </tr>\n    <tr>\n      <th>44</th>\n      <td>FP1</td>\n      <td>SAI</td>\n      <td>0 days 00:01:22.126000</td>\n      <td>0 days 00:01:24.833750</td>\n    </tr>\n    <tr>\n      <th>45</th>\n      <td>FP2</td>\n      <td>HUL</td>\n      <td>0 days 00:01:21.140000</td>\n      <td>0 days 00:01:24.906000</td>\n    </tr>\n    <tr>\n      <th>46</th>\n      <td>FP1</td>\n      <td>HAM</td>\n      <td>0 days 00:01:22.214000</td>\n      <td>0 days 00:01:25.072000</td>\n    </tr>\n    <tr>\n      <th>47</th>\n      <td>FP2</td>\n      <td>ALB</td>\n      <td>0 days 00:01:21.592000</td>\n      <td>0 days 00:01:25.087357142</td>\n    </tr>\n    <tr>\n      <th>48</th>\n      <td>FP2</td>\n      <td>RIC</td>\n      <td>0 days 00:01:21.300000</td>\n      <td>0 days 00:01:25.090300</td>\n    </tr>\n    <tr>\n      <th>49</th>\n      <td>FP1</td>\n      <td>TSU</td>\n      <td>0 days 00:01:22.714000</td>\n      <td>0 days 00:01:25.099444444</td>\n    </tr>\n    <tr>\n      <th>50</th>\n      <td>FP2</td>\n      <td>ALO</td>\n      <td>0 days 00:01:21.316000</td>\n      <td>0 days 00:01:25.099666666</td>\n    </tr>\n    <tr>\n      <th>51</th>\n      <td>FP2</td>\n      <td>BOT</td>\n      <td>0 days 00:01:21.461000</td>\n      <td>0 days 00:01:25.187090909</td>\n    </tr>\n    <tr>\n      <th>52</th>\n      <td>FP1</td>\n      <td>GAS</td>\n      <td>0 days 00:01:22.763000</td>\n      <td>0 days 00:01:25.212111111</td>\n    </tr>\n    <tr>\n      <th>53</th>\n      <td>FP2</td>\n      <td>VER</td>\n      <td>0 days 00:01:21.610000</td>\n      <td>0 days 00:01:25.246833333</td>\n    </tr>\n    <tr>\n      <th>54</th>\n      <td>FP1</td>\n      <td>RIC</td>\n      <td>0 days 00:01:22.605000</td>\n      <td>0 days 00:01:25.275777777</td>\n    </tr>\n    <tr>\n      <th>55</th>\n      <td>FP2</td>\n      <td>RUS</td>\n      <td>0 days 00:01:21.086000</td>\n      <td>0 days 00:01:25.534750</td>\n    </tr>\n    <tr>\n      <th>56</th>\n      <td>FP1</td>\n      <td>HUL</td>\n      <td>0 days 00:01:23.157000</td>\n      <td>0 days 00:01:25.824555555</td>\n    </tr>\n    <tr>\n      <th>57</th>\n      <td>FP2</td>\n      <td>ZHO</td>\n      <td>0 days 00:01:22.223000</td>\n      <td>0 days 00:01:25.932454545</td>\n    </tr>\n    <tr>\n      <th>58</th>\n      <td>FP1</td>\n      <td>COL</td>\n      <td>0 days 00:01:22.880000</td>\n      <td>0 days 00:01:26.008833333</td>\n    </tr>\n    <tr>\n      <th>59</th>\n      <td>FP1</td>\n      <td>ZHO</td>\n      <td>0 days 00:01:22.854000</td>\n      <td>0 days 00:01:26.320200</td>\n    </tr>\n  </tbody>\n</table>\n</div>"
     },
     "execution_count": 54,
     "metadata": {},
     "output_type": "execute_result"
    }
   ],
   "source": [
    "# trying out the pick_quicklaps() function instead\n",
    "\n",
    "stints = []\n",
    "for session_name in practice_sessions:\n",
    "    print(f\"Analyzing {session_name}\")\n",
    "    session_laps = practice_sessions[session_name].laps.dropna(subset=['LapTime'])\n",
    "    drivers = session_laps.Driver.unique()\n",
    "    for driver in drivers:\n",
    "        driver_session_quicklaps = session_laps.pick_driver(driver).pick_wo_box().pick_quicklaps(threshold=1.09)\n",
    "        if not pd.isnull(np.mean(driver_session_quicklaps['LapTime'])):\n",
    "            stint_data = [session_name, driver, driver_session_quicklaps['LapTime'].min(), np.mean(driver_session_quicklaps['LapTime'])]\n",
    "            stints.append(stint_data)\n",
    "stints.sort(key=sort_func)\n",
    "df_quicklaps = pd.DataFrame(stints, columns=['Session', 'Driver', 'Fastest Lap', \"Avg LapTime\"])\n",
    "df_quicklaps#[df_quicklaps[\"Driver\"] == \"VER\"]"
   ],
   "metadata": {
    "collapsed": false,
    "ExecuteTime": {
     "end_time": "2024-09-09T21:44:21.337120300Z",
     "start_time": "2024-09-09T21:44:20.579812200Z"
    }
   },
   "id": "f80900472f961448",
   "execution_count": 54
  },
  {
   "cell_type": "code",
   "outputs": [
    {
     "name": "stdout",
     "output_type": "stream",
     "text": [
      "FP1 9\n",
      "FP2 26\n",
      "FP3 40\n"
     ]
    },
    {
     "data": {
      "text/plain": "<matplotlib.collections.PathCollection at 0x276141d4500>"
     },
     "execution_count": 55,
     "metadata": {},
     "output_type": "execute_result"
    },
    {
     "data": {
      "text/plain": "<Figure size 640x480 with 1 Axes>",
      "image/png": "[encoded data removed]"
     },
     "metadata": {},
     "output_type": "display_data"
    }
   ],
   "source": [
    "fig, ax = plt.subplots()\n",
    "lap_times = []\n",
    "\n",
    "for session_name in practice_sessions:\n",
    "    temp = practice_sessions[session_name].laps.dropna(subset=['LapTime'])\n",
    "    graph_laps = temp.pick_driver(\"VER\").pick_wo_box()\n",
    "    for lap in graph_laps.iterlaps():\n",
    "        lap_times.append(lap[1]['LapTime'].total_seconds())\n",
    "        \n",
    "    print(session_name, len(lap_times))\n",
    "        \n",
    "ax.scatter([x for x in range(len(lap_times))], lap_times)"
   ],
   "metadata": {
    "collapsed": false,
    "ExecuteTime": {
     "end_time": "2024-09-09T21:44:21.816127600Z",
     "start_time": "2024-09-09T21:44:21.333121600Z"
    }
   },
   "id": "af722233cf2ab7dc",
   "execution_count": 55
  },
  {
   "cell_type": "code",
   "outputs": [
    {
     "name": "stdout",
     "output_type": "stream",
     "text": [
      "FP1 6\n",
      "FP2 18\n",
      "FP3 30\n"
     ]
    },
    {
     "data": {
      "text/plain": "<matplotlib.collections.PathCollection at 0x27618693ce0>"
     },
     "execution_count": 56,
     "metadata": {},
     "output_type": "execute_result"
    },
    {
     "data": {
      "text/plain": "<Figure size 640x480 with 1 Axes>",
      "image/png": "[encoded data removed]"
     },
     "metadata": {},
     "output_type": "display_data"
    }
   ],
   "source": [
    "fig, ax = plt.subplots()\n",
    "lap_times = []\n",
    "\n",
    "for session_name in practice_sessions:\n",
    "    temp = practice_sessions[session_name].laps.dropna(subset=['LapTime'])\n",
    "    graph_laps = temp.pick_driver(\"VER\").pick_wo_box().pick_quicklaps(threshold=1.09)\n",
    "    for lap in graph_laps.iterlaps():\n",
    "        lap_times.append(lap[1]['LapTime'].total_seconds())\n",
    "        \n",
    "    print(session_name, len(lap_times))\n",
    "        \n",
    "ax.scatter([x for x in range(len(lap_times))], lap_times)"
   ],
   "metadata": {
    "collapsed": false,
    "ExecuteTime": {
     "end_time": "2024-09-09T21:44:22.228116100Z",
     "start_time": "2024-09-09T21:44:21.821122300Z"
    }
   },
   "id": "da45fae279cb2d1a",
   "execution_count": 56
  },
  {
   "cell_type": "markdown",
   "source": [
    "After some research, I am going to take a linear regression approach to the problem because tire age and fuel load must be taken in to consideration. This will also allow me to be able to calculate the differences in lap times for each tire."
   ],
   "metadata": {
    "collapsed": false
   },
   "id": "1bd0d79c9bfe8a4f"
  },
  {
   "cell_type": "code",
   "outputs": [
    {
     "name": "stdout",
     "output_type": "stream",
     "text": [
      "Analyzing FP1\n",
      "Analyzing FP2\n",
      "Analyzing FP3\n"
     ]
    },
    {
     "data": {
      "text/plain": "    Session Driver  Stint  FreshTyre    Tire  Number of Laps  \\\n0       FP3    RUS    3.0      False  MEDIUM               8   \n1       FP2    RUS    2.0      False  MEDIUM               7   \n2       FP2    PIA    4.0      False  MEDIUM              11   \n3       FP3    PER    3.0      False  MEDIUM               9   \n4       FP2    SAI    5.0      False  MEDIUM               9   \n..      ...    ...    ...        ...     ...             ...   \n134     FP3    SAI    2.0      False    SOFT               3   \n135     FP2    SAI    6.0      False    SOFT               4   \n136     FP3    LEC    6.0      False    SOFT               4   \n137     FP1    PER    1.0       True    SOFT               3   \n138     FP3    ZHO    6.0      False    SOFT               3   \n\n               Fastest Lap               Avg LapTime  \n0   0 days 00:01:23.023000    0 days 00:01:25.167375  \n1   0 days 00:01:24.218000 0 days 00:01:25.348857142  \n2   0 days 00:01:24.771000 0 days 00:01:26.025454545  \n3   0 days 00:01:24.654000 0 days 00:01:26.578333333  \n4   0 days 00:01:24.946000    0 days 00:01:26.660000  \n..                     ...                       ...  \n134 0 days 00:01:20.742000 0 days 00:02:02.102333333  \n135 0 days 00:01:24.171000    0 days 00:02:02.840500  \n136 0 days 00:01:20.380000    0 days 00:02:04.489250  \n137 0 days 00:01:25.177000 0 days 00:02:05.090666666  \n138 0 days 00:02:07.208000 0 days 00:02:13.654333333  \n\n[139 rows x 8 columns]",
      "text/html": "<div>\n<style scoped>\n    .dataframe tbody tr th:only-of-type {\n        vertical-align: middle;\n    }\n\n    .dataframe tbody tr th {\n        vertical-align: top;\n    }\n\n    .dataframe thead th {\n        text-align: right;\n    }\n</style>\n<table border=\"1\" class=\"dataframe\">\n  <thead>\n    <tr style=\"text-align: right;\">\n      <th></th>\n      <th>Session</th>\n      <th>Driver</th>\n      <th>Stint</th>\n      <th>FreshTyre</th>\n      <th>Tire</th>\n      <th>Number of Laps</th>\n      <th>Fastest Lap</th>\n      <th>Avg LapTime</th>\n    </tr>\n  </thead>\n  <tbody>\n    <tr>\n      <th>0</th>\n      <td>FP3</td>\n      <td>RUS</td>\n      <td>3.0</td>\n      <td>False</td>\n      <td>MEDIUM</td>\n      <td>8</td>\n      <td>0 days 00:01:23.023000</td>\n      <td>0 days 00:01:25.167375</td>\n    </tr>\n    <tr>\n      <th>1</th>\n      <td>FP2</td>\n      <td>RUS</td>\n      <td>2.0</td>\n      <td>False</td>\n      <td>MEDIUM</td>\n      <td>7</td>\n      <td>0 days 00:01:24.218000</td>\n      <td>0 days 00:01:25.348857142</td>\n    </tr>\n    <tr>\n      <th>2</th>\n      <td>FP2</td>\n      <td>PIA</td>\n      <td>4.0</td>\n      <td>False</td>\n      <td>MEDIUM</td>\n      <td>11</td>\n      <td>0 days 00:01:24.771000</td>\n      <td>0 days 00:01:26.025454545</td>\n    </tr>\n    <tr>\n      <th>3</th>\n      <td>FP3</td>\n      <td>PER</td>\n      <td>3.0</td>\n      <td>False</td>\n      <td>MEDIUM</td>\n      <td>9</td>\n      <td>0 days 00:01:24.654000</td>\n      <td>0 days 00:01:26.578333333</td>\n    </tr>\n    <tr>\n      <th>4</th>\n      <td>FP2</td>\n      <td>SAI</td>\n      <td>5.0</td>\n      <td>False</td>\n      <td>MEDIUM</td>\n      <td>9</td>\n      <td>0 days 00:01:24.946000</td>\n      <td>0 days 00:01:26.660000</td>\n    </tr>\n    <tr>\n      <th>...</th>\n      <td>...</td>\n      <td>...</td>\n      <td>...</td>\n      <td>...</td>\n      <td>...</td>\n      <td>...</td>\n      <td>...</td>\n      <td>...</td>\n    </tr>\n    <tr>\n      <th>134</th>\n      <td>FP3</td>\n      <td>SAI</td>\n      <td>2.0</td>\n      <td>False</td>\n      <td>SOFT</td>\n      <td>3</td>\n      <td>0 days 00:01:20.742000</td>\n      <td>0 days 00:02:02.102333333</td>\n    </tr>\n    <tr>\n      <th>135</th>\n      <td>FP2</td>\n      <td>SAI</td>\n      <td>6.0</td>\n      <td>False</td>\n      <td>SOFT</td>\n      <td>4</td>\n      <td>0 days 00:01:24.171000</td>\n      <td>0 days 00:02:02.840500</td>\n    </tr>\n    <tr>\n      <th>136</th>\n      <td>FP3</td>\n      <td>LEC</td>\n      <td>6.0</td>\n      <td>False</td>\n      <td>SOFT</td>\n      <td>4</td>\n      <td>0 days 00:01:20.380000</td>\n      <td>0 days 00:02:04.489250</td>\n    </tr>\n    <tr>\n      <th>137</th>\n      <td>FP1</td>\n      <td>PER</td>\n      <td>1.0</td>\n      <td>True</td>\n      <td>SOFT</td>\n      <td>3</td>\n      <td>0 days 00:01:25.177000</td>\n      <td>0 days 00:02:05.090666666</td>\n    </tr>\n    <tr>\n      <th>138</th>\n      <td>FP3</td>\n      <td>ZHO</td>\n      <td>6.0</td>\n      <td>False</td>\n      <td>SOFT</td>\n      <td>3</td>\n      <td>0 days 00:02:07.208000</td>\n      <td>0 days 00:02:13.654333333</td>\n    </tr>\n  </tbody>\n</table>\n<p>139 rows × 8 columns</p>\n</div>"
     },
     "execution_count": 57,
     "metadata": {},
     "output_type": "execute_result"
    }
   ],
   "source": [
    "# I want to only save and compare race pace stints ( > 2 lap since I am dropping the in and out laps )\n",
    "stints = []\n",
    "for session_name in practice_sessions:\n",
    "    print(f\"Analyzing {session_name}\")\n",
    "    session_laps = practice_sessions[session_name].laps.dropna(subset=['LapTime'])\n",
    "    drivers = session_laps.Driver.unique()\n",
    "    for driver in drivers:\n",
    "        driver_session_laps = session_laps.pick_driver(driver)\n",
    "        driver_stints = driver_session_laps.Stint.unique()\n",
    "        for stint in driver_stints:\n",
    "            driver_stint_laps = driver_session_laps[driver_session_laps['Stint'] == stint]\n",
    "            fastest_stint_lap = driver_stint_laps['LapTime'].min()\n",
    "            if len(driver_stint_laps) > 2:\n",
    "                if not pd.isnull(np.mean(driver_stint_laps['LapTime'])):\n",
    "                    stint_data = [session_name, driver, stint, driver_stint_laps[\"FreshTyre\"].unique()[0], driver_stint_laps[\"Compound\"].unique()[0], len(driver_stint_laps), fastest_stint_lap, np.mean(driver_stint_laps['LapTime'])]\n",
    "                    stints.append(stint_data)\n",
    "                \n",
    "stints.sort(key=sort_func)\n",
    "long_stint_df = pd.DataFrame(stints, columns=['Session', 'Driver', 'Stint', 'FreshTyre', 'Tire', 'Number of Laps', 'Fastest Lap', 'Avg LapTime'])\n",
    "\n",
    "long_stint_df"
   ],
   "metadata": {
    "collapsed": false,
    "ExecuteTime": {
     "end_time": "2024-09-09T21:44:24.193220500Z",
     "start_time": "2024-09-09T21:44:22.235119600Z"
    }
   },
   "id": "e4250d9c6fbffdd0",
   "execution_count": 57
  },
  {
   "cell_type": "code",
   "outputs": [
    {
     "name": "stdout",
     "output_type": "stream",
     "text": [
      "FP1 ALO: Skipped stint 1.0 | 1\n",
      "FP1 ALO: Skipped stint 2.0 | 1\n",
      "FP1 ALO: Skipped stint 3.0 | 1\n",
      "FP1 ALO: Skipped stint 4.0 | 1\n",
      "FP1 ALO: Skipped stint 5.0 | 1\n",
      "FP1 ALO: Skipped stint 6.0 | 2\n",
      "FP1 ALO: Skipped stint 7.0 | 2\n",
      "FP1 ALO: Skipped stint 8.0 | 2\n",
      "FP1 ALO: Skipped stint 9.0 | 2\n",
      "ALO: Skipped session FP1 | 0\n",
      "FP2 ALO: Skipped stint 1.0 | 1\n",
      "FP2 ALO: Skipped stint 2.0 | 1\n",
      "FP2 ALO: Skipped stint 3.0 | 1\n",
      "FP2 ALO: Skipped stint 4.0 | 1\n",
      "FP2 ALO: Skipped stint 5.0 | 1\n",
      "FP2 ALO: Skipped stint 6.0 | 2\n",
      "FP2 ALO: Skipped stint 7.0 | 2\n",
      "FP2 ALO: Skipped stint 8.0 | 2\n",
      "FP2 ALO: Skipped stint 9.0 | 2\n",
      "ALO: Skipped session FP2 | 0\n",
      "FP3 ALO: Skipped stint 1.0 | 1\n",
      "FP3 ALO: Skipped stint 2.0 | 1\n",
      "FP3 ALO: Skipped stint 3.0 | 1\n",
      "FP3 ALO: Skipped stint 4.0 | 1\n",
      "FP3 ALO: Skipped stint 5.0 | 1\n",
      "FP3 ALO: Skipped stint 6.0 | 2\n",
      "FP3 ALO: Skipped stint 7.0 | 2\n",
      "FP3 ALO: Skipped stint 8.0 | 2\n",
      "FP3 ALO: Skipped stint 9.0 | 2\n",
      "ALO: Skipped session FP3 | 0\n"
     ]
    },
    {
     "data": {
      "text/plain": "{'ALO': []}"
     },
     "execution_count": 63,
     "metadata": {},
     "output_type": "execute_result"
    }
   ],
   "source": [
    "# pooling all race stints together for each driver and using pick_quicklaps()\n",
    "# THIS ISNT WORKING AHHHHHHHHHHH!\n",
    "\n",
    "drivers = []\n",
    "quick_race_pace_data = []\n",
    "\n",
    "# Get all unique drivers\n",
    "for session in practice_sessions:\n",
    "    driver_list = practice_sessions[session_name].laps.Driver\n",
    "    for driver in driver_list:\n",
    "        if driver not in drivers:\n",
    "            drivers.append(driver)\n",
    "\n",
    "drivers = [\"ALO\"]\n",
    "\n",
    "driver_race_pace_laps = {}\n",
    "for driver in drivers:\n",
    "    driver_all_session_laps = []\n",
    "    for session in practice_sessions:\n",
    "        curr_session_laps = []\n",
    "        session_laps = practice_sessions[session_name].laps\n",
    "        driver_session_laps = session_laps.pick_driver(driver).dropna(subset=['LapTime'])\n",
    "        driver_stints = driver_session_laps.Stint.unique()\n",
    "        for stint in driver_stints:\n",
    "            driver_stint_laps = driver_session_laps[driver_session_laps['Stint'] == stint]\n",
    "            driver_stint_laps = driver_stint_laps\n",
    "            if len(driver_stint_laps) > 2:\n",
    "                curr_session_laps.append(driver_stint_laps)\n",
    "            else:\n",
    "                print(f\"{session} {driver}: Skipped stint {stint} | {len(driver_stint_laps)}\")\n",
    "        \n",
    "        if len(curr_session_laps) == 0:\n",
    "            print(f\"{driver}: Skipped session {session} | {len(curr_session_laps)}\")\n",
    "            continue\n",
    "        \n",
    "        driver_all_session_laps.append(pd.concat(curr_session_laps) if len(curr_session_laps) > 1 else curr_session_laps[0])\n",
    "    driver_race_pace_laps[driver] = driver_all_session_laps\n",
    "    \n",
    "driver_race_pace_laps"
   ],
   "metadata": {
    "collapsed": false,
    "ExecuteTime": {
     "end_time": "2024-09-12T19:08:42.246576800Z",
     "start_time": "2024-09-12T19:08:42.163479400Z"
    }
   },
   "id": "963e885bbb24f370",
   "execution_count": 63
  }
 ],
 "metadata": {
  "kernelspec": {
   "display_name": "Python 3",
   "language": "python",
   "name": "python3"
  },
  "language_info": {
   "codemirror_mode": {
    "name": "ipython",
    "version": 2
   },
   "file_extension": ".py",
   "mimetype": "text/x-python",
   "name": "python",
   "nbconvert_exporter": "python",
   "pygments_lexer": "ipython2",
   "version": "2.7.6"
  }
 },
 "nbformat": 4,
 "nbformat_minor": 5
}
