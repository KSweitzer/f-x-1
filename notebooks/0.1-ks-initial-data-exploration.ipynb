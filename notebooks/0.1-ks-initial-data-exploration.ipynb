{
 "cells": [
  {
   "cell_type": "code",
   "execution_count": 3,
   "id": "initial_id",
   "metadata": {
    "collapsed": true,
    "ExecuteTime": {
     "end_time": "2024-08-29T16:09:20.123475100Z",
     "start_time": "2024-08-29T16:09:20.115472100Z"
    }
   },
   "outputs": [],
   "source": [
    "import fastf1 as f1 # f1 data library\n",
    "import pandas as pd"
   ]
  },
  {
   "cell_type": "code",
   "outputs": [
    {
     "data": {
      "text/plain": "RoundNumber                                                   1\nCountry                                                 Bahrain\nLocation                                                 Sakhir\nOfficialEventName    FORMULA 1 GULF AIR BAHRAIN GRAND PRIX 2024\nEventDate                                   2024-03-02 00:00:00\nEventName                                    Bahrain Grand Prix\nEventFormat                                        conventional\nSession1                                             Practice 1\nSession1Date                          2024-02-29 14:30:00+03:00\nSession1DateUtc                             2024-02-29 11:30:00\nSession2                                             Practice 2\nSession2Date                          2024-02-29 18:00:00+03:00\nSession2DateUtc                             2024-02-29 15:00:00\nSession3                                             Practice 3\nSession3Date                          2024-03-01 15:30:00+03:00\nSession3DateUtc                             2024-03-01 12:30:00\nSession4                                             Qualifying\nSession4Date                          2024-03-01 19:00:00+03:00\nSession4DateUtc                             2024-03-01 16:00:00\nSession5                                                   Race\nSession5Date                          2024-03-02 18:00:00+03:00\nSession5DateUtc                             2024-03-02 15:00:00\nF1ApiSupport                                               True\nName: 1, dtype: object"
     },
     "execution_count": 4,
     "metadata": {},
     "output_type": "execute_result"
    }
   ],
   "source": [
    "# getting event to see what the event data looks like\n",
    "event = f1.get_event(2024, 1)\n",
    "event"
   ],
   "metadata": {
    "collapsed": false,
    "ExecuteTime": {
     "end_time": "2024-08-29T16:09:20.169057600Z",
     "start_time": "2024-08-29T16:09:20.120471400Z"
    }
   },
   "id": "ccffbfdd4df49b24",
   "execution_count": 4
  },
  {
   "cell_type": "code",
   "outputs": [
    {
     "data": {
      "text/plain": "[2024 Season Round 1: Bahrain Grand Prix - Practice 1,\n 2024 Season Round 1: Bahrain Grand Prix - Practice 2,\n 2024 Season Round 1: Bahrain Grand Prix - Practice 3,\n 2024 Season Round 1: Bahrain Grand Prix - Qualifying,\n 2024 Season Round 1: Bahrain Grand Prix - Race]"
     },
     "execution_count": 5,
     "metadata": {},
     "output_type": "execute_result"
    }
   ],
   "source": [
    "# saving each session in to a list\n",
    "sessions = [event.get_practice(1), event.get_practice(2), event.get_practice(3), event.get_qualifying(), event.get_race()]\n",
    "sessions"
   ],
   "metadata": {
    "collapsed": false,
    "ExecuteTime": {
     "end_time": "2024-08-29T16:09:20.264458500Z",
     "start_time": "2024-08-29T16:09:20.170057600Z"
    }
   },
   "id": "e04339150edcbeaa",
   "execution_count": 5
  },
  {
   "cell_type": "code",
   "outputs": [
    {
     "data": {
      "text/plain": "    RoundNumber         Country           Location  \\\n1             1         Bahrain             Sakhir   \n2             2    Saudi Arabia             Jeddah   \n3             3       Australia          Melbourne   \n4             4           Japan             Suzuka   \n5             5           China           Shanghai   \n6             6   United States              Miami   \n7             7           Italy              Imola   \n8             8          Monaco             Monaco   \n9             9          Canada           Montréal   \n10           10           Spain          Barcelona   \n11           11         Austria          Spielberg   \n12           12  United Kingdom        Silverstone   \n13           13         Hungary           Budapest   \n14           14         Belgium  Spa-Francorchamps   \n15           15     Netherlands          Zandvoort   \n\n                                    OfficialEventName  EventDate  \\\n1          FORMULA 1 GULF AIR BAHRAIN GRAND PRIX 2024 2024-03-02   \n2         FORMULA 1 STC SAUDI ARABIAN GRAND PRIX 2024 2024-03-09   \n3          FORMULA 1 ROLEX AUSTRALIAN GRAND PRIX 2024 2024-03-24   \n4      FORMULA 1 MSC CRUISES JAPANESE GRAND PRIX 2024 2024-04-07   \n5            FORMULA 1 LENOVO CHINESE GRAND PRIX 2024 2024-04-21   \n6          FORMULA 1 CRYPTO.COM MIAMI GRAND PRIX 2024 2024-05-05   \n7   FORMULA 1 MSC CRUISES GRAN PREMIO DEL MADE IN ... 2024-05-19   \n8                 FORMULA 1 GRAND PRIX DE MONACO 2024 2024-05-26   \n9             FORMULA 1 AWS GRAND PRIX DU CANADA 2024 2024-06-09   \n10        FORMULA 1 ARAMCO GRAN PREMIO DE ESPAÑA 2024 2024-06-23   \n11   FORMULA 1 QATAR AIRWAYS AUSTRIAN GRAND PRIX 2024 2024-06-30   \n12    FORMULA 1 QATAR AIRWAYS BRITISH GRAND PRIX 2024 2024-07-07   \n13                FORMULA 1 HUNGARIAN GRAND PRIX 2024 2024-07-21   \n14            FORMULA 1 ROLEX BELGIAN GRAND PRIX 2024 2024-07-28   \n15           FORMULA 1 HEINEKEN DUTCH GRAND PRIX 2024 2024-08-25   \n\n                    EventName        EventFormat    Session1  \\\n1          Bahrain Grand Prix       conventional  Practice 1   \n2    Saudi Arabian Grand Prix       conventional  Practice 1   \n3       Australian Grand Prix       conventional  Practice 1   \n4         Japanese Grand Prix       conventional  Practice 1   \n5          Chinese Grand Prix  sprint_qualifying  Practice 1   \n6            Miami Grand Prix  sprint_qualifying  Practice 1   \n7   Emilia Romagna Grand Prix       conventional  Practice 1   \n8           Monaco Grand Prix       conventional  Practice 1   \n9         Canadian Grand Prix       conventional  Practice 1   \n10         Spanish Grand Prix       conventional  Practice 1   \n11        Austrian Grand Prix  sprint_qualifying  Practice 1   \n12         British Grand Prix       conventional  Practice 1   \n13       Hungarian Grand Prix       conventional  Practice 1   \n14         Belgian Grand Prix       conventional  Practice 1   \n15           Dutch Grand Prix       conventional  Practice 1   \n\n                 Session1Date     Session1DateUtc  ...    Session3  \\\n1   2024-02-29 14:30:00+03:00 2024-02-29 11:30:00  ...  Practice 3   \n2   2024-03-07 16:30:00+03:00 2024-03-07 13:30:00  ...  Practice 3   \n3   2024-03-22 12:30:00+11:00 2024-03-22 01:30:00  ...  Practice 3   \n4   2024-04-05 11:30:00+09:00 2024-04-05 02:30:00  ...  Practice 3   \n5   2024-04-19 11:30:00+08:00 2024-04-19 03:30:00  ...      Sprint   \n6   2024-05-03 12:30:00-04:00 2024-05-03 16:30:00  ...      Sprint   \n7   2024-05-17 13:30:00+02:00 2024-05-17 11:30:00  ...  Practice 3   \n8   2024-05-24 13:30:00+02:00 2024-05-24 11:30:00  ...  Practice 3   \n9   2024-06-07 13:30:00-04:00 2024-06-07 17:30:00  ...  Practice 3   \n10  2024-06-21 13:30:00+02:00 2024-06-21 11:30:00  ...  Practice 3   \n11  2024-06-28 12:30:00+02:00 2024-06-28 10:30:00  ...      Sprint   \n12  2024-07-05 12:30:00+01:00 2024-07-05 11:30:00  ...  Practice 3   \n13  2024-07-19 13:30:00+02:00 2024-07-19 11:30:00  ...  Practice 3   \n14  2024-07-26 13:30:00+02:00 2024-07-26 11:30:00  ...  Practice 3   \n15  2024-08-23 12:30:00+02:00 2024-08-23 10:30:00  ...  Practice 3   \n\n                 Session3Date     Session3DateUtc    Session4  \\\n1   2024-03-01 15:30:00+03:00 2024-03-01 12:30:00  Qualifying   \n2   2024-03-08 16:30:00+03:00 2024-03-08 13:30:00  Qualifying   \n3   2024-03-23 12:30:00+11:00 2024-03-23 01:30:00  Qualifying   \n4   2024-04-06 11:30:00+09:00 2024-04-06 02:30:00  Qualifying   \n5   2024-04-20 11:00:00+08:00 2024-04-20 03:00:00  Qualifying   \n6   2024-05-04 12:00:00-04:00 2024-05-04 16:00:00  Qualifying   \n7   2024-05-18 12:30:00+02:00 2024-05-18 10:30:00  Qualifying   \n8   2024-05-25 12:30:00+02:00 2024-05-25 10:30:00  Qualifying   \n9   2024-06-08 12:30:00-04:00 2024-06-08 16:30:00  Qualifying   \n10  2024-06-22 12:30:00+02:00 2024-06-22 10:30:00  Qualifying   \n11  2024-06-29 12:00:00+02:00 2024-06-29 10:00:00  Qualifying   \n12  2024-07-06 11:30:00+01:00 2024-07-06 10:30:00  Qualifying   \n13  2024-07-20 12:30:00+02:00 2024-07-20 10:30:00  Qualifying   \n14  2024-07-27 12:30:00+02:00 2024-07-27 10:30:00  Qualifying   \n15  2024-08-24 11:30:00+02:00 2024-08-24 09:30:00  Qualifying   \n\n                 Session4Date     Session4DateUtc Session5  \\\n1   2024-03-01 19:00:00+03:00 2024-03-01 16:00:00     Race   \n2   2024-03-08 20:00:00+03:00 2024-03-08 17:00:00     Race   \n3   2024-03-23 16:00:00+11:00 2024-03-23 05:00:00     Race   \n4   2024-04-06 15:00:00+09:00 2024-04-06 06:00:00     Race   \n5   2024-04-20 15:00:00+08:00 2024-04-20 07:00:00     Race   \n6   2024-05-04 16:00:00-04:00 2024-05-04 20:00:00     Race   \n7   2024-05-18 16:00:00+02:00 2024-05-18 14:00:00     Race   \n8   2024-05-25 16:00:00+02:00 2024-05-25 14:00:00     Race   \n9   2024-06-08 16:00:00-04:00 2024-06-08 20:00:00     Race   \n10  2024-06-22 16:00:00+02:00 2024-06-22 14:00:00     Race   \n11  2024-06-29 16:00:00+02:00 2024-06-29 14:00:00     Race   \n12  2024-07-06 15:00:00+01:00 2024-07-06 14:00:00     Race   \n13  2024-07-20 16:00:00+02:00 2024-07-20 14:00:00     Race   \n14  2024-07-27 16:00:00+02:00 2024-07-27 14:00:00     Race   \n15  2024-08-24 15:00:00+02:00 2024-08-24 13:00:00     Race   \n\n                 Session5Date     Session5DateUtc F1ApiSupport  \n1   2024-03-02 18:00:00+03:00 2024-03-02 15:00:00         True  \n2   2024-03-09 20:00:00+03:00 2024-03-09 17:00:00         True  \n3   2024-03-24 15:00:00+11:00 2024-03-24 04:00:00         True  \n4   2024-04-07 14:00:00+09:00 2024-04-07 05:00:00         True  \n5   2024-04-21 15:00:00+08:00 2024-04-21 07:00:00         True  \n6   2024-05-05 16:00:00-04:00 2024-05-05 20:00:00         True  \n7   2024-05-19 15:00:00+02:00 2024-05-19 13:00:00         True  \n8   2024-05-26 15:00:00+02:00 2024-05-26 13:00:00         True  \n9   2024-06-09 14:00:00-04:00 2024-06-09 18:00:00         True  \n10  2024-06-23 15:00:00+02:00 2024-06-23 13:00:00         True  \n11  2024-06-30 15:00:00+02:00 2024-06-30 13:00:00         True  \n12  2024-07-07 15:00:00+01:00 2024-07-07 14:00:00         True  \n13  2024-07-21 15:00:00+02:00 2024-07-21 13:00:00         True  \n14  2024-07-28 15:00:00+02:00 2024-07-28 13:00:00         True  \n15  2024-08-25 15:00:00+02:00 2024-08-25 13:00:00         True  \n\n[15 rows x 23 columns]",
      "text/html": "<div>\n<style scoped>\n    .dataframe tbody tr th:only-of-type {\n        vertical-align: middle;\n    }\n\n    .dataframe tbody tr th {\n        vertical-align: top;\n    }\n\n    .dataframe thead th {\n        text-align: right;\n    }\n</style>\n<table border=\"1\" class=\"dataframe\">\n  <thead>\n    <tr style=\"text-align: right;\">\n      <th></th>\n      <th>RoundNumber</th>\n      <th>Country</th>\n      <th>Location</th>\n      <th>OfficialEventName</th>\n      <th>EventDate</th>\n      <th>EventName</th>\n      <th>EventFormat</th>\n      <th>Session1</th>\n      <th>Session1Date</th>\n      <th>Session1DateUtc</th>\n      <th>...</th>\n      <th>Session3</th>\n      <th>Session3Date</th>\n      <th>Session3DateUtc</th>\n      <th>Session4</th>\n      <th>Session4Date</th>\n      <th>Session4DateUtc</th>\n      <th>Session5</th>\n      <th>Session5Date</th>\n      <th>Session5DateUtc</th>\n      <th>F1ApiSupport</th>\n    </tr>\n  </thead>\n  <tbody>\n    <tr>\n      <th>1</th>\n      <td>1</td>\n      <td>Bahrain</td>\n      <td>Sakhir</td>\n      <td>FORMULA 1 GULF AIR BAHRAIN GRAND PRIX 2024</td>\n      <td>2024-03-02</td>\n      <td>Bahrain Grand Prix</td>\n      <td>conventional</td>\n      <td>Practice 1</td>\n      <td>2024-02-29 14:30:00+03:00</td>\n      <td>2024-02-29 11:30:00</td>\n      <td>...</td>\n      <td>Practice 3</td>\n      <td>2024-03-01 15:30:00+03:00</td>\n      <td>2024-03-01 12:30:00</td>\n      <td>Qualifying</td>\n      <td>2024-03-01 19:00:00+03:00</td>\n      <td>2024-03-01 16:00:00</td>\n      <td>Race</td>\n      <td>2024-03-02 18:00:00+03:00</td>\n      <td>2024-03-02 15:00:00</td>\n      <td>True</td>\n    </tr>\n    <tr>\n      <th>2</th>\n      <td>2</td>\n      <td>Saudi Arabia</td>\n      <td>Jeddah</td>\n      <td>FORMULA 1 STC SAUDI ARABIAN GRAND PRIX 2024</td>\n      <td>2024-03-09</td>\n      <td>Saudi Arabian Grand Prix</td>\n      <td>conventional</td>\n      <td>Practice 1</td>\n      <td>2024-03-07 16:30:00+03:00</td>\n      <td>2024-03-07 13:30:00</td>\n      <td>...</td>\n      <td>Practice 3</td>\n      <td>2024-03-08 16:30:00+03:00</td>\n      <td>2024-03-08 13:30:00</td>\n      <td>Qualifying</td>\n      <td>2024-03-08 20:00:00+03:00</td>\n      <td>2024-03-08 17:00:00</td>\n      <td>Race</td>\n      <td>2024-03-09 20:00:00+03:00</td>\n      <td>2024-03-09 17:00:00</td>\n      <td>True</td>\n    </tr>\n    <tr>\n      <th>3</th>\n      <td>3</td>\n      <td>Australia</td>\n      <td>Melbourne</td>\n      <td>FORMULA 1 ROLEX AUSTRALIAN GRAND PRIX 2024</td>\n      <td>2024-03-24</td>\n      <td>Australian Grand Prix</td>\n      <td>conventional</td>\n      <td>Practice 1</td>\n      <td>2024-03-22 12:30:00+11:00</td>\n      <td>2024-03-22 01:30:00</td>\n      <td>...</td>\n      <td>Practice 3</td>\n      <td>2024-03-23 12:30:00+11:00</td>\n      <td>2024-03-23 01:30:00</td>\n      <td>Qualifying</td>\n      <td>2024-03-23 16:00:00+11:00</td>\n      <td>2024-03-23 05:00:00</td>\n      <td>Race</td>\n      <td>2024-03-24 15:00:00+11:00</td>\n      <td>2024-03-24 04:00:00</td>\n      <td>True</td>\n    </tr>\n    <tr>\n      <th>4</th>\n      <td>4</td>\n      <td>Japan</td>\n      <td>Suzuka</td>\n      <td>FORMULA 1 MSC CRUISES JAPANESE GRAND PRIX 2024</td>\n      <td>2024-04-07</td>\n      <td>Japanese Grand Prix</td>\n      <td>conventional</td>\n      <td>Practice 1</td>\n      <td>2024-04-05 11:30:00+09:00</td>\n      <td>2024-04-05 02:30:00</td>\n      <td>...</td>\n      <td>Practice 3</td>\n      <td>2024-04-06 11:30:00+09:00</td>\n      <td>2024-04-06 02:30:00</td>\n      <td>Qualifying</td>\n      <td>2024-04-06 15:00:00+09:00</td>\n      <td>2024-04-06 06:00:00</td>\n      <td>Race</td>\n      <td>2024-04-07 14:00:00+09:00</td>\n      <td>2024-04-07 05:00:00</td>\n      <td>True</td>\n    </tr>\n    <tr>\n      <th>5</th>\n      <td>5</td>\n      <td>China</td>\n      <td>Shanghai</td>\n      <td>FORMULA 1 LENOVO CHINESE GRAND PRIX 2024</td>\n      <td>2024-04-21</td>\n      <td>Chinese Grand Prix</td>\n      <td>sprint_qualifying</td>\n      <td>Practice 1</td>\n      <td>2024-04-19 11:30:00+08:00</td>\n      <td>2024-04-19 03:30:00</td>\n      <td>...</td>\n      <td>Sprint</td>\n      <td>2024-04-20 11:00:00+08:00</td>\n      <td>2024-04-20 03:00:00</td>\n      <td>Qualifying</td>\n      <td>2024-04-20 15:00:00+08:00</td>\n      <td>2024-04-20 07:00:00</td>\n      <td>Race</td>\n      <td>2024-04-21 15:00:00+08:00</td>\n      <td>2024-04-21 07:00:00</td>\n      <td>True</td>\n    </tr>\n    <tr>\n      <th>6</th>\n      <td>6</td>\n      <td>United States</td>\n      <td>Miami</td>\n      <td>FORMULA 1 CRYPTO.COM MIAMI GRAND PRIX 2024</td>\n      <td>2024-05-05</td>\n      <td>Miami Grand Prix</td>\n      <td>sprint_qualifying</td>\n      <td>Practice 1</td>\n      <td>2024-05-03 12:30:00-04:00</td>\n      <td>2024-05-03 16:30:00</td>\n      <td>...</td>\n      <td>Sprint</td>\n      <td>2024-05-04 12:00:00-04:00</td>\n      <td>2024-05-04 16:00:00</td>\n      <td>Qualifying</td>\n      <td>2024-05-04 16:00:00-04:00</td>\n      <td>2024-05-04 20:00:00</td>\n      <td>Race</td>\n      <td>2024-05-05 16:00:00-04:00</td>\n      <td>2024-05-05 20:00:00</td>\n      <td>True</td>\n    </tr>\n    <tr>\n      <th>7</th>\n      <td>7</td>\n      <td>Italy</td>\n      <td>Imola</td>\n      <td>FORMULA 1 MSC CRUISES GRAN PREMIO DEL MADE IN ...</td>\n      <td>2024-05-19</td>\n      <td>Emilia Romagna Grand Prix</td>\n      <td>conventional</td>\n      <td>Practice 1</td>\n      <td>2024-05-17 13:30:00+02:00</td>\n      <td>2024-05-17 11:30:00</td>\n      <td>...</td>\n      <td>Practice 3</td>\n      <td>2024-05-18 12:30:00+02:00</td>\n      <td>2024-05-18 10:30:00</td>\n      <td>Qualifying</td>\n      <td>2024-05-18 16:00:00+02:00</td>\n      <td>2024-05-18 14:00:00</td>\n      <td>Race</td>\n      <td>2024-05-19 15:00:00+02:00</td>\n      <td>2024-05-19 13:00:00</td>\n      <td>True</td>\n    </tr>\n    <tr>\n      <th>8</th>\n      <td>8</td>\n      <td>Monaco</td>\n      <td>Monaco</td>\n      <td>FORMULA 1 GRAND PRIX DE MONACO 2024</td>\n      <td>2024-05-26</td>\n      <td>Monaco Grand Prix</td>\n      <td>conventional</td>\n      <td>Practice 1</td>\n      <td>2024-05-24 13:30:00+02:00</td>\n      <td>2024-05-24 11:30:00</td>\n      <td>...</td>\n      <td>Practice 3</td>\n      <td>2024-05-25 12:30:00+02:00</td>\n      <td>2024-05-25 10:30:00</td>\n      <td>Qualifying</td>\n      <td>2024-05-25 16:00:00+02:00</td>\n      <td>2024-05-25 14:00:00</td>\n      <td>Race</td>\n      <td>2024-05-26 15:00:00+02:00</td>\n      <td>2024-05-26 13:00:00</td>\n      <td>True</td>\n    </tr>\n    <tr>\n      <th>9</th>\n      <td>9</td>\n      <td>Canada</td>\n      <td>Montréal</td>\n      <td>FORMULA 1 AWS GRAND PRIX DU CANADA 2024</td>\n      <td>2024-06-09</td>\n      <td>Canadian Grand Prix</td>\n      <td>conventional</td>\n      <td>Practice 1</td>\n      <td>2024-06-07 13:30:00-04:00</td>\n      <td>2024-06-07 17:30:00</td>\n      <td>...</td>\n      <td>Practice 3</td>\n      <td>2024-06-08 12:30:00-04:00</td>\n      <td>2024-06-08 16:30:00</td>\n      <td>Qualifying</td>\n      <td>2024-06-08 16:00:00-04:00</td>\n      <td>2024-06-08 20:00:00</td>\n      <td>Race</td>\n      <td>2024-06-09 14:00:00-04:00</td>\n      <td>2024-06-09 18:00:00</td>\n      <td>True</td>\n    </tr>\n    <tr>\n      <th>10</th>\n      <td>10</td>\n      <td>Spain</td>\n      <td>Barcelona</td>\n      <td>FORMULA 1 ARAMCO GRAN PREMIO DE ESPAÑA 2024</td>\n      <td>2024-06-23</td>\n      <td>Spanish Grand Prix</td>\n      <td>conventional</td>\n      <td>Practice 1</td>\n      <td>2024-06-21 13:30:00+02:00</td>\n      <td>2024-06-21 11:30:00</td>\n      <td>...</td>\n      <td>Practice 3</td>\n      <td>2024-06-22 12:30:00+02:00</td>\n      <td>2024-06-22 10:30:00</td>\n      <td>Qualifying</td>\n      <td>2024-06-22 16:00:00+02:00</td>\n      <td>2024-06-22 14:00:00</td>\n      <td>Race</td>\n      <td>2024-06-23 15:00:00+02:00</td>\n      <td>2024-06-23 13:00:00</td>\n      <td>True</td>\n    </tr>\n    <tr>\n      <th>11</th>\n      <td>11</td>\n      <td>Austria</td>\n      <td>Spielberg</td>\n      <td>FORMULA 1 QATAR AIRWAYS AUSTRIAN GRAND PRIX 2024</td>\n      <td>2024-06-30</td>\n      <td>Austrian Grand Prix</td>\n      <td>sprint_qualifying</td>\n      <td>Practice 1</td>\n      <td>2024-06-28 12:30:00+02:00</td>\n      <td>2024-06-28 10:30:00</td>\n      <td>...</td>\n      <td>Sprint</td>\n      <td>2024-06-29 12:00:00+02:00</td>\n      <td>2024-06-29 10:00:00</td>\n      <td>Qualifying</td>\n      <td>2024-06-29 16:00:00+02:00</td>\n      <td>2024-06-29 14:00:00</td>\n      <td>Race</td>\n      <td>2024-06-30 15:00:00+02:00</td>\n      <td>2024-06-30 13:00:00</td>\n      <td>True</td>\n    </tr>\n    <tr>\n      <th>12</th>\n      <td>12</td>\n      <td>United Kingdom</td>\n      <td>Silverstone</td>\n      <td>FORMULA 1 QATAR AIRWAYS BRITISH GRAND PRIX 2024</td>\n      <td>2024-07-07</td>\n      <td>British Grand Prix</td>\n      <td>conventional</td>\n      <td>Practice 1</td>\n      <td>2024-07-05 12:30:00+01:00</td>\n      <td>2024-07-05 11:30:00</td>\n      <td>...</td>\n      <td>Practice 3</td>\n      <td>2024-07-06 11:30:00+01:00</td>\n      <td>2024-07-06 10:30:00</td>\n      <td>Qualifying</td>\n      <td>2024-07-06 15:00:00+01:00</td>\n      <td>2024-07-06 14:00:00</td>\n      <td>Race</td>\n      <td>2024-07-07 15:00:00+01:00</td>\n      <td>2024-07-07 14:00:00</td>\n      <td>True</td>\n    </tr>\n    <tr>\n      <th>13</th>\n      <td>13</td>\n      <td>Hungary</td>\n      <td>Budapest</td>\n      <td>FORMULA 1 HUNGARIAN GRAND PRIX 2024</td>\n      <td>2024-07-21</td>\n      <td>Hungarian Grand Prix</td>\n      <td>conventional</td>\n      <td>Practice 1</td>\n      <td>2024-07-19 13:30:00+02:00</td>\n      <td>2024-07-19 11:30:00</td>\n      <td>...</td>\n      <td>Practice 3</td>\n      <td>2024-07-20 12:30:00+02:00</td>\n      <td>2024-07-20 10:30:00</td>\n      <td>Qualifying</td>\n      <td>2024-07-20 16:00:00+02:00</td>\n      <td>2024-07-20 14:00:00</td>\n      <td>Race</td>\n      <td>2024-07-21 15:00:00+02:00</td>\n      <td>2024-07-21 13:00:00</td>\n      <td>True</td>\n    </tr>\n    <tr>\n      <th>14</th>\n      <td>14</td>\n      <td>Belgium</td>\n      <td>Spa-Francorchamps</td>\n      <td>FORMULA 1 ROLEX BELGIAN GRAND PRIX 2024</td>\n      <td>2024-07-28</td>\n      <td>Belgian Grand Prix</td>\n      <td>conventional</td>\n      <td>Practice 1</td>\n      <td>2024-07-26 13:30:00+02:00</td>\n      <td>2024-07-26 11:30:00</td>\n      <td>...</td>\n      <td>Practice 3</td>\n      <td>2024-07-27 12:30:00+02:00</td>\n      <td>2024-07-27 10:30:00</td>\n      <td>Qualifying</td>\n      <td>2024-07-27 16:00:00+02:00</td>\n      <td>2024-07-27 14:00:00</td>\n      <td>Race</td>\n      <td>2024-07-28 15:00:00+02:00</td>\n      <td>2024-07-28 13:00:00</td>\n      <td>True</td>\n    </tr>\n    <tr>\n      <th>15</th>\n      <td>15</td>\n      <td>Netherlands</td>\n      <td>Zandvoort</td>\n      <td>FORMULA 1 HEINEKEN DUTCH GRAND PRIX 2024</td>\n      <td>2024-08-25</td>\n      <td>Dutch Grand Prix</td>\n      <td>conventional</td>\n      <td>Practice 1</td>\n      <td>2024-08-23 12:30:00+02:00</td>\n      <td>2024-08-23 10:30:00</td>\n      <td>...</td>\n      <td>Practice 3</td>\n      <td>2024-08-24 11:30:00+02:00</td>\n      <td>2024-08-24 09:30:00</td>\n      <td>Qualifying</td>\n      <td>2024-08-24 15:00:00+02:00</td>\n      <td>2024-08-24 13:00:00</td>\n      <td>Race</td>\n      <td>2024-08-25 15:00:00+02:00</td>\n      <td>2024-08-25 13:00:00</td>\n      <td>True</td>\n    </tr>\n  </tbody>\n</table>\n<p>15 rows × 23 columns</p>\n</div>"
     },
     "execution_count": 6,
     "metadata": {},
     "output_type": "execute_result"
    }
   ],
   "source": [
    "# Gets all race schedule\n",
    "event_schedule = f1.get_event_schedule(2024)\n",
    "event_schedule[event_schedule.Session5DateUtc < pd.Timestamp.today()]"
   ],
   "metadata": {
    "collapsed": false,
    "ExecuteTime": {
     "end_time": "2024-08-29T16:09:20.342648300Z",
     "start_time": "2024-08-29T16:09:20.255458500Z"
    }
   },
   "id": "6d349d199c438a56",
   "execution_count": 6
  },
  {
   "cell_type": "code",
   "outputs": [
    {
     "data": {
      "text/plain": "2024"
     },
     "execution_count": 7,
     "metadata": {},
     "output_type": "execute_result"
    }
   ],
   "source": [
    "pd.Timestamp.today().year"
   ],
   "metadata": {
    "collapsed": false,
    "ExecuteTime": {
     "end_time": "2024-08-29T16:09:20.344648400Z",
     "start_time": "2024-08-29T16:09:20.336650Z"
    }
   },
   "id": "a2941755d5ee9176",
   "execution_count": 7
  },
  {
   "cell_type": "code",
   "outputs": [],
   "source": [],
   "metadata": {
    "collapsed": false,
    "ExecuteTime": {
     "start_time": "2024-08-29T16:09:21.127126800Z"
    }
   },
   "id": "c548990668a1fa37"
  }
 ],
 "metadata": {
  "kernelspec": {
   "display_name": "Python 3",
   "language": "python",
   "name": "python3"
  },
  "language_info": {
   "codemirror_mode": {
    "name": "ipython",
    "version": 2
   },
   "file_extension": ".py",
   "mimetype": "text/x-python",
   "name": "python",
   "nbconvert_exporter": "python",
   "pygments_lexer": "ipython2",
   "version": "2.7.6"
  }
 },
 "nbformat": 4,
 "nbformat_minor": 5
}
