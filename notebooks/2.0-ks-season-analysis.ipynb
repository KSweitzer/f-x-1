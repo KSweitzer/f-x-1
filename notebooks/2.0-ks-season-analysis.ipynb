{
 "cells": [
  {
   "cell_type": "code",
   "execution_count": 70,
   "id": "initial_id",
   "metadata": {
    "collapsed": true,
    "ExecuteTime": {
     "end_time": "2024-09-17T16:12:16.216926400Z",
     "start_time": "2024-09-17T16:12:16.198040300Z"
    }
   },
   "outputs": [],
   "source": [
    "import fastf1 as f1 # f1 data library\n",
    "from fastf1.ergast import Ergast\n",
    "import pandas as pd\n",
    "import numpy as np\n",
    "import plotly.express as px\n",
    "from plotly.io import show\n",
    "from collections import OrderedDict"
   ]
  },
  {
   "cell_type": "code",
   "outputs": [
    {
     "name": "stderr",
     "output_type": "stream",
     "text": [
      "C:\\Users\\kevin.sweitzer\\AppData\\Local\\Temp\\ipykernel_22392\\2196660640.py:3: DeprecationWarning:\n",
      "\n",
      "parsing timezone aware datetimes is deprecated; this will raise an error in the future\n",
      "\n"
     ]
    },
    {
     "data": {
      "text/plain": "    RoundNumber         Country           Location  \\\n1             1         Bahrain             Sakhir   \n2             2    Saudi Arabia             Jeddah   \n3             3       Australia          Melbourne   \n4             4           Japan             Suzuka   \n5             5           China           Shanghai   \n6             6   United States              Miami   \n7             7           Italy              Imola   \n8             8          Monaco             Monaco   \n9             9          Canada           Montréal   \n10           10           Spain          Barcelona   \n11           11         Austria          Spielberg   \n12           12  United Kingdom        Silverstone   \n13           13         Hungary           Budapest   \n14           14         Belgium  Spa-Francorchamps   \n15           15     Netherlands          Zandvoort   \n16           16           Italy              Monza   \n17           17      Azerbaijan               Baku   \n\n                                    OfficialEventName  EventDate  \\\n1          FORMULA 1 GULF AIR BAHRAIN GRAND PRIX 2024 2024-03-02   \n2         FORMULA 1 STC SAUDI ARABIAN GRAND PRIX 2024 2024-03-09   \n3          FORMULA 1 ROLEX AUSTRALIAN GRAND PRIX 2024 2024-03-24   \n4      FORMULA 1 MSC CRUISES JAPANESE GRAND PRIX 2024 2024-04-07   \n5            FORMULA 1 LENOVO CHINESE GRAND PRIX 2024 2024-04-21   \n6          FORMULA 1 CRYPTO.COM MIAMI GRAND PRIX 2024 2024-05-05   \n7   FORMULA 1 MSC CRUISES GRAN PREMIO DEL MADE IN ... 2024-05-19   \n8                 FORMULA 1 GRAND PRIX DE MONACO 2024 2024-05-26   \n9             FORMULA 1 AWS GRAND PRIX DU CANADA 2024 2024-06-09   \n10        FORMULA 1 ARAMCO GRAN PREMIO DE ESPAÑA 2024 2024-06-23   \n11   FORMULA 1 QATAR AIRWAYS AUSTRIAN GRAND PRIX 2024 2024-06-30   \n12    FORMULA 1 QATAR AIRWAYS BRITISH GRAND PRIX 2024 2024-07-07   \n13                FORMULA 1 HUNGARIAN GRAND PRIX 2024 2024-07-21   \n14            FORMULA 1 ROLEX BELGIAN GRAND PRIX 2024 2024-07-28   \n15           FORMULA 1 HEINEKEN DUTCH GRAND PRIX 2024 2024-08-25   \n16        FORMULA 1 PIRELLI GRAN PREMIO D’ITALIA 2024 2024-09-01   \n17  FORMULA 1 QATAR AIRWAYS AZERBAIJAN GRAND PRIX ... 2024-09-15   \n\n                    EventName        EventFormat    Session1  \\\n1          Bahrain Grand Prix       conventional  Practice 1   \n2    Saudi Arabian Grand Prix       conventional  Practice 1   \n3       Australian Grand Prix       conventional  Practice 1   \n4         Japanese Grand Prix       conventional  Practice 1   \n5          Chinese Grand Prix  sprint_qualifying  Practice 1   \n6            Miami Grand Prix  sprint_qualifying  Practice 1   \n7   Emilia Romagna Grand Prix       conventional  Practice 1   \n8           Monaco Grand Prix       conventional  Practice 1   \n9         Canadian Grand Prix       conventional  Practice 1   \n10         Spanish Grand Prix       conventional  Practice 1   \n11        Austrian Grand Prix  sprint_qualifying  Practice 1   \n12         British Grand Prix       conventional  Practice 1   \n13       Hungarian Grand Prix       conventional  Practice 1   \n14         Belgian Grand Prix       conventional  Practice 1   \n15           Dutch Grand Prix       conventional  Practice 1   \n16         Italian Grand Prix       conventional  Practice 1   \n17      Azerbaijan Grand Prix       conventional  Practice 1   \n\n                 Session1Date     Session1DateUtc  ...    Session3  \\\n1   2024-02-29 14:30:00+03:00 2024-02-29 11:30:00  ...  Practice 3   \n2   2024-03-07 16:30:00+03:00 2024-03-07 13:30:00  ...  Practice 3   \n3   2024-03-22 12:30:00+11:00 2024-03-22 01:30:00  ...  Practice 3   \n4   2024-04-05 11:30:00+09:00 2024-04-05 02:30:00  ...  Practice 3   \n5   2024-04-19 11:30:00+08:00 2024-04-19 03:30:00  ...      Sprint   \n6   2024-05-03 12:30:00-04:00 2024-05-03 16:30:00  ...      Sprint   \n7   2024-05-17 13:30:00+02:00 2024-05-17 11:30:00  ...  Practice 3   \n8   2024-05-24 13:30:00+02:00 2024-05-24 11:30:00  ...  Practice 3   \n9   2024-06-07 13:30:00-04:00 2024-06-07 17:30:00  ...  Practice 3   \n10  2024-06-21 13:30:00+02:00 2024-06-21 11:30:00  ...  Practice 3   \n11  2024-06-28 12:30:00+02:00 2024-06-28 10:30:00  ...      Sprint   \n12  2024-07-05 12:30:00+01:00 2024-07-05 11:30:00  ...  Practice 3   \n13  2024-07-19 13:30:00+02:00 2024-07-19 11:30:00  ...  Practice 3   \n14  2024-07-26 13:30:00+02:00 2024-07-26 11:30:00  ...  Practice 3   \n15  2024-08-23 12:30:00+02:00 2024-08-23 10:30:00  ...  Practice 3   \n16  2024-08-30 13:30:00+02:00 2024-08-30 11:30:00  ...  Practice 3   \n17  2024-09-13 13:30:00+04:00 2024-09-13 09:30:00  ...  Practice 3   \n\n                 Session3Date     Session3DateUtc    Session4  \\\n1   2024-03-01 15:30:00+03:00 2024-03-01 12:30:00  Qualifying   \n2   2024-03-08 16:30:00+03:00 2024-03-08 13:30:00  Qualifying   \n3   2024-03-23 12:30:00+11:00 2024-03-23 01:30:00  Qualifying   \n4   2024-04-06 11:30:00+09:00 2024-04-06 02:30:00  Qualifying   \n5   2024-04-20 11:00:00+08:00 2024-04-20 03:00:00  Qualifying   \n6   2024-05-04 12:00:00-04:00 2024-05-04 16:00:00  Qualifying   \n7   2024-05-18 12:30:00+02:00 2024-05-18 10:30:00  Qualifying   \n8   2024-05-25 12:30:00+02:00 2024-05-25 10:30:00  Qualifying   \n9   2024-06-08 12:30:00-04:00 2024-06-08 16:30:00  Qualifying   \n10  2024-06-22 12:30:00+02:00 2024-06-22 10:30:00  Qualifying   \n11  2024-06-29 12:00:00+02:00 2024-06-29 10:00:00  Qualifying   \n12  2024-07-06 11:30:00+01:00 2024-07-06 10:30:00  Qualifying   \n13  2024-07-20 12:30:00+02:00 2024-07-20 10:30:00  Qualifying   \n14  2024-07-27 12:30:00+02:00 2024-07-27 10:30:00  Qualifying   \n15  2024-08-24 11:30:00+02:00 2024-08-24 09:30:00  Qualifying   \n16  2024-08-31 12:30:00+02:00 2024-08-31 10:30:00  Qualifying   \n17  2024-09-14 12:30:00+04:00 2024-09-14 08:30:00  Qualifying   \n\n                 Session4Date     Session4DateUtc Session5  \\\n1   2024-03-01 19:00:00+03:00 2024-03-01 16:00:00     Race   \n2   2024-03-08 20:00:00+03:00 2024-03-08 17:00:00     Race   \n3   2024-03-23 16:00:00+11:00 2024-03-23 05:00:00     Race   \n4   2024-04-06 15:00:00+09:00 2024-04-06 06:00:00     Race   \n5   2024-04-20 15:00:00+08:00 2024-04-20 07:00:00     Race   \n6   2024-05-04 16:00:00-04:00 2024-05-04 20:00:00     Race   \n7   2024-05-18 16:00:00+02:00 2024-05-18 14:00:00     Race   \n8   2024-05-25 16:00:00+02:00 2024-05-25 14:00:00     Race   \n9   2024-06-08 16:00:00-04:00 2024-06-08 20:00:00     Race   \n10  2024-06-22 16:00:00+02:00 2024-06-22 14:00:00     Race   \n11  2024-06-29 16:00:00+02:00 2024-06-29 14:00:00     Race   \n12  2024-07-06 15:00:00+01:00 2024-07-06 14:00:00     Race   \n13  2024-07-20 16:00:00+02:00 2024-07-20 14:00:00     Race   \n14  2024-07-27 16:00:00+02:00 2024-07-27 14:00:00     Race   \n15  2024-08-24 15:00:00+02:00 2024-08-24 13:00:00     Race   \n16  2024-08-31 16:00:00+02:00 2024-08-31 14:00:00     Race   \n17  2024-09-14 16:00:00+04:00 2024-09-14 12:00:00     Race   \n\n                 Session5Date     Session5DateUtc F1ApiSupport  \n1   2024-03-02 18:00:00+03:00 2024-03-02 15:00:00         True  \n2   2024-03-09 20:00:00+03:00 2024-03-09 17:00:00         True  \n3   2024-03-24 15:00:00+11:00 2024-03-24 04:00:00         True  \n4   2024-04-07 14:00:00+09:00 2024-04-07 05:00:00         True  \n5   2024-04-21 15:00:00+08:00 2024-04-21 07:00:00         True  \n6   2024-05-05 16:00:00-04:00 2024-05-05 20:00:00         True  \n7   2024-05-19 15:00:00+02:00 2024-05-19 13:00:00         True  \n8   2024-05-26 15:00:00+02:00 2024-05-26 13:00:00         True  \n9   2024-06-09 14:00:00-04:00 2024-06-09 18:00:00         True  \n10  2024-06-23 15:00:00+02:00 2024-06-23 13:00:00         True  \n11  2024-06-30 15:00:00+02:00 2024-06-30 13:00:00         True  \n12  2024-07-07 15:00:00+01:00 2024-07-07 14:00:00         True  \n13  2024-07-21 15:00:00+02:00 2024-07-21 13:00:00         True  \n14  2024-07-28 15:00:00+02:00 2024-07-28 13:00:00         True  \n15  2024-08-25 15:00:00+02:00 2024-08-25 13:00:00         True  \n16  2024-09-01 15:00:00+02:00 2024-09-01 13:00:00         True  \n17  2024-09-15 15:00:00+04:00 2024-09-15 11:00:00         True  \n\n[17 rows x 23 columns]",
      "text/html": "<div>\n<style scoped>\n    .dataframe tbody tr th:only-of-type {\n        vertical-align: middle;\n    }\n\n    .dataframe tbody tr th {\n        vertical-align: top;\n    }\n\n    .dataframe thead th {\n        text-align: right;\n    }\n</style>\n<table border=\"1\" class=\"dataframe\">\n  <thead>\n    <tr style=\"text-align: right;\">\n      <th></th>\n      <th>RoundNumber</th>\n      <th>Country</th>\n      <th>Location</th>\n      <th>OfficialEventName</th>\n      <th>EventDate</th>\n      <th>EventName</th>\n      <th>EventFormat</th>\n      <th>Session1</th>\n      <th>Session1Date</th>\n      <th>Session1DateUtc</th>\n      <th>...</th>\n      <th>Session3</th>\n      <th>Session3Date</th>\n      <th>Session3DateUtc</th>\n      <th>Session4</th>\n      <th>Session4Date</th>\n      <th>Session4DateUtc</th>\n      <th>Session5</th>\n      <th>Session5Date</th>\n      <th>Session5DateUtc</th>\n      <th>F1ApiSupport</th>\n    </tr>\n  </thead>\n  <tbody>\n    <tr>\n      <th>1</th>\n      <td>1</td>\n      <td>Bahrain</td>\n      <td>Sakhir</td>\n      <td>FORMULA 1 GULF AIR BAHRAIN GRAND PRIX 2024</td>\n      <td>2024-03-02</td>\n      <td>Bahrain Grand Prix</td>\n      <td>conventional</td>\n      <td>Practice 1</td>\n      <td>2024-02-29 14:30:00+03:00</td>\n      <td>2024-02-29 11:30:00</td>\n      <td>...</td>\n      <td>Practice 3</td>\n      <td>2024-03-01 15:30:00+03:00</td>\n      <td>2024-03-01 12:30:00</td>\n      <td>Qualifying</td>\n      <td>2024-03-01 19:00:00+03:00</td>\n      <td>2024-03-01 16:00:00</td>\n      <td>Race</td>\n      <td>2024-03-02 18:00:00+03:00</td>\n      <td>2024-03-02 15:00:00</td>\n      <td>True</td>\n    </tr>\n    <tr>\n      <th>2</th>\n      <td>2</td>\n      <td>Saudi Arabia</td>\n      <td>Jeddah</td>\n      <td>FORMULA 1 STC SAUDI ARABIAN GRAND PRIX 2024</td>\n      <td>2024-03-09</td>\n      <td>Saudi Arabian Grand Prix</td>\n      <td>conventional</td>\n      <td>Practice 1</td>\n      <td>2024-03-07 16:30:00+03:00</td>\n      <td>2024-03-07 13:30:00</td>\n      <td>...</td>\n      <td>Practice 3</td>\n      <td>2024-03-08 16:30:00+03:00</td>\n      <td>2024-03-08 13:30:00</td>\n      <td>Qualifying</td>\n      <td>2024-03-08 20:00:00+03:00</td>\n      <td>2024-03-08 17:00:00</td>\n      <td>Race</td>\n      <td>2024-03-09 20:00:00+03:00</td>\n      <td>2024-03-09 17:00:00</td>\n      <td>True</td>\n    </tr>\n    <tr>\n      <th>3</th>\n      <td>3</td>\n      <td>Australia</td>\n      <td>Melbourne</td>\n      <td>FORMULA 1 ROLEX AUSTRALIAN GRAND PRIX 2024</td>\n      <td>2024-03-24</td>\n      <td>Australian Grand Prix</td>\n      <td>conventional</td>\n      <td>Practice 1</td>\n      <td>2024-03-22 12:30:00+11:00</td>\n      <td>2024-03-22 01:30:00</td>\n      <td>...</td>\n      <td>Practice 3</td>\n      <td>2024-03-23 12:30:00+11:00</td>\n      <td>2024-03-23 01:30:00</td>\n      <td>Qualifying</td>\n      <td>2024-03-23 16:00:00+11:00</td>\n      <td>2024-03-23 05:00:00</td>\n      <td>Race</td>\n      <td>2024-03-24 15:00:00+11:00</td>\n      <td>2024-03-24 04:00:00</td>\n      <td>True</td>\n    </tr>\n    <tr>\n      <th>4</th>\n      <td>4</td>\n      <td>Japan</td>\n      <td>Suzuka</td>\n      <td>FORMULA 1 MSC CRUISES JAPANESE GRAND PRIX 2024</td>\n      <td>2024-04-07</td>\n      <td>Japanese Grand Prix</td>\n      <td>conventional</td>\n      <td>Practice 1</td>\n      <td>2024-04-05 11:30:00+09:00</td>\n      <td>2024-04-05 02:30:00</td>\n      <td>...</td>\n      <td>Practice 3</td>\n      <td>2024-04-06 11:30:00+09:00</td>\n      <td>2024-04-06 02:30:00</td>\n      <td>Qualifying</td>\n      <td>2024-04-06 15:00:00+09:00</td>\n      <td>2024-04-06 06:00:00</td>\n      <td>Race</td>\n      <td>2024-04-07 14:00:00+09:00</td>\n      <td>2024-04-07 05:00:00</td>\n      <td>True</td>\n    </tr>\n    <tr>\n      <th>5</th>\n      <td>5</td>\n      <td>China</td>\n      <td>Shanghai</td>\n      <td>FORMULA 1 LENOVO CHINESE GRAND PRIX 2024</td>\n      <td>2024-04-21</td>\n      <td>Chinese Grand Prix</td>\n      <td>sprint_qualifying</td>\n      <td>Practice 1</td>\n      <td>2024-04-19 11:30:00+08:00</td>\n      <td>2024-04-19 03:30:00</td>\n      <td>...</td>\n      <td>Sprint</td>\n      <td>2024-04-20 11:00:00+08:00</td>\n      <td>2024-04-20 03:00:00</td>\n      <td>Qualifying</td>\n      <td>2024-04-20 15:00:00+08:00</td>\n      <td>2024-04-20 07:00:00</td>\n      <td>Race</td>\n      <td>2024-04-21 15:00:00+08:00</td>\n      <td>2024-04-21 07:00:00</td>\n      <td>True</td>\n    </tr>\n    <tr>\n      <th>6</th>\n      <td>6</td>\n      <td>United States</td>\n      <td>Miami</td>\n      <td>FORMULA 1 CRYPTO.COM MIAMI GRAND PRIX 2024</td>\n      <td>2024-05-05</td>\n      <td>Miami Grand Prix</td>\n      <td>sprint_qualifying</td>\n      <td>Practice 1</td>\n      <td>2024-05-03 12:30:00-04:00</td>\n      <td>2024-05-03 16:30:00</td>\n      <td>...</td>\n      <td>Sprint</td>\n      <td>2024-05-04 12:00:00-04:00</td>\n      <td>2024-05-04 16:00:00</td>\n      <td>Qualifying</td>\n      <td>2024-05-04 16:00:00-04:00</td>\n      <td>2024-05-04 20:00:00</td>\n      <td>Race</td>\n      <td>2024-05-05 16:00:00-04:00</td>\n      <td>2024-05-05 20:00:00</td>\n      <td>True</td>\n    </tr>\n    <tr>\n      <th>7</th>\n      <td>7</td>\n      <td>Italy</td>\n      <td>Imola</td>\n      <td>FORMULA 1 MSC CRUISES GRAN PREMIO DEL MADE IN ...</td>\n      <td>2024-05-19</td>\n      <td>Emilia Romagna Grand Prix</td>\n      <td>conventional</td>\n      <td>Practice 1</td>\n      <td>2024-05-17 13:30:00+02:00</td>\n      <td>2024-05-17 11:30:00</td>\n      <td>...</td>\n      <td>Practice 3</td>\n      <td>2024-05-18 12:30:00+02:00</td>\n      <td>2024-05-18 10:30:00</td>\n      <td>Qualifying</td>\n      <td>2024-05-18 16:00:00+02:00</td>\n      <td>2024-05-18 14:00:00</td>\n      <td>Race</td>\n      <td>2024-05-19 15:00:00+02:00</td>\n      <td>2024-05-19 13:00:00</td>\n      <td>True</td>\n    </tr>\n    <tr>\n      <th>8</th>\n      <td>8</td>\n      <td>Monaco</td>\n      <td>Monaco</td>\n      <td>FORMULA 1 GRAND PRIX DE MONACO 2024</td>\n      <td>2024-05-26</td>\n      <td>Monaco Grand Prix</td>\n      <td>conventional</td>\n      <td>Practice 1</td>\n      <td>2024-05-24 13:30:00+02:00</td>\n      <td>2024-05-24 11:30:00</td>\n      <td>...</td>\n      <td>Practice 3</td>\n      <td>2024-05-25 12:30:00+02:00</td>\n      <td>2024-05-25 10:30:00</td>\n      <td>Qualifying</td>\n      <td>2024-05-25 16:00:00+02:00</td>\n      <td>2024-05-25 14:00:00</td>\n      <td>Race</td>\n      <td>2024-05-26 15:00:00+02:00</td>\n      <td>2024-05-26 13:00:00</td>\n      <td>True</td>\n    </tr>\n    <tr>\n      <th>9</th>\n      <td>9</td>\n      <td>Canada</td>\n      <td>Montréal</td>\n      <td>FORMULA 1 AWS GRAND PRIX DU CANADA 2024</td>\n      <td>2024-06-09</td>\n      <td>Canadian Grand Prix</td>\n      <td>conventional</td>\n      <td>Practice 1</td>\n      <td>2024-06-07 13:30:00-04:00</td>\n      <td>2024-06-07 17:30:00</td>\n      <td>...</td>\n      <td>Practice 3</td>\n      <td>2024-06-08 12:30:00-04:00</td>\n      <td>2024-06-08 16:30:00</td>\n      <td>Qualifying</td>\n      <td>2024-06-08 16:00:00-04:00</td>\n      <td>2024-06-08 20:00:00</td>\n      <td>Race</td>\n      <td>2024-06-09 14:00:00-04:00</td>\n      <td>2024-06-09 18:00:00</td>\n      <td>True</td>\n    </tr>\n    <tr>\n      <th>10</th>\n      <td>10</td>\n      <td>Spain</td>\n      <td>Barcelona</td>\n      <td>FORMULA 1 ARAMCO GRAN PREMIO DE ESPAÑA 2024</td>\n      <td>2024-06-23</td>\n      <td>Spanish Grand Prix</td>\n      <td>conventional</td>\n      <td>Practice 1</td>\n      <td>2024-06-21 13:30:00+02:00</td>\n      <td>2024-06-21 11:30:00</td>\n      <td>...</td>\n      <td>Practice 3</td>\n      <td>2024-06-22 12:30:00+02:00</td>\n      <td>2024-06-22 10:30:00</td>\n      <td>Qualifying</td>\n      <td>2024-06-22 16:00:00+02:00</td>\n      <td>2024-06-22 14:00:00</td>\n      <td>Race</td>\n      <td>2024-06-23 15:00:00+02:00</td>\n      <td>2024-06-23 13:00:00</td>\n      <td>True</td>\n    </tr>\n    <tr>\n      <th>11</th>\n      <td>11</td>\n      <td>Austria</td>\n      <td>Spielberg</td>\n      <td>FORMULA 1 QATAR AIRWAYS AUSTRIAN GRAND PRIX 2024</td>\n      <td>2024-06-30</td>\n      <td>Austrian Grand Prix</td>\n      <td>sprint_qualifying</td>\n      <td>Practice 1</td>\n      <td>2024-06-28 12:30:00+02:00</td>\n      <td>2024-06-28 10:30:00</td>\n      <td>...</td>\n      <td>Sprint</td>\n      <td>2024-06-29 12:00:00+02:00</td>\n      <td>2024-06-29 10:00:00</td>\n      <td>Qualifying</td>\n      <td>2024-06-29 16:00:00+02:00</td>\n      <td>2024-06-29 14:00:00</td>\n      <td>Race</td>\n      <td>2024-06-30 15:00:00+02:00</td>\n      <td>2024-06-30 13:00:00</td>\n      <td>True</td>\n    </tr>\n    <tr>\n      <th>12</th>\n      <td>12</td>\n      <td>United Kingdom</td>\n      <td>Silverstone</td>\n      <td>FORMULA 1 QATAR AIRWAYS BRITISH GRAND PRIX 2024</td>\n      <td>2024-07-07</td>\n      <td>British Grand Prix</td>\n      <td>conventional</td>\n      <td>Practice 1</td>\n      <td>2024-07-05 12:30:00+01:00</td>\n      <td>2024-07-05 11:30:00</td>\n      <td>...</td>\n      <td>Practice 3</td>\n      <td>2024-07-06 11:30:00+01:00</td>\n      <td>2024-07-06 10:30:00</td>\n      <td>Qualifying</td>\n      <td>2024-07-06 15:00:00+01:00</td>\n      <td>2024-07-06 14:00:00</td>\n      <td>Race</td>\n      <td>2024-07-07 15:00:00+01:00</td>\n      <td>2024-07-07 14:00:00</td>\n      <td>True</td>\n    </tr>\n    <tr>\n      <th>13</th>\n      <td>13</td>\n      <td>Hungary</td>\n      <td>Budapest</td>\n      <td>FORMULA 1 HUNGARIAN GRAND PRIX 2024</td>\n      <td>2024-07-21</td>\n      <td>Hungarian Grand Prix</td>\n      <td>conventional</td>\n      <td>Practice 1</td>\n      <td>2024-07-19 13:30:00+02:00</td>\n      <td>2024-07-19 11:30:00</td>\n      <td>...</td>\n      <td>Practice 3</td>\n      <td>2024-07-20 12:30:00+02:00</td>\n      <td>2024-07-20 10:30:00</td>\n      <td>Qualifying</td>\n      <td>2024-07-20 16:00:00+02:00</td>\n      <td>2024-07-20 14:00:00</td>\n      <td>Race</td>\n      <td>2024-07-21 15:00:00+02:00</td>\n      <td>2024-07-21 13:00:00</td>\n      <td>True</td>\n    </tr>\n    <tr>\n      <th>14</th>\n      <td>14</td>\n      <td>Belgium</td>\n      <td>Spa-Francorchamps</td>\n      <td>FORMULA 1 ROLEX BELGIAN GRAND PRIX 2024</td>\n      <td>2024-07-28</td>\n      <td>Belgian Grand Prix</td>\n      <td>conventional</td>\n      <td>Practice 1</td>\n      <td>2024-07-26 13:30:00+02:00</td>\n      <td>2024-07-26 11:30:00</td>\n      <td>...</td>\n      <td>Practice 3</td>\n      <td>2024-07-27 12:30:00+02:00</td>\n      <td>2024-07-27 10:30:00</td>\n      <td>Qualifying</td>\n      <td>2024-07-27 16:00:00+02:00</td>\n      <td>2024-07-27 14:00:00</td>\n      <td>Race</td>\n      <td>2024-07-28 15:00:00+02:00</td>\n      <td>2024-07-28 13:00:00</td>\n      <td>True</td>\n    </tr>\n    <tr>\n      <th>15</th>\n      <td>15</td>\n      <td>Netherlands</td>\n      <td>Zandvoort</td>\n      <td>FORMULA 1 HEINEKEN DUTCH GRAND PRIX 2024</td>\n      <td>2024-08-25</td>\n      <td>Dutch Grand Prix</td>\n      <td>conventional</td>\n      <td>Practice 1</td>\n      <td>2024-08-23 12:30:00+02:00</td>\n      <td>2024-08-23 10:30:00</td>\n      <td>...</td>\n      <td>Practice 3</td>\n      <td>2024-08-24 11:30:00+02:00</td>\n      <td>2024-08-24 09:30:00</td>\n      <td>Qualifying</td>\n      <td>2024-08-24 15:00:00+02:00</td>\n      <td>2024-08-24 13:00:00</td>\n      <td>Race</td>\n      <td>2024-08-25 15:00:00+02:00</td>\n      <td>2024-08-25 13:00:00</td>\n      <td>True</td>\n    </tr>\n    <tr>\n      <th>16</th>\n      <td>16</td>\n      <td>Italy</td>\n      <td>Monza</td>\n      <td>FORMULA 1 PIRELLI GRAN PREMIO D’ITALIA 2024</td>\n      <td>2024-09-01</td>\n      <td>Italian Grand Prix</td>\n      <td>conventional</td>\n      <td>Practice 1</td>\n      <td>2024-08-30 13:30:00+02:00</td>\n      <td>2024-08-30 11:30:00</td>\n      <td>...</td>\n      <td>Practice 3</td>\n      <td>2024-08-31 12:30:00+02:00</td>\n      <td>2024-08-31 10:30:00</td>\n      <td>Qualifying</td>\n      <td>2024-08-31 16:00:00+02:00</td>\n      <td>2024-08-31 14:00:00</td>\n      <td>Race</td>\n      <td>2024-09-01 15:00:00+02:00</td>\n      <td>2024-09-01 13:00:00</td>\n      <td>True</td>\n    </tr>\n    <tr>\n      <th>17</th>\n      <td>17</td>\n      <td>Azerbaijan</td>\n      <td>Baku</td>\n      <td>FORMULA 1 QATAR AIRWAYS AZERBAIJAN GRAND PRIX ...</td>\n      <td>2024-09-15</td>\n      <td>Azerbaijan Grand Prix</td>\n      <td>conventional</td>\n      <td>Practice 1</td>\n      <td>2024-09-13 13:30:00+04:00</td>\n      <td>2024-09-13 09:30:00</td>\n      <td>...</td>\n      <td>Practice 3</td>\n      <td>2024-09-14 12:30:00+04:00</td>\n      <td>2024-09-14 08:30:00</td>\n      <td>Qualifying</td>\n      <td>2024-09-14 16:00:00+04:00</td>\n      <td>2024-09-14 12:00:00</td>\n      <td>Race</td>\n      <td>2024-09-15 15:00:00+04:00</td>\n      <td>2024-09-15 11:00:00</td>\n      <td>True</td>\n    </tr>\n  </tbody>\n</table>\n<p>17 rows × 23 columns</p>\n</div>"
     },
     "execution_count": 53,
     "metadata": {},
     "output_type": "execute_result"
    }
   ],
   "source": [
    "event_schedule = f1.get_event_schedule(2024)\n",
    "\n",
    "finished_events = event_schedule[event_schedule.Session5DateUtc < np.datetime64(pd.Timestamp('today', tz='UTC'))]\n",
    "\n",
    "num_finished_events = len(finished_events)\n",
    "\n",
    "finished_events"
   ],
   "metadata": {
    "collapsed": false,
    "ExecuteTime": {
     "end_time": "2024-09-16T17:27:14.725279600Z",
     "start_time": "2024-09-16T17:27:13.361460600Z"
    }
   },
   "id": "c548990668a1fa37",
   "execution_count": 53
  },
  {
   "cell_type": "code",
   "outputs": [
    {
     "data": {
      "text/plain": "round         1     2     3     4     5     6     7     8     9     10    11  \\\ndriverCode                                                                     \nALB          0.0   0.0   0.0   0.0   0.0   0.0   0.0   2.0   0.0   0.0   0.0   \nALO          2.0  10.0   4.0   8.0   7.0   2.0   0.0   0.0   8.0   0.0   0.0   \nBEA          NaN   6.0   NaN   NaN   NaN   NaN   NaN   NaN   NaN   NaN   NaN   \nBOT          0.0   0.0   0.0   0.0   0.0   0.0   0.0   0.0   0.0   0.0   0.0   \nCOL          NaN   NaN   NaN   NaN   NaN   NaN   NaN   NaN   NaN   NaN   NaN   \nGAS          0.0   0.0   0.0   0.0   0.0   0.0   0.0   1.0   2.0   2.0   1.0   \nHAM          6.0   2.0   0.0   2.0   9.0   8.0   8.0   7.0  13.0  15.0  15.0   \nHUL          0.0   1.0   2.0   0.0   1.0   2.0   0.0   0.0   0.0   0.0   8.0   \nLEC         12.0  16.0  19.0  12.0  17.0  22.0  15.0  25.0   0.0  10.0   2.0   \nMAG          0.0   0.0   1.0   0.0   0.0   0.0   0.0   0.0   0.0   0.0   4.0   \nNOR          8.0   4.0  15.0  10.0  21.0  25.0  18.0  12.0  18.0  19.0   6.0   \nOCO          0.0   0.0   0.0   0.0   0.0   1.0   0.0   0.0   1.0   1.0   0.0   \nPER         18.0  18.0  10.0  18.0  21.0  18.0   4.0   0.0   0.0   4.0   7.0   \nPIA          4.0  12.0  12.0   4.0   6.0   3.0  12.0  18.0  10.0   6.0  25.0   \nRIC          0.0   0.0   0.0   0.0   0.0   5.0   0.0   0.0   4.0   0.0   2.0   \nRUS         10.0   8.0   0.0   6.0   9.0   4.0   7.0  10.0  15.0  12.0  30.0   \nSAI         15.0   NaN  25.0  15.0  14.0  14.0  10.0  15.0   0.0   8.0  19.0   \nSAR          0.0   0.0   NaN   0.0   0.0   0.0   0.0   0.0   0.0   0.0   0.0   \nSTR          1.0   0.0   8.0   0.0   0.0   0.0   2.0   0.0   6.0   0.0   0.0   \nTSU          0.0   0.0   6.0   1.0   0.0   7.0   1.0   4.0   0.0   0.0   0.0   \nVER         26.0  25.0   0.0  26.0  33.0  26.0  25.0   8.0  25.0  25.0  18.0   \nZHO          0.0   0.0   0.0   0.0   0.0   0.0   0.0   0.0   0.0   0.0   0.0   \n\nround         12    13    14    15    16    17  \ndriverCode                                      \nALB          2.0   0.0   0.0   0.0   2.0   6.0  \nALO          4.0   0.0   4.0   1.0   0.0   8.0  \nBEA          NaN   NaN   NaN   NaN   NaN   1.0  \nBOT          0.0   0.0   0.0   0.0   0.0   0.0  \nCOL          NaN   NaN   NaN   NaN   0.0   4.0  \nGAS          0.0   0.0   0.0   2.0   0.0   0.0  \nHAM         25.0  15.0  25.0   4.0  10.0   2.0  \nHUL          8.0   0.0   0.0   0.0   0.0   0.0  \nLEC          0.0  12.0  15.0  15.0  25.0  18.0  \nMAG          0.0   0.0   0.0   0.0   1.0   NaN  \nNOR         15.0  18.0  10.0  26.0  16.0  13.0  \nOCO          0.0   0.0   2.0   0.0   0.0   0.0  \nPER          0.0   6.0   7.0   8.0   4.0   0.0  \nPIA         12.0  25.0  18.0  12.0  18.0  25.0  \nRIC          0.0   0.0   1.0   0.0   0.0   0.0  \nRUS          0.0   5.0   0.0   6.0   6.0  15.0  \nSAI         11.0   8.0   8.0  10.0  12.0   0.0  \nSAR          0.0   0.0   0.0   0.0   NaN   NaN  \nSTR          6.0   1.0   0.0   0.0   0.0   0.0  \nTSU          1.0   2.0   0.0   0.0   0.0   0.0  \nVER         18.0  10.0  12.0  18.0   8.0  10.0  \nZHO          0.0   0.0   0.0   0.0   0.0   0.0  ",
      "text/html": "<div>\n<style scoped>\n    .dataframe tbody tr th:only-of-type {\n        vertical-align: middle;\n    }\n\n    .dataframe tbody tr th {\n        vertical-align: top;\n    }\n\n    .dataframe thead th {\n        text-align: right;\n    }\n</style>\n<table border=\"1\" class=\"dataframe\">\n  <thead>\n    <tr style=\"text-align: right;\">\n      <th>round</th>\n      <th>1</th>\n      <th>2</th>\n      <th>3</th>\n      <th>4</th>\n      <th>5</th>\n      <th>6</th>\n      <th>7</th>\n      <th>8</th>\n      <th>9</th>\n      <th>10</th>\n      <th>11</th>\n      <th>12</th>\n      <th>13</th>\n      <th>14</th>\n      <th>15</th>\n      <th>16</th>\n      <th>17</th>\n    </tr>\n    <tr>\n      <th>driverCode</th>\n      <th></th>\n      <th></th>\n      <th></th>\n      <th></th>\n      <th></th>\n      <th></th>\n      <th></th>\n      <th></th>\n      <th></th>\n      <th></th>\n      <th></th>\n      <th></th>\n      <th></th>\n      <th></th>\n      <th></th>\n      <th></th>\n      <th></th>\n    </tr>\n  </thead>\n  <tbody>\n    <tr>\n      <th>ALB</th>\n      <td>0.0</td>\n      <td>0.0</td>\n      <td>0.0</td>\n      <td>0.0</td>\n      <td>0.0</td>\n      <td>0.0</td>\n      <td>0.0</td>\n      <td>2.0</td>\n      <td>0.0</td>\n      <td>0.0</td>\n      <td>0.0</td>\n      <td>2.0</td>\n      <td>0.0</td>\n      <td>0.0</td>\n      <td>0.0</td>\n      <td>2.0</td>\n      <td>6.0</td>\n    </tr>\n    <tr>\n      <th>ALO</th>\n      <td>2.0</td>\n      <td>10.0</td>\n      <td>4.0</td>\n      <td>8.0</td>\n      <td>7.0</td>\n      <td>2.0</td>\n      <td>0.0</td>\n      <td>0.0</td>\n      <td>8.0</td>\n      <td>0.0</td>\n      <td>0.0</td>\n      <td>4.0</td>\n      <td>0.0</td>\n      <td>4.0</td>\n      <td>1.0</td>\n      <td>0.0</td>\n      <td>8.0</td>\n    </tr>\n    <tr>\n      <th>BEA</th>\n      <td>NaN</td>\n      <td>6.0</td>\n      <td>NaN</td>\n      <td>NaN</td>\n      <td>NaN</td>\n      <td>NaN</td>\n      <td>NaN</td>\n      <td>NaN</td>\n      <td>NaN</td>\n      <td>NaN</td>\n      <td>NaN</td>\n      <td>NaN</td>\n      <td>NaN</td>\n      <td>NaN</td>\n      <td>NaN</td>\n      <td>NaN</td>\n      <td>1.0</td>\n    </tr>\n    <tr>\n      <th>BOT</th>\n      <td>0.0</td>\n      <td>0.0</td>\n      <td>0.0</td>\n      <td>0.0</td>\n      <td>0.0</td>\n      <td>0.0</td>\n      <td>0.0</td>\n      <td>0.0</td>\n      <td>0.0</td>\n      <td>0.0</td>\n      <td>0.0</td>\n      <td>0.0</td>\n      <td>0.0</td>\n      <td>0.0</td>\n      <td>0.0</td>\n      <td>0.0</td>\n      <td>0.0</td>\n    </tr>\n    <tr>\n      <th>COL</th>\n      <td>NaN</td>\n      <td>NaN</td>\n      <td>NaN</td>\n      <td>NaN</td>\n      <td>NaN</td>\n      <td>NaN</td>\n      <td>NaN</td>\n      <td>NaN</td>\n      <td>NaN</td>\n      <td>NaN</td>\n      <td>NaN</td>\n      <td>NaN</td>\n      <td>NaN</td>\n      <td>NaN</td>\n      <td>NaN</td>\n      <td>0.0</td>\n      <td>4.0</td>\n    </tr>\n    <tr>\n      <th>GAS</th>\n      <td>0.0</td>\n      <td>0.0</td>\n      <td>0.0</td>\n      <td>0.0</td>\n      <td>0.0</td>\n      <td>0.0</td>\n      <td>0.0</td>\n      <td>1.0</td>\n      <td>2.0</td>\n      <td>2.0</td>\n      <td>1.0</td>\n      <td>0.0</td>\n      <td>0.0</td>\n      <td>0.0</td>\n      <td>2.0</td>\n      <td>0.0</td>\n      <td>0.0</td>\n    </tr>\n    <tr>\n      <th>HAM</th>\n      <td>6.0</td>\n      <td>2.0</td>\n      <td>0.0</td>\n      <td>2.0</td>\n      <td>9.0</td>\n      <td>8.0</td>\n      <td>8.0</td>\n      <td>7.0</td>\n      <td>13.0</td>\n      <td>15.0</td>\n      <td>15.0</td>\n      <td>25.0</td>\n      <td>15.0</td>\n      <td>25.0</td>\n      <td>4.0</td>\n      <td>10.0</td>\n      <td>2.0</td>\n    </tr>\n    <tr>\n      <th>HUL</th>\n      <td>0.0</td>\n      <td>1.0</td>\n      <td>2.0</td>\n      <td>0.0</td>\n      <td>1.0</td>\n      <td>2.0</td>\n      <td>0.0</td>\n      <td>0.0</td>\n      <td>0.0</td>\n      <td>0.0</td>\n      <td>8.0</td>\n      <td>8.0</td>\n      <td>0.0</td>\n      <td>0.0</td>\n      <td>0.0</td>\n      <td>0.0</td>\n      <td>0.0</td>\n    </tr>\n    <tr>\n      <th>LEC</th>\n      <td>12.0</td>\n      <td>16.0</td>\n      <td>19.0</td>\n      <td>12.0</td>\n      <td>17.0</td>\n      <td>22.0</td>\n      <td>15.0</td>\n      <td>25.0</td>\n      <td>0.0</td>\n      <td>10.0</td>\n      <td>2.0</td>\n      <td>0.0</td>\n      <td>12.0</td>\n      <td>15.0</td>\n      <td>15.0</td>\n      <td>25.0</td>\n      <td>18.0</td>\n    </tr>\n    <tr>\n      <th>MAG</th>\n      <td>0.0</td>\n      <td>0.0</td>\n      <td>1.0</td>\n      <td>0.0</td>\n      <td>0.0</td>\n      <td>0.0</td>\n      <td>0.0</td>\n      <td>0.0</td>\n      <td>0.0</td>\n      <td>0.0</td>\n      <td>4.0</td>\n      <td>0.0</td>\n      <td>0.0</td>\n      <td>0.0</td>\n      <td>0.0</td>\n      <td>1.0</td>\n      <td>NaN</td>\n    </tr>\n    <tr>\n      <th>NOR</th>\n      <td>8.0</td>\n      <td>4.0</td>\n      <td>15.0</td>\n      <td>10.0</td>\n      <td>21.0</td>\n      <td>25.0</td>\n      <td>18.0</td>\n      <td>12.0</td>\n      <td>18.0</td>\n      <td>19.0</td>\n      <td>6.0</td>\n      <td>15.0</td>\n      <td>18.0</td>\n      <td>10.0</td>\n      <td>26.0</td>\n      <td>16.0</td>\n      <td>13.0</td>\n    </tr>\n    <tr>\n      <th>OCO</th>\n      <td>0.0</td>\n      <td>0.0</td>\n      <td>0.0</td>\n      <td>0.0</td>\n      <td>0.0</td>\n      <td>1.0</td>\n      <td>0.0</td>\n      <td>0.0</td>\n      <td>1.0</td>\n      <td>1.0</td>\n      <td>0.0</td>\n      <td>0.0</td>\n      <td>0.0</td>\n      <td>2.0</td>\n      <td>0.0</td>\n      <td>0.0</td>\n      <td>0.0</td>\n    </tr>\n    <tr>\n      <th>PER</th>\n      <td>18.0</td>\n      <td>18.0</td>\n      <td>10.0</td>\n      <td>18.0</td>\n      <td>21.0</td>\n      <td>18.0</td>\n      <td>4.0</td>\n      <td>0.0</td>\n      <td>0.0</td>\n      <td>4.0</td>\n      <td>7.0</td>\n      <td>0.0</td>\n      <td>6.0</td>\n      <td>7.0</td>\n      <td>8.0</td>\n      <td>4.0</td>\n      <td>0.0</td>\n    </tr>\n    <tr>\n      <th>PIA</th>\n      <td>4.0</td>\n      <td>12.0</td>\n      <td>12.0</td>\n      <td>4.0</td>\n      <td>6.0</td>\n      <td>3.0</td>\n      <td>12.0</td>\n      <td>18.0</td>\n      <td>10.0</td>\n      <td>6.0</td>\n      <td>25.0</td>\n      <td>12.0</td>\n      <td>25.0</td>\n      <td>18.0</td>\n      <td>12.0</td>\n      <td>18.0</td>\n      <td>25.0</td>\n    </tr>\n    <tr>\n      <th>RIC</th>\n      <td>0.0</td>\n      <td>0.0</td>\n      <td>0.0</td>\n      <td>0.0</td>\n      <td>0.0</td>\n      <td>5.0</td>\n      <td>0.0</td>\n      <td>0.0</td>\n      <td>4.0</td>\n      <td>0.0</td>\n      <td>2.0</td>\n      <td>0.0</td>\n      <td>0.0</td>\n      <td>1.0</td>\n      <td>0.0</td>\n      <td>0.0</td>\n      <td>0.0</td>\n    </tr>\n    <tr>\n      <th>RUS</th>\n      <td>10.0</td>\n      <td>8.0</td>\n      <td>0.0</td>\n      <td>6.0</td>\n      <td>9.0</td>\n      <td>4.0</td>\n      <td>7.0</td>\n      <td>10.0</td>\n      <td>15.0</td>\n      <td>12.0</td>\n      <td>30.0</td>\n      <td>0.0</td>\n      <td>5.0</td>\n      <td>0.0</td>\n      <td>6.0</td>\n      <td>6.0</td>\n      <td>15.0</td>\n    </tr>\n    <tr>\n      <th>SAI</th>\n      <td>15.0</td>\n      <td>NaN</td>\n      <td>25.0</td>\n      <td>15.0</td>\n      <td>14.0</td>\n      <td>14.0</td>\n      <td>10.0</td>\n      <td>15.0</td>\n      <td>0.0</td>\n      <td>8.0</td>\n      <td>19.0</td>\n      <td>11.0</td>\n      <td>8.0</td>\n      <td>8.0</td>\n      <td>10.0</td>\n      <td>12.0</td>\n      <td>0.0</td>\n    </tr>\n    <tr>\n      <th>SAR</th>\n      <td>0.0</td>\n      <td>0.0</td>\n      <td>NaN</td>\n      <td>0.0</td>\n      <td>0.0</td>\n      <td>0.0</td>\n      <td>0.0</td>\n      <td>0.0</td>\n      <td>0.0</td>\n      <td>0.0</td>\n      <td>0.0</td>\n      <td>0.0</td>\n      <td>0.0</td>\n      <td>0.0</td>\n      <td>0.0</td>\n      <td>NaN</td>\n      <td>NaN</td>\n    </tr>\n    <tr>\n      <th>STR</th>\n      <td>1.0</td>\n      <td>0.0</td>\n      <td>8.0</td>\n      <td>0.0</td>\n      <td>0.0</td>\n      <td>0.0</td>\n      <td>2.0</td>\n      <td>0.0</td>\n      <td>6.0</td>\n      <td>0.0</td>\n      <td>0.0</td>\n      <td>6.0</td>\n      <td>1.0</td>\n      <td>0.0</td>\n      <td>0.0</td>\n      <td>0.0</td>\n      <td>0.0</td>\n    </tr>\n    <tr>\n      <th>TSU</th>\n      <td>0.0</td>\n      <td>0.0</td>\n      <td>6.0</td>\n      <td>1.0</td>\n      <td>0.0</td>\n      <td>7.0</td>\n      <td>1.0</td>\n      <td>4.0</td>\n      <td>0.0</td>\n      <td>0.0</td>\n      <td>0.0</td>\n      <td>1.0</td>\n      <td>2.0</td>\n      <td>0.0</td>\n      <td>0.0</td>\n      <td>0.0</td>\n      <td>0.0</td>\n    </tr>\n    <tr>\n      <th>VER</th>\n      <td>26.0</td>\n      <td>25.0</td>\n      <td>0.0</td>\n      <td>26.0</td>\n      <td>33.0</td>\n      <td>26.0</td>\n      <td>25.0</td>\n      <td>8.0</td>\n      <td>25.0</td>\n      <td>25.0</td>\n      <td>18.0</td>\n      <td>18.0</td>\n      <td>10.0</td>\n      <td>12.0</td>\n      <td>18.0</td>\n      <td>8.0</td>\n      <td>10.0</td>\n    </tr>\n    <tr>\n      <th>ZHO</th>\n      <td>0.0</td>\n      <td>0.0</td>\n      <td>0.0</td>\n      <td>0.0</td>\n      <td>0.0</td>\n      <td>0.0</td>\n      <td>0.0</td>\n      <td>0.0</td>\n      <td>0.0</td>\n      <td>0.0</td>\n      <td>0.0</td>\n      <td>0.0</td>\n      <td>0.0</td>\n      <td>0.0</td>\n      <td>0.0</td>\n      <td>0.0</td>\n      <td>0.0</td>\n    </tr>\n  </tbody>\n</table>\n</div>"
     },
     "execution_count": 43,
     "metadata": {},
     "output_type": "execute_result"
    }
   ],
   "source": [
    "# The initial creation of a nb that has season long data tracking\n",
    "\n",
    "# TODO: Drivers/Constructors Points graphs, Quali Performance, Driver standings\n",
    "\n",
    "ergast = Ergast()\n",
    "races = ergast.get_race_schedule(2024)\n",
    "results = []\n",
    "\n",
    "for rnd, race in races['raceName'].items():\n",
    "    if rnd+1 not in finished_events['RoundNumber']:\n",
    "        break\n",
    "    curr_race_results = ergast.get_race_results(season=2024, round=rnd+1)\n",
    "    curr_race_results = curr_race_results.content[0]\n",
    "\n",
    "    # If there is a sprint, get the results as well\n",
    "    curr_sprint_results = ergast.get_sprint_results(season=2024, round=rnd + 1)\n",
    "    if curr_sprint_results.content and curr_sprint_results.description['round'][0] == rnd + 1:\n",
    "        curr_race_results = pd.merge(curr_race_results, curr_sprint_results.content[0], on='driverCode', how='left')\n",
    "        # Add sprint points and race points to get the total\n",
    "        curr_race_results['points'] = curr_race_results['points_x'] + curr_race_results['points_y']\n",
    "        curr_race_results.drop(columns=['points_x', 'points_y'], inplace=True)\n",
    "\n",
    "    # Add round no. and grand prix name\n",
    "    curr_race_results['round'] = rnd + 1\n",
    "    curr_race_results['race'] = race.removesuffix(' Grand Prix')\n",
    "    curr_results = curr_race_results[['round', 'race', 'driverCode', 'points']]  # Keep useful cols.\n",
    "    results.append(curr_race_results)\n",
    "\n",
    "results = pd.concat(results)\n",
    "races = results['race'].drop_duplicates()\n",
    "results = results.pivot(index='driverCode', columns='round', values='points')\n",
    "\n",
    "results"
   ],
   "metadata": {
    "collapsed": false,
    "ExecuteTime": {
     "end_time": "2024-09-16T17:22:38.121567500Z",
     "start_time": "2024-09-16T17:22:23.182162400Z"
    }
   },
   "id": "8150a0c559da17f",
   "execution_count": 43
  },
  {
   "cell_type": "code",
   "outputs": [],
   "source": [
    "temp = \"bruh\""
   ],
   "metadata": {
    "collapsed": false
   },
   "id": "d510dc7529db3255",
   "execution_count": null
  },
  {
   "cell_type": "code",
   "outputs": [],
   "source": [
    "def sort_func(e):\n",
    "    return e[-1][-1]\n",
    "\n",
    "cummulative_driver_race_results = {}\n",
    "for race in results:\n",
    "    for driver, pts in results[race].items():\n",
    "        if driver in cummulative_driver_race_results:\n",
    "            curr_driver_total_pts = cummulative_driver_race_results[driver][-1]\n",
    "            cummulative_driver_race_results[driver].append(0 + curr_driver_total_pts if pd.isnull(pts) else pts + curr_driver_total_pts)\n",
    "        else:\n",
    "            cummulative_driver_race_results[driver] = [0 if pd.isnull(pts) else pts]\n",
    "old_keys = list(cummulative_driver_race_results.keys())\n",
    "for driver in old_keys:\n",
    "    new_key = f\"{driver} ({int(cummulative_driver_race_results[driver][-1])} pts)\"\n",
    "    cummulative_driver_race_results[new_key] = cummulative_driver_race_results.pop(driver)\n",
    "            \n",
    "temp = list(cummulative_driver_race_results.items())\n",
    "temp.sort(key=sort_func, reverse=True)\n",
    "cummulative_driver_race_results = OrderedDict(temp)"
   ],
   "metadata": {
    "collapsed": false,
    "ExecuteTime": {
     "end_time": "2024-09-17T16:25:35.132978500Z",
     "start_time": "2024-09-17T16:25:35.120464Z"
    }
   },
   "id": "a6af1767d90e5ebd",
   "execution_count": 91
  },
  {
   "cell_type": "code",
   "outputs": [
    {
     "data": {
      "application/vnd.plotly.v1+json": {
       "data": [
        {
         "hovertemplate": "Driver=VER (313 pts)<br>Round #=%{x}<br>Championship Points=%{y}<extra></extra>",
         "legendgroup": "VER (313 pts)",
         "line": {
          "color": "#636efa",
          "dash": "solid"
         },
         "marker": {
          "symbol": "circle"
         },
         "mode": "lines+markers",
         "name": "VER (313 pts)",
         "orientation": "v",
         "showlegend": true,
         "x": [
          0,
          1,
          2,
          3,
          4,
          5,
          6,
          7,
          8,
          9,
          10,
          11,
          12,
          13,
          14,
          15,
          16
         ],
         "xaxis": "x",
         "y": [
          26.0,
          51.0,
          51.0,
          77.0,
          110.0,
          136.0,
          161.0,
          169.0,
          194.0,
          219.0,
          237.0,
          255.0,
          265.0,
          277.0,
          295.0,
          303.0,
          313.0
         ],
         "yaxis": "y",
         "type": "scatter"
        },
        {
         "hovertemplate": "Driver=NOR (254 pts)<br>Round #=%{x}<br>Championship Points=%{y}<extra></extra>",
         "legendgroup": "NOR (254 pts)",
         "line": {
          "color": "#EF553B",
          "dash": "solid"
         },
         "marker": {
          "symbol": "circle"
         },
         "mode": "lines+markers",
         "name": "NOR (254 pts)",
         "orientation": "v",
         "showlegend": true,
         "x": [
          0,
          1,
          2,
          3,
          4,
          5,
          6,
          7,
          8,
          9,
          10,
          11,
          12,
          13,
          14,
          15,
          16
         ],
         "xaxis": "x",
         "y": [
          8.0,
          12.0,
          27.0,
          37.0,
          58.0,
          83.0,
          101.0,
          113.0,
          131.0,
          150.0,
          156.0,
          171.0,
          189.0,
          199.0,
          225.0,
          241.0,
          254.0
         ],
         "yaxis": "y",
         "type": "scatter"
        },
        {
         "hovertemplate": "Driver=LEC (235 pts)<br>Round #=%{x}<br>Championship Points=%{y}<extra></extra>",
         "legendgroup": "LEC (235 pts)",
         "line": {
          "color": "#00cc96",
          "dash": "solid"
         },
         "marker": {
          "symbol": "circle"
         },
         "mode": "lines+markers",
         "name": "LEC (235 pts)",
         "orientation": "v",
         "showlegend": true,
         "x": [
          0,
          1,
          2,
          3,
          4,
          5,
          6,
          7,
          8,
          9,
          10,
          11,
          12,
          13,
          14,
          15,
          16
         ],
         "xaxis": "x",
         "y": [
          12.0,
          28.0,
          47.0,
          59.0,
          76.0,
          98.0,
          113.0,
          138.0,
          138.0,
          148.0,
          150.0,
          150.0,
          162.0,
          177.0,
          192.0,
          217.0,
          235.0
         ],
         "yaxis": "y",
         "type": "scatter"
        },
        {
         "hovertemplate": "Driver=PIA (222 pts)<br>Round #=%{x}<br>Championship Points=%{y}<extra></extra>",
         "legendgroup": "PIA (222 pts)",
         "line": {
          "color": "#ab63fa",
          "dash": "solid"
         },
         "marker": {
          "symbol": "circle"
         },
         "mode": "lines+markers",
         "name": "PIA (222 pts)",
         "orientation": "v",
         "showlegend": true,
         "x": [
          0,
          1,
          2,
          3,
          4,
          5,
          6,
          7,
          8,
          9,
          10,
          11,
          12,
          13,
          14,
          15,
          16
         ],
         "xaxis": "x",
         "y": [
          4.0,
          16.0,
          28.0,
          32.0,
          38.0,
          41.0,
          53.0,
          71.0,
          81.0,
          87.0,
          112.0,
          124.0,
          149.0,
          167.0,
          179.0,
          197.0,
          222.0
         ],
         "yaxis": "y",
         "type": "scatter"
        },
        {
         "hovertemplate": "Driver=SAI (184 pts)<br>Round #=%{x}<br>Championship Points=%{y}<extra></extra>",
         "legendgroup": "SAI (184 pts)",
         "line": {
          "color": "#FFA15A",
          "dash": "solid"
         },
         "marker": {
          "symbol": "circle"
         },
         "mode": "lines+markers",
         "name": "SAI (184 pts)",
         "orientation": "v",
         "showlegend": true,
         "x": [
          0,
          1,
          2,
          3,
          4,
          5,
          6,
          7,
          8,
          9,
          10,
          11,
          12,
          13,
          14,
          15,
          16
         ],
         "xaxis": "x",
         "y": [
          15.0,
          15.0,
          40.0,
          55.0,
          69.0,
          83.0,
          93.0,
          108.0,
          108.0,
          116.0,
          135.0,
          146.0,
          154.0,
          162.0,
          172.0,
          184.0,
          184.0
         ],
         "yaxis": "y",
         "type": "scatter"
        },
        {
         "hovertemplate": "Driver=HAM (166 pts)<br>Round #=%{x}<br>Championship Points=%{y}<extra></extra>",
         "legendgroup": "HAM (166 pts)",
         "line": {
          "color": "#19d3f3",
          "dash": "solid"
         },
         "marker": {
          "symbol": "circle"
         },
         "mode": "lines+markers",
         "name": "HAM (166 pts)",
         "orientation": "v",
         "showlegend": true,
         "x": [
          0,
          1,
          2,
          3,
          4,
          5,
          6,
          7,
          8,
          9,
          10,
          11,
          12,
          13,
          14,
          15,
          16
         ],
         "xaxis": "x",
         "y": [
          6.0,
          8.0,
          8.0,
          10.0,
          19.0,
          27.0,
          35.0,
          42.0,
          55.0,
          70.0,
          85.0,
          110.0,
          125.0,
          150.0,
          154.0,
          164.0,
          166.0
         ],
         "yaxis": "y",
         "type": "scatter"
        },
        {
         "hovertemplate": "Driver=PER (143 pts)<br>Round #=%{x}<br>Championship Points=%{y}<extra></extra>",
         "legendgroup": "PER (143 pts)",
         "line": {
          "color": "#FF6692",
          "dash": "solid"
         },
         "marker": {
          "symbol": "circle"
         },
         "mode": "lines+markers",
         "name": "PER (143 pts)",
         "orientation": "v",
         "showlegend": true,
         "x": [
          0,
          1,
          2,
          3,
          4,
          5,
          6,
          7,
          8,
          9,
          10,
          11,
          12,
          13,
          14,
          15,
          16
         ],
         "xaxis": "x",
         "y": [
          18.0,
          36.0,
          46.0,
          64.0,
          85.0,
          103.0,
          107.0,
          107.0,
          107.0,
          111.0,
          118.0,
          118.0,
          124.0,
          131.0,
          139.0,
          143.0,
          143.0
         ],
         "yaxis": "y",
         "type": "scatter"
        },
        {
         "hovertemplate": "Driver=RUS (143 pts)<br>Round #=%{x}<br>Championship Points=%{y}<extra></extra>",
         "legendgroup": "RUS (143 pts)",
         "line": {
          "color": "#B6E880",
          "dash": "solid"
         },
         "marker": {
          "symbol": "circle"
         },
         "mode": "lines+markers",
         "name": "RUS (143 pts)",
         "orientation": "v",
         "showlegend": true,
         "x": [
          0,
          1,
          2,
          3,
          4,
          5,
          6,
          7,
          8,
          9,
          10,
          11,
          12,
          13,
          14,
          15,
          16
         ],
         "xaxis": "x",
         "y": [
          10.0,
          18.0,
          18.0,
          24.0,
          33.0,
          37.0,
          44.0,
          54.0,
          69.0,
          81.0,
          111.0,
          111.0,
          116.0,
          116.0,
          122.0,
          128.0,
          143.0
         ],
         "yaxis": "y",
         "type": "scatter"
        },
        {
         "hovertemplate": "Driver=ALO (58 pts)<br>Round #=%{x}<br>Championship Points=%{y}<extra></extra>",
         "legendgroup": "ALO (58 pts)",
         "line": {
          "color": "#FF97FF",
          "dash": "solid"
         },
         "marker": {
          "symbol": "circle"
         },
         "mode": "lines+markers",
         "name": "ALO (58 pts)",
         "orientation": "v",
         "showlegend": true,
         "x": [
          0,
          1,
          2,
          3,
          4,
          5,
          6,
          7,
          8,
          9,
          10,
          11,
          12,
          13,
          14,
          15,
          16
         ],
         "xaxis": "x",
         "y": [
          2.0,
          12.0,
          16.0,
          24.0,
          31.0,
          33.0,
          33.0,
          33.0,
          41.0,
          41.0,
          41.0,
          45.0,
          45.0,
          49.0,
          50.0,
          50.0,
          58.0
         ],
         "yaxis": "y",
         "type": "scatter"
        },
        {
         "hovertemplate": "Driver=STR (24 pts)<br>Round #=%{x}<br>Championship Points=%{y}<extra></extra>",
         "legendgroup": "STR (24 pts)",
         "line": {
          "color": "#FECB52",
          "dash": "solid"
         },
         "marker": {
          "symbol": "circle"
         },
         "mode": "lines+markers",
         "name": "STR (24 pts)",
         "orientation": "v",
         "showlegend": true,
         "x": [
          0,
          1,
          2,
          3,
          4,
          5,
          6,
          7,
          8,
          9,
          10,
          11,
          12,
          13,
          14,
          15,
          16
         ],
         "xaxis": "x",
         "y": [
          1.0,
          1.0,
          9.0,
          9.0,
          9.0,
          9.0,
          11.0,
          11.0,
          17.0,
          17.0,
          17.0,
          23.0,
          24.0,
          24.0,
          24.0,
          24.0,
          24.0
         ],
         "yaxis": "y",
         "type": "scatter"
        },
        {
         "hovertemplate": "Driver=HUL (22 pts)<br>Round #=%{x}<br>Championship Points=%{y}<extra></extra>",
         "legendgroup": "HUL (22 pts)",
         "line": {
          "color": "#636efa",
          "dash": "solid"
         },
         "marker": {
          "symbol": "circle"
         },
         "mode": "lines+markers",
         "name": "HUL (22 pts)",
         "orientation": "v",
         "showlegend": true,
         "x": [
          0,
          1,
          2,
          3,
          4,
          5,
          6,
          7,
          8,
          9,
          10,
          11,
          12,
          13,
          14,
          15,
          16
         ],
         "xaxis": "x",
         "y": [
          0.0,
          1.0,
          3.0,
          3.0,
          4.0,
          6.0,
          6.0,
          6.0,
          6.0,
          6.0,
          14.0,
          22.0,
          22.0,
          22.0,
          22.0,
          22.0,
          22.0
         ],
         "yaxis": "y",
         "type": "scatter"
        },
        {
         "hovertemplate": "Driver=TSU (22 pts)<br>Round #=%{x}<br>Championship Points=%{y}<extra></extra>",
         "legendgroup": "TSU (22 pts)",
         "line": {
          "color": "#EF553B",
          "dash": "solid"
         },
         "marker": {
          "symbol": "circle"
         },
         "mode": "lines+markers",
         "name": "TSU (22 pts)",
         "orientation": "v",
         "showlegend": true,
         "x": [
          0,
          1,
          2,
          3,
          4,
          5,
          6,
          7,
          8,
          9,
          10,
          11,
          12,
          13,
          14,
          15,
          16
         ],
         "xaxis": "x",
         "y": [
          0.0,
          0.0,
          6.0,
          7.0,
          7.0,
          14.0,
          15.0,
          19.0,
          19.0,
          19.0,
          19.0,
          20.0,
          22.0,
          22.0,
          22.0,
          22.0,
          22.0
         ],
         "yaxis": "y",
         "type": "scatter"
        },
        {
         "hovertemplate": "Driver=ALB (12 pts)<br>Round #=%{x}<br>Championship Points=%{y}<extra></extra>",
         "legendgroup": "ALB (12 pts)",
         "line": {
          "color": "#00cc96",
          "dash": "solid"
         },
         "marker": {
          "symbol": "circle"
         },
         "mode": "lines+markers",
         "name": "ALB (12 pts)",
         "orientation": "v",
         "showlegend": true,
         "x": [
          0,
          1,
          2,
          3,
          4,
          5,
          6,
          7,
          8,
          9,
          10,
          11,
          12,
          13,
          14,
          15,
          16
         ],
         "xaxis": "x",
         "y": [
          0.0,
          0.0,
          0.0,
          0.0,
          0.0,
          0.0,
          0.0,
          2.0,
          2.0,
          2.0,
          2.0,
          4.0,
          4.0,
          4.0,
          4.0,
          6.0,
          12.0
         ],
         "yaxis": "y",
         "type": "scatter"
        },
        {
         "hovertemplate": "Driver=RIC (12 pts)<br>Round #=%{x}<br>Championship Points=%{y}<extra></extra>",
         "legendgroup": "RIC (12 pts)",
         "line": {
          "color": "#ab63fa",
          "dash": "solid"
         },
         "marker": {
          "symbol": "circle"
         },
         "mode": "lines+markers",
         "name": "RIC (12 pts)",
         "orientation": "v",
         "showlegend": true,
         "x": [
          0,
          1,
          2,
          3,
          4,
          5,
          6,
          7,
          8,
          9,
          10,
          11,
          12,
          13,
          14,
          15,
          16
         ],
         "xaxis": "x",
         "y": [
          0.0,
          0.0,
          0.0,
          0.0,
          0.0,
          5.0,
          5.0,
          5.0,
          9.0,
          9.0,
          11.0,
          11.0,
          11.0,
          12.0,
          12.0,
          12.0,
          12.0
         ],
         "yaxis": "y",
         "type": "scatter"
        },
        {
         "hovertemplate": "Driver=GAS (8 pts)<br>Round #=%{x}<br>Championship Points=%{y}<extra></extra>",
         "legendgroup": "GAS (8 pts)",
         "line": {
          "color": "#FFA15A",
          "dash": "solid"
         },
         "marker": {
          "symbol": "circle"
         },
         "mode": "lines+markers",
         "name": "GAS (8 pts)",
         "orientation": "v",
         "showlegend": true,
         "x": [
          0,
          1,
          2,
          3,
          4,
          5,
          6,
          7,
          8,
          9,
          10,
          11,
          12,
          13,
          14,
          15,
          16
         ],
         "xaxis": "x",
         "y": [
          0.0,
          0.0,
          0.0,
          0.0,
          0.0,
          0.0,
          0.0,
          1.0,
          3.0,
          5.0,
          6.0,
          6.0,
          6.0,
          6.0,
          8.0,
          8.0,
          8.0
         ],
         "yaxis": "y",
         "type": "scatter"
        },
        {
         "hovertemplate": "Driver=BEA (7 pts)<br>Round #=%{x}<br>Championship Points=%{y}<extra></extra>",
         "legendgroup": "BEA (7 pts)",
         "line": {
          "color": "#19d3f3",
          "dash": "solid"
         },
         "marker": {
          "symbol": "circle"
         },
         "mode": "lines+markers",
         "name": "BEA (7 pts)",
         "orientation": "v",
         "showlegend": true,
         "x": [
          0,
          1,
          2,
          3,
          4,
          5,
          6,
          7,
          8,
          9,
          10,
          11,
          12,
          13,
          14,
          15,
          16
         ],
         "xaxis": "x",
         "y": [
          0.0,
          6.0,
          6.0,
          6.0,
          6.0,
          6.0,
          6.0,
          6.0,
          6.0,
          6.0,
          6.0,
          6.0,
          6.0,
          6.0,
          6.0,
          6.0,
          7.0
         ],
         "yaxis": "y",
         "type": "scatter"
        },
        {
         "hovertemplate": "Driver=MAG (6 pts)<br>Round #=%{x}<br>Championship Points=%{y}<extra></extra>",
         "legendgroup": "MAG (6 pts)",
         "line": {
          "color": "#FF6692",
          "dash": "solid"
         },
         "marker": {
          "symbol": "circle"
         },
         "mode": "lines+markers",
         "name": "MAG (6 pts)",
         "orientation": "v",
         "showlegend": true,
         "x": [
          0,
          1,
          2,
          3,
          4,
          5,
          6,
          7,
          8,
          9,
          10,
          11,
          12,
          13,
          14,
          15,
          16
         ],
         "xaxis": "x",
         "y": [
          0.0,
          0.0,
          1.0,
          1.0,
          1.0,
          1.0,
          1.0,
          1.0,
          1.0,
          1.0,
          5.0,
          5.0,
          5.0,
          5.0,
          5.0,
          6.0,
          6.0
         ],
         "yaxis": "y",
         "type": "scatter"
        },
        {
         "hovertemplate": "Driver=OCO (5 pts)<br>Round #=%{x}<br>Championship Points=%{y}<extra></extra>",
         "legendgroup": "OCO (5 pts)",
         "line": {
          "color": "#B6E880",
          "dash": "solid"
         },
         "marker": {
          "symbol": "circle"
         },
         "mode": "lines+markers",
         "name": "OCO (5 pts)",
         "orientation": "v",
         "showlegend": true,
         "x": [
          0,
          1,
          2,
          3,
          4,
          5,
          6,
          7,
          8,
          9,
          10,
          11,
          12,
          13,
          14,
          15,
          16
         ],
         "xaxis": "x",
         "y": [
          0.0,
          0.0,
          0.0,
          0.0,
          0.0,
          1.0,
          1.0,
          1.0,
          2.0,
          3.0,
          3.0,
          3.0,
          3.0,
          5.0,
          5.0,
          5.0,
          5.0
         ],
         "yaxis": "y",
         "type": "scatter"
        },
        {
         "hovertemplate": "Driver=COL (4 pts)<br>Round #=%{x}<br>Championship Points=%{y}<extra></extra>",
         "legendgroup": "COL (4 pts)",
         "line": {
          "color": "#FF97FF",
          "dash": "solid"
         },
         "marker": {
          "symbol": "circle"
         },
         "mode": "lines+markers",
         "name": "COL (4 pts)",
         "orientation": "v",
         "showlegend": true,
         "x": [
          0,
          1,
          2,
          3,
          4,
          5,
          6,
          7,
          8,
          9,
          10,
          11,
          12,
          13,
          14,
          15,
          16
         ],
         "xaxis": "x",
         "y": [
          0.0,
          0.0,
          0.0,
          0.0,
          0.0,
          0.0,
          0.0,
          0.0,
          0.0,
          0.0,
          0.0,
          0.0,
          0.0,
          0.0,
          0.0,
          0.0,
          4.0
         ],
         "yaxis": "y",
         "type": "scatter"
        },
        {
         "hovertemplate": "Driver=BOT (0 pts)<br>Round #=%{x}<br>Championship Points=%{y}<extra></extra>",
         "legendgroup": "BOT (0 pts)",
         "line": {
          "color": "#FECB52",
          "dash": "solid"
         },
         "marker": {
          "symbol": "circle"
         },
         "mode": "lines+markers",
         "name": "BOT (0 pts)",
         "orientation": "v",
         "showlegend": true,
         "x": [
          0,
          1,
          2,
          3,
          4,
          5,
          6,
          7,
          8,
          9,
          10,
          11,
          12,
          13,
          14,
          15,
          16
         ],
         "xaxis": "x",
         "y": [
          0.0,
          0.0,
          0.0,
          0.0,
          0.0,
          0.0,
          0.0,
          0.0,
          0.0,
          0.0,
          0.0,
          0.0,
          0.0,
          0.0,
          0.0,
          0.0,
          0.0
         ],
         "yaxis": "y",
         "type": "scatter"
        },
        {
         "hovertemplate": "Driver=SAR (0 pts)<br>Round #=%{x}<br>Championship Points=%{y}<extra></extra>",
         "legendgroup": "SAR (0 pts)",
         "line": {
          "color": "#636efa",
          "dash": "solid"
         },
         "marker": {
          "symbol": "circle"
         },
         "mode": "lines+markers",
         "name": "SAR (0 pts)",
         "orientation": "v",
         "showlegend": true,
         "x": [
          0,
          1,
          2,
          3,
          4,
          5,
          6,
          7,
          8,
          9,
          10,
          11,
          12,
          13,
          14,
          15,
          16
         ],
         "xaxis": "x",
         "y": [
          0.0,
          0.0,
          0.0,
          0.0,
          0.0,
          0.0,
          0.0,
          0.0,
          0.0,
          0.0,
          0.0,
          0.0,
          0.0,
          0.0,
          0.0,
          0.0,
          0.0
         ],
         "yaxis": "y",
         "type": "scatter"
        },
        {
         "hovertemplate": "Driver=ZHO (0 pts)<br>Round #=%{x}<br>Championship Points=%{y}<extra></extra>",
         "legendgroup": "ZHO (0 pts)",
         "line": {
          "color": "#EF553B",
          "dash": "solid"
         },
         "marker": {
          "symbol": "circle"
         },
         "mode": "lines+markers",
         "name": "ZHO (0 pts)",
         "orientation": "v",
         "showlegend": true,
         "x": [
          0,
          1,
          2,
          3,
          4,
          5,
          6,
          7,
          8,
          9,
          10,
          11,
          12,
          13,
          14,
          15,
          16
         ],
         "xaxis": "x",
         "y": [
          0.0,
          0.0,
          0.0,
          0.0,
          0.0,
          0.0,
          0.0,
          0.0,
          0.0,
          0.0,
          0.0,
          0.0,
          0.0,
          0.0,
          0.0,
          0.0,
          0.0
         ],
         "yaxis": "y",
         "type": "scatter"
        }
       ],
       "layout": {
        "template": {
         "data": {
          "histogram2dcontour": [
           {
            "type": "histogram2dcontour",
            "colorbar": {
             "outlinewidth": 0,
             "ticks": ""
            },
            "colorscale": [
             [
              0.0,
              "#0d0887"
             ],
             [
              0.1111111111111111,
              "#46039f"
             ],
             [
              0.2222222222222222,
              "#7201a8"
             ],
             [
              0.3333333333333333,
              "#9c179e"
             ],
             [
              0.4444444444444444,
              "#bd3786"
             ],
             [
              0.5555555555555556,
              "#d8576b"
             ],
             [
              0.6666666666666666,
              "#ed7953"
             ],
             [
              0.7777777777777778,
              "#fb9f3a"
             ],
             [
              0.8888888888888888,
              "#fdca26"
             ],
             [
              1.0,
              "#f0f921"
             ]
            ]
           }
          ],
          "choropleth": [
           {
            "type": "choropleth",
            "colorbar": {
             "outlinewidth": 0,
             "ticks": ""
            }
           }
          ],
          "histogram2d": [
           {
            "type": "histogram2d",
            "colorbar": {
             "outlinewidth": 0,
             "ticks": ""
            },
            "colorscale": [
             [
              0.0,
              "#0d0887"
             ],
             [
              0.1111111111111111,
              "#46039f"
             ],
             [
              0.2222222222222222,
              "#7201a8"
             ],
             [
              0.3333333333333333,
              "#9c179e"
             ],
             [
              0.4444444444444444,
              "#bd3786"
             ],
             [
              0.5555555555555556,
              "#d8576b"
             ],
             [
              0.6666666666666666,
              "#ed7953"
             ],
             [
              0.7777777777777778,
              "#fb9f3a"
             ],
             [
              0.8888888888888888,
              "#fdca26"
             ],
             [
              1.0,
              "#f0f921"
             ]
            ]
           }
          ],
          "heatmap": [
           {
            "type": "heatmap",
            "colorbar": {
             "outlinewidth": 0,
             "ticks": ""
            },
            "colorscale": [
             [
              0.0,
              "#0d0887"
             ],
             [
              0.1111111111111111,
              "#46039f"
             ],
             [
              0.2222222222222222,
              "#7201a8"
             ],
             [
              0.3333333333333333,
              "#9c179e"
             ],
             [
              0.4444444444444444,
              "#bd3786"
             ],
             [
              0.5555555555555556,
              "#d8576b"
             ],
             [
              0.6666666666666666,
              "#ed7953"
             ],
             [
              0.7777777777777778,
              "#fb9f3a"
             ],
             [
              0.8888888888888888,
              "#fdca26"
             ],
             [
              1.0,
              "#f0f921"
             ]
            ]
           }
          ],
          "heatmapgl": [
           {
            "type": "heatmapgl",
            "colorbar": {
             "outlinewidth": 0,
             "ticks": ""
            },
            "colorscale": [
             [
              0.0,
              "#0d0887"
             ],
             [
              0.1111111111111111,
              "#46039f"
             ],
             [
              0.2222222222222222,
              "#7201a8"
             ],
             [
              0.3333333333333333,
              "#9c179e"
             ],
             [
              0.4444444444444444,
              "#bd3786"
             ],
             [
              0.5555555555555556,
              "#d8576b"
             ],
             [
              0.6666666666666666,
              "#ed7953"
             ],
             [
              0.7777777777777778,
              "#fb9f3a"
             ],
             [
              0.8888888888888888,
              "#fdca26"
             ],
             [
              1.0,
              "#f0f921"
             ]
            ]
           }
          ],
          "contourcarpet": [
           {
            "type": "contourcarpet",
            "colorbar": {
             "outlinewidth": 0,
             "ticks": ""
            }
           }
          ],
          "contour": [
           {
            "type": "contour",
            "colorbar": {
             "outlinewidth": 0,
             "ticks": ""
            },
            "colorscale": [
             [
              0.0,
              "#0d0887"
             ],
             [
              0.1111111111111111,
              "#46039f"
             ],
             [
              0.2222222222222222,
              "#7201a8"
             ],
             [
              0.3333333333333333,
              "#9c179e"
             ],
             [
              0.4444444444444444,
              "#bd3786"
             ],
             [
              0.5555555555555556,
              "#d8576b"
             ],
             [
              0.6666666666666666,
              "#ed7953"
             ],
             [
              0.7777777777777778,
              "#fb9f3a"
             ],
             [
              0.8888888888888888,
              "#fdca26"
             ],
             [
              1.0,
              "#f0f921"
             ]
            ]
           }
          ],
          "surface": [
           {
            "type": "surface",
            "colorbar": {
             "outlinewidth": 0,
             "ticks": ""
            },
            "colorscale": [
             [
              0.0,
              "#0d0887"
             ],
             [
              0.1111111111111111,
              "#46039f"
             ],
             [
              0.2222222222222222,
              "#7201a8"
             ],
             [
              0.3333333333333333,
              "#9c179e"
             ],
             [
              0.4444444444444444,
              "#bd3786"
             ],
             [
              0.5555555555555556,
              "#d8576b"
             ],
             [
              0.6666666666666666,
              "#ed7953"
             ],
             [
              0.7777777777777778,
              "#fb9f3a"
             ],
             [
              0.8888888888888888,
              "#fdca26"
             ],
             [
              1.0,
              "#f0f921"
             ]
            ]
           }
          ],
          "mesh3d": [
           {
            "type": "mesh3d",
            "colorbar": {
             "outlinewidth": 0,
             "ticks": ""
            }
           }
          ],
          "scatter": [
           {
            "marker": {
             "line": {
              "color": "#283442"
             }
            },
            "type": "scatter"
           }
          ],
          "parcoords": [
           {
            "type": "parcoords",
            "line": {
             "colorbar": {
              "outlinewidth": 0,
              "ticks": ""
             }
            }
           }
          ],
          "scatterpolargl": [
           {
            "type": "scatterpolargl",
            "marker": {
             "colorbar": {
              "outlinewidth": 0,
              "ticks": ""
             }
            }
           }
          ],
          "bar": [
           {
            "error_x": {
             "color": "#f2f5fa"
            },
            "error_y": {
             "color": "#f2f5fa"
            },
            "marker": {
             "line": {
              "color": "rgb(17,17,17)",
              "width": 0.5
             },
             "pattern": {
              "fillmode": "overlay",
              "size": 10,
              "solidity": 0.2
             }
            },
            "type": "bar"
           }
          ],
          "scattergeo": [
           {
            "type": "scattergeo",
            "marker": {
             "colorbar": {
              "outlinewidth": 0,
              "ticks": ""
             }
            }
           }
          ],
          "scatterpolar": [
           {
            "type": "scatterpolar",
            "marker": {
             "colorbar": {
              "outlinewidth": 0,
              "ticks": ""
             }
            }
           }
          ],
          "histogram": [
           {
            "marker": {
             "pattern": {
              "fillmode": "overlay",
              "size": 10,
              "solidity": 0.2
             }
            },
            "type": "histogram"
           }
          ],
          "scattergl": [
           {
            "marker": {
             "line": {
              "color": "#283442"
             }
            },
            "type": "scattergl"
           }
          ],
          "scatter3d": [
           {
            "type": "scatter3d",
            "line": {
             "colorbar": {
              "outlinewidth": 0,
              "ticks": ""
             }
            },
            "marker": {
             "colorbar": {
              "outlinewidth": 0,
              "ticks": ""
             }
            }
           }
          ],
          "scattermapbox": [
           {
            "type": "scattermapbox",
            "marker": {
             "colorbar": {
              "outlinewidth": 0,
              "ticks": ""
             }
            }
           }
          ],
          "scatterternary": [
           {
            "type": "scatterternary",
            "marker": {
             "colorbar": {
              "outlinewidth": 0,
              "ticks": ""
             }
            }
           }
          ],
          "scattercarpet": [
           {
            "type": "scattercarpet",
            "marker": {
             "colorbar": {
              "outlinewidth": 0,
              "ticks": ""
             }
            }
           }
          ],
          "carpet": [
           {
            "aaxis": {
             "endlinecolor": "#A2B1C6",
             "gridcolor": "#506784",
             "linecolor": "#506784",
             "minorgridcolor": "#506784",
             "startlinecolor": "#A2B1C6"
            },
            "baxis": {
             "endlinecolor": "#A2B1C6",
             "gridcolor": "#506784",
             "linecolor": "#506784",
             "minorgridcolor": "#506784",
             "startlinecolor": "#A2B1C6"
            },
            "type": "carpet"
           }
          ],
          "table": [
           {
            "cells": {
             "fill": {
              "color": "#506784"
             },
             "line": {
              "color": "rgb(17,17,17)"
             }
            },
            "header": {
             "fill": {
              "color": "#2a3f5f"
             },
             "line": {
              "color": "rgb(17,17,17)"
             }
            },
            "type": "table"
           }
          ],
          "barpolar": [
           {
            "marker": {
             "line": {
              "color": "rgb(17,17,17)",
              "width": 0.5
             },
             "pattern": {
              "fillmode": "overlay",
              "size": 10,
              "solidity": 0.2
             }
            },
            "type": "barpolar"
           }
          ],
          "pie": [
           {
            "automargin": true,
            "type": "pie"
           }
          ]
         },
         "layout": {
          "autotypenumbers": "strict",
          "colorway": [
           "#636efa",
           "#EF553B",
           "#00cc96",
           "#ab63fa",
           "#FFA15A",
           "#19d3f3",
           "#FF6692",
           "#B6E880",
           "#FF97FF",
           "#FECB52"
          ],
          "font": {
           "color": "#f2f5fa"
          },
          "hovermode": "closest",
          "hoverlabel": {
           "align": "left"
          },
          "paper_bgcolor": "rgb(17,17,17)",
          "plot_bgcolor": "rgb(17,17,17)",
          "polar": {
           "bgcolor": "rgb(17,17,17)",
           "angularaxis": {
            "gridcolor": "#506784",
            "linecolor": "#506784",
            "ticks": ""
           },
           "radialaxis": {
            "gridcolor": "#506784",
            "linecolor": "#506784",
            "ticks": ""
           }
          },
          "ternary": {
           "bgcolor": "rgb(17,17,17)",
           "aaxis": {
            "gridcolor": "#506784",
            "linecolor": "#506784",
            "ticks": ""
           },
           "baxis": {
            "gridcolor": "#506784",
            "linecolor": "#506784",
            "ticks": ""
           },
           "caxis": {
            "gridcolor": "#506784",
            "linecolor": "#506784",
            "ticks": ""
           }
          },
          "coloraxis": {
           "colorbar": {
            "outlinewidth": 0,
            "ticks": ""
           }
          },
          "colorscale": {
           "sequential": [
            [
             0.0,
             "#0d0887"
            ],
            [
             0.1111111111111111,
             "#46039f"
            ],
            [
             0.2222222222222222,
             "#7201a8"
            ],
            [
             0.3333333333333333,
             "#9c179e"
            ],
            [
             0.4444444444444444,
             "#bd3786"
            ],
            [
             0.5555555555555556,
             "#d8576b"
            ],
            [
             0.6666666666666666,
             "#ed7953"
            ],
            [
             0.7777777777777778,
             "#fb9f3a"
            ],
            [
             0.8888888888888888,
             "#fdca26"
            ],
            [
             1.0,
             "#f0f921"
            ]
           ],
           "sequentialminus": [
            [
             0.0,
             "#0d0887"
            ],
            [
             0.1111111111111111,
             "#46039f"
            ],
            [
             0.2222222222222222,
             "#7201a8"
            ],
            [
             0.3333333333333333,
             "#9c179e"
            ],
            [
             0.4444444444444444,
             "#bd3786"
            ],
            [
             0.5555555555555556,
             "#d8576b"
            ],
            [
             0.6666666666666666,
             "#ed7953"
            ],
            [
             0.7777777777777778,
             "#fb9f3a"
            ],
            [
             0.8888888888888888,
             "#fdca26"
            ],
            [
             1.0,
             "#f0f921"
            ]
           ],
           "diverging": [
            [
             0,
             "#8e0152"
            ],
            [
             0.1,
             "#c51b7d"
            ],
            [
             0.2,
             "#de77ae"
            ],
            [
             0.3,
             "#f1b6da"
            ],
            [
             0.4,
             "#fde0ef"
            ],
            [
             0.5,
             "#f7f7f7"
            ],
            [
             0.6,
             "#e6f5d0"
            ],
            [
             0.7,
             "#b8e186"
            ],
            [
             0.8,
             "#7fbc41"
            ],
            [
             0.9,
             "#4d9221"
            ],
            [
             1,
             "#276419"
            ]
           ]
          },
          "xaxis": {
           "gridcolor": "#283442",
           "linecolor": "#506784",
           "ticks": "",
           "title": {
            "standoff": 15
           },
           "zerolinecolor": "#283442",
           "automargin": true,
           "zerolinewidth": 2
          },
          "yaxis": {
           "gridcolor": "#283442",
           "linecolor": "#506784",
           "ticks": "",
           "title": {
            "standoff": 15
           },
           "zerolinecolor": "#283442",
           "automargin": true,
           "zerolinewidth": 2
          },
          "scene": {
           "xaxis": {
            "backgroundcolor": "rgb(17,17,17)",
            "gridcolor": "#506784",
            "linecolor": "#506784",
            "showbackground": true,
            "ticks": "",
            "zerolinecolor": "#C8D4E3",
            "gridwidth": 2
           },
           "yaxis": {
            "backgroundcolor": "rgb(17,17,17)",
            "gridcolor": "#506784",
            "linecolor": "#506784",
            "showbackground": true,
            "ticks": "",
            "zerolinecolor": "#C8D4E3",
            "gridwidth": 2
           },
           "zaxis": {
            "backgroundcolor": "rgb(17,17,17)",
            "gridcolor": "#506784",
            "linecolor": "#506784",
            "showbackground": true,
            "ticks": "",
            "zerolinecolor": "#C8D4E3",
            "gridwidth": 2
           }
          },
          "shapedefaults": {
           "line": {
            "color": "#f2f5fa"
           }
          },
          "annotationdefaults": {
           "arrowcolor": "#f2f5fa",
           "arrowhead": 0,
           "arrowwidth": 1
          },
          "geo": {
           "bgcolor": "rgb(17,17,17)",
           "landcolor": "rgb(17,17,17)",
           "subunitcolor": "#506784",
           "showland": true,
           "showlakes": true,
           "lakecolor": "rgb(17,17,17)"
          },
          "title": {
           "x": 0.05
          },
          "updatemenudefaults": {
           "bgcolor": "#506784",
           "borderwidth": 0
          },
          "sliderdefaults": {
           "bgcolor": "#C8D4E3",
           "borderwidth": 1,
           "bordercolor": "rgb(17,17,17)",
           "tickwidth": 0
          },
          "mapbox": {
           "style": "dark"
          }
         }
        },
        "xaxis": {
         "anchor": "y",
         "domain": [
          0.0,
          1.0
         ],
         "title": {
          "text": "Round #"
         }
        },
        "yaxis": {
         "anchor": "x",
         "domain": [
          0.0,
          1.0
         ],
         "title": {
          "text": "Championship Points"
         }
        },
        "legend": {
         "title": {
          "text": "Driver"
         },
         "tracegroupgap": 0
        },
        "margin": {
         "t": 60
        }
       },
       "config": {
        "plotlyServerURL": "https://plot.ly"
       }
      },
      "text/html": "<div>                            <div id=\"18c01ffe-2328-4855-a63f-eed0588f4067\" class=\"plotly-graph-div\" style=\"height:525px; width:100%;\"></div>            <script type=\"text/javascript\">                require([\"plotly\"], function(Plotly) {                    window.PLOTLYENV=window.PLOTLYENV || {};                                    if (document.getElementById(\"18c01ffe-2328-4855-a63f-eed0588f4067\")) {                    Plotly.newPlot(                        \"18c01ffe-2328-4855-a63f-eed0588f4067\",                        [{\"hovertemplate\":\"Driver=VER (313 pts)\\u003cbr\\u003eRound #=%{x}\\u003cbr\\u003eChampionship Points=%{y}\\u003cextra\\u003e\\u003c\\u002fextra\\u003e\",\"legendgroup\":\"VER (313 pts)\",\"line\":{\"color\":\"#636efa\",\"dash\":\"solid\"},\"marker\":{\"symbol\":\"circle\"},\"mode\":\"lines+markers\",\"name\":\"VER (313 pts)\",\"orientation\":\"v\",\"showlegend\":true,\"x\":[0,1,2,3,4,5,6,7,8,9,10,11,12,13,14,15,16],\"xaxis\":\"x\",\"y\":[26.0,51.0,51.0,77.0,110.0,136.0,161.0,169.0,194.0,219.0,237.0,255.0,265.0,277.0,295.0,303.0,313.0],\"yaxis\":\"y\",\"type\":\"scatter\"},{\"hovertemplate\":\"Driver=NOR (254 pts)\\u003cbr\\u003eRound #=%{x}\\u003cbr\\u003eChampionship Points=%{y}\\u003cextra\\u003e\\u003c\\u002fextra\\u003e\",\"legendgroup\":\"NOR (254 pts)\",\"line\":{\"color\":\"#EF553B\",\"dash\":\"solid\"},\"marker\":{\"symbol\":\"circle\"},\"mode\":\"lines+markers\",\"name\":\"NOR (254 pts)\",\"orientation\":\"v\",\"showlegend\":true,\"x\":[0,1,2,3,4,5,6,7,8,9,10,11,12,13,14,15,16],\"xaxis\":\"x\",\"y\":[8.0,12.0,27.0,37.0,58.0,83.0,101.0,113.0,131.0,150.0,156.0,171.0,189.0,199.0,225.0,241.0,254.0],\"yaxis\":\"y\",\"type\":\"scatter\"},{\"hovertemplate\":\"Driver=LEC (235 pts)\\u003cbr\\u003eRound #=%{x}\\u003cbr\\u003eChampionship Points=%{y}\\u003cextra\\u003e\\u003c\\u002fextra\\u003e\",\"legendgroup\":\"LEC (235 pts)\",\"line\":{\"color\":\"#00cc96\",\"dash\":\"solid\"},\"marker\":{\"symbol\":\"circle\"},\"mode\":\"lines+markers\",\"name\":\"LEC (235 pts)\",\"orientation\":\"v\",\"showlegend\":true,\"x\":[0,1,2,3,4,5,6,7,8,9,10,11,12,13,14,15,16],\"xaxis\":\"x\",\"y\":[12.0,28.0,47.0,59.0,76.0,98.0,113.0,138.0,138.0,148.0,150.0,150.0,162.0,177.0,192.0,217.0,235.0],\"yaxis\":\"y\",\"type\":\"scatter\"},{\"hovertemplate\":\"Driver=PIA (222 pts)\\u003cbr\\u003eRound #=%{x}\\u003cbr\\u003eChampionship Points=%{y}\\u003cextra\\u003e\\u003c\\u002fextra\\u003e\",\"legendgroup\":\"PIA (222 pts)\",\"line\":{\"color\":\"#ab63fa\",\"dash\":\"solid\"},\"marker\":{\"symbol\":\"circle\"},\"mode\":\"lines+markers\",\"name\":\"PIA (222 pts)\",\"orientation\":\"v\",\"showlegend\":true,\"x\":[0,1,2,3,4,5,6,7,8,9,10,11,12,13,14,15,16],\"xaxis\":\"x\",\"y\":[4.0,16.0,28.0,32.0,38.0,41.0,53.0,71.0,81.0,87.0,112.0,124.0,149.0,167.0,179.0,197.0,222.0],\"yaxis\":\"y\",\"type\":\"scatter\"},{\"hovertemplate\":\"Driver=SAI (184 pts)\\u003cbr\\u003eRound #=%{x}\\u003cbr\\u003eChampionship Points=%{y}\\u003cextra\\u003e\\u003c\\u002fextra\\u003e\",\"legendgroup\":\"SAI (184 pts)\",\"line\":{\"color\":\"#FFA15A\",\"dash\":\"solid\"},\"marker\":{\"symbol\":\"circle\"},\"mode\":\"lines+markers\",\"name\":\"SAI (184 pts)\",\"orientation\":\"v\",\"showlegend\":true,\"x\":[0,1,2,3,4,5,6,7,8,9,10,11,12,13,14,15,16],\"xaxis\":\"x\",\"y\":[15.0,15.0,40.0,55.0,69.0,83.0,93.0,108.0,108.0,116.0,135.0,146.0,154.0,162.0,172.0,184.0,184.0],\"yaxis\":\"y\",\"type\":\"scatter\"},{\"hovertemplate\":\"Driver=HAM (166 pts)\\u003cbr\\u003eRound #=%{x}\\u003cbr\\u003eChampionship Points=%{y}\\u003cextra\\u003e\\u003c\\u002fextra\\u003e\",\"legendgroup\":\"HAM (166 pts)\",\"line\":{\"color\":\"#19d3f3\",\"dash\":\"solid\"},\"marker\":{\"symbol\":\"circle\"},\"mode\":\"lines+markers\",\"name\":\"HAM (166 pts)\",\"orientation\":\"v\",\"showlegend\":true,\"x\":[0,1,2,3,4,5,6,7,8,9,10,11,12,13,14,15,16],\"xaxis\":\"x\",\"y\":[6.0,8.0,8.0,10.0,19.0,27.0,35.0,42.0,55.0,70.0,85.0,110.0,125.0,150.0,154.0,164.0,166.0],\"yaxis\":\"y\",\"type\":\"scatter\"},{\"hovertemplate\":\"Driver=PER (143 pts)\\u003cbr\\u003eRound #=%{x}\\u003cbr\\u003eChampionship Points=%{y}\\u003cextra\\u003e\\u003c\\u002fextra\\u003e\",\"legendgroup\":\"PER (143 pts)\",\"line\":{\"color\":\"#FF6692\",\"dash\":\"solid\"},\"marker\":{\"symbol\":\"circle\"},\"mode\":\"lines+markers\",\"name\":\"PER (143 pts)\",\"orientation\":\"v\",\"showlegend\":true,\"x\":[0,1,2,3,4,5,6,7,8,9,10,11,12,13,14,15,16],\"xaxis\":\"x\",\"y\":[18.0,36.0,46.0,64.0,85.0,103.0,107.0,107.0,107.0,111.0,118.0,118.0,124.0,131.0,139.0,143.0,143.0],\"yaxis\":\"y\",\"type\":\"scatter\"},{\"hovertemplate\":\"Driver=RUS (143 pts)\\u003cbr\\u003eRound #=%{x}\\u003cbr\\u003eChampionship Points=%{y}\\u003cextra\\u003e\\u003c\\u002fextra\\u003e\",\"legendgroup\":\"RUS (143 pts)\",\"line\":{\"color\":\"#B6E880\",\"dash\":\"solid\"},\"marker\":{\"symbol\":\"circle\"},\"mode\":\"lines+markers\",\"name\":\"RUS (143 pts)\",\"orientation\":\"v\",\"showlegend\":true,\"x\":[0,1,2,3,4,5,6,7,8,9,10,11,12,13,14,15,16],\"xaxis\":\"x\",\"y\":[10.0,18.0,18.0,24.0,33.0,37.0,44.0,54.0,69.0,81.0,111.0,111.0,116.0,116.0,122.0,128.0,143.0],\"yaxis\":\"y\",\"type\":\"scatter\"},{\"hovertemplate\":\"Driver=ALO (58 pts)\\u003cbr\\u003eRound #=%{x}\\u003cbr\\u003eChampionship Points=%{y}\\u003cextra\\u003e\\u003c\\u002fextra\\u003e\",\"legendgroup\":\"ALO (58 pts)\",\"line\":{\"color\":\"#FF97FF\",\"dash\":\"solid\"},\"marker\":{\"symbol\":\"circle\"},\"mode\":\"lines+markers\",\"name\":\"ALO (58 pts)\",\"orientation\":\"v\",\"showlegend\":true,\"x\":[0,1,2,3,4,5,6,7,8,9,10,11,12,13,14,15,16],\"xaxis\":\"x\",\"y\":[2.0,12.0,16.0,24.0,31.0,33.0,33.0,33.0,41.0,41.0,41.0,45.0,45.0,49.0,50.0,50.0,58.0],\"yaxis\":\"y\",\"type\":\"scatter\"},{\"hovertemplate\":\"Driver=STR (24 pts)\\u003cbr\\u003eRound #=%{x}\\u003cbr\\u003eChampionship Points=%{y}\\u003cextra\\u003e\\u003c\\u002fextra\\u003e\",\"legendgroup\":\"STR (24 pts)\",\"line\":{\"color\":\"#FECB52\",\"dash\":\"solid\"},\"marker\":{\"symbol\":\"circle\"},\"mode\":\"lines+markers\",\"name\":\"STR (24 pts)\",\"orientation\":\"v\",\"showlegend\":true,\"x\":[0,1,2,3,4,5,6,7,8,9,10,11,12,13,14,15,16],\"xaxis\":\"x\",\"y\":[1.0,1.0,9.0,9.0,9.0,9.0,11.0,11.0,17.0,17.0,17.0,23.0,24.0,24.0,24.0,24.0,24.0],\"yaxis\":\"y\",\"type\":\"scatter\"},{\"hovertemplate\":\"Driver=HUL (22 pts)\\u003cbr\\u003eRound #=%{x}\\u003cbr\\u003eChampionship Points=%{y}\\u003cextra\\u003e\\u003c\\u002fextra\\u003e\",\"legendgroup\":\"HUL (22 pts)\",\"line\":{\"color\":\"#636efa\",\"dash\":\"solid\"},\"marker\":{\"symbol\":\"circle\"},\"mode\":\"lines+markers\",\"name\":\"HUL (22 pts)\",\"orientation\":\"v\",\"showlegend\":true,\"x\":[0,1,2,3,4,5,6,7,8,9,10,11,12,13,14,15,16],\"xaxis\":\"x\",\"y\":[0.0,1.0,3.0,3.0,4.0,6.0,6.0,6.0,6.0,6.0,14.0,22.0,22.0,22.0,22.0,22.0,22.0],\"yaxis\":\"y\",\"type\":\"scatter\"},{\"hovertemplate\":\"Driver=TSU (22 pts)\\u003cbr\\u003eRound #=%{x}\\u003cbr\\u003eChampionship Points=%{y}\\u003cextra\\u003e\\u003c\\u002fextra\\u003e\",\"legendgroup\":\"TSU (22 pts)\",\"line\":{\"color\":\"#EF553B\",\"dash\":\"solid\"},\"marker\":{\"symbol\":\"circle\"},\"mode\":\"lines+markers\",\"name\":\"TSU (22 pts)\",\"orientation\":\"v\",\"showlegend\":true,\"x\":[0,1,2,3,4,5,6,7,8,9,10,11,12,13,14,15,16],\"xaxis\":\"x\",\"y\":[0.0,0.0,6.0,7.0,7.0,14.0,15.0,19.0,19.0,19.0,19.0,20.0,22.0,22.0,22.0,22.0,22.0],\"yaxis\":\"y\",\"type\":\"scatter\"},{\"hovertemplate\":\"Driver=ALB (12 pts)\\u003cbr\\u003eRound #=%{x}\\u003cbr\\u003eChampionship Points=%{y}\\u003cextra\\u003e\\u003c\\u002fextra\\u003e\",\"legendgroup\":\"ALB (12 pts)\",\"line\":{\"color\":\"#00cc96\",\"dash\":\"solid\"},\"marker\":{\"symbol\":\"circle\"},\"mode\":\"lines+markers\",\"name\":\"ALB (12 pts)\",\"orientation\":\"v\",\"showlegend\":true,\"x\":[0,1,2,3,4,5,6,7,8,9,10,11,12,13,14,15,16],\"xaxis\":\"x\",\"y\":[0.0,0.0,0.0,0.0,0.0,0.0,0.0,2.0,2.0,2.0,2.0,4.0,4.0,4.0,4.0,6.0,12.0],\"yaxis\":\"y\",\"type\":\"scatter\"},{\"hovertemplate\":\"Driver=RIC (12 pts)\\u003cbr\\u003eRound #=%{x}\\u003cbr\\u003eChampionship Points=%{y}\\u003cextra\\u003e\\u003c\\u002fextra\\u003e\",\"legendgroup\":\"RIC (12 pts)\",\"line\":{\"color\":\"#ab63fa\",\"dash\":\"solid\"},\"marker\":{\"symbol\":\"circle\"},\"mode\":\"lines+markers\",\"name\":\"RIC (12 pts)\",\"orientation\":\"v\",\"showlegend\":true,\"x\":[0,1,2,3,4,5,6,7,8,9,10,11,12,13,14,15,16],\"xaxis\":\"x\",\"y\":[0.0,0.0,0.0,0.0,0.0,5.0,5.0,5.0,9.0,9.0,11.0,11.0,11.0,12.0,12.0,12.0,12.0],\"yaxis\":\"y\",\"type\":\"scatter\"},{\"hovertemplate\":\"Driver=GAS (8 pts)\\u003cbr\\u003eRound #=%{x}\\u003cbr\\u003eChampionship Points=%{y}\\u003cextra\\u003e\\u003c\\u002fextra\\u003e\",\"legendgroup\":\"GAS (8 pts)\",\"line\":{\"color\":\"#FFA15A\",\"dash\":\"solid\"},\"marker\":{\"symbol\":\"circle\"},\"mode\":\"lines+markers\",\"name\":\"GAS (8 pts)\",\"orientation\":\"v\",\"showlegend\":true,\"x\":[0,1,2,3,4,5,6,7,8,9,10,11,12,13,14,15,16],\"xaxis\":\"x\",\"y\":[0.0,0.0,0.0,0.0,0.0,0.0,0.0,1.0,3.0,5.0,6.0,6.0,6.0,6.0,8.0,8.0,8.0],\"yaxis\":\"y\",\"type\":\"scatter\"},{\"hovertemplate\":\"Driver=BEA (7 pts)\\u003cbr\\u003eRound #=%{x}\\u003cbr\\u003eChampionship Points=%{y}\\u003cextra\\u003e\\u003c\\u002fextra\\u003e\",\"legendgroup\":\"BEA (7 pts)\",\"line\":{\"color\":\"#19d3f3\",\"dash\":\"solid\"},\"marker\":{\"symbol\":\"circle\"},\"mode\":\"lines+markers\",\"name\":\"BEA (7 pts)\",\"orientation\":\"v\",\"showlegend\":true,\"x\":[0,1,2,3,4,5,6,7,8,9,10,11,12,13,14,15,16],\"xaxis\":\"x\",\"y\":[0.0,6.0,6.0,6.0,6.0,6.0,6.0,6.0,6.0,6.0,6.0,6.0,6.0,6.0,6.0,6.0,7.0],\"yaxis\":\"y\",\"type\":\"scatter\"},{\"hovertemplate\":\"Driver=MAG (6 pts)\\u003cbr\\u003eRound #=%{x}\\u003cbr\\u003eChampionship Points=%{y}\\u003cextra\\u003e\\u003c\\u002fextra\\u003e\",\"legendgroup\":\"MAG (6 pts)\",\"line\":{\"color\":\"#FF6692\",\"dash\":\"solid\"},\"marker\":{\"symbol\":\"circle\"},\"mode\":\"lines+markers\",\"name\":\"MAG (6 pts)\",\"orientation\":\"v\",\"showlegend\":true,\"x\":[0,1,2,3,4,5,6,7,8,9,10,11,12,13,14,15,16],\"xaxis\":\"x\",\"y\":[0.0,0.0,1.0,1.0,1.0,1.0,1.0,1.0,1.0,1.0,5.0,5.0,5.0,5.0,5.0,6.0,6.0],\"yaxis\":\"y\",\"type\":\"scatter\"},{\"hovertemplate\":\"Driver=OCO (5 pts)\\u003cbr\\u003eRound #=%{x}\\u003cbr\\u003eChampionship Points=%{y}\\u003cextra\\u003e\\u003c\\u002fextra\\u003e\",\"legendgroup\":\"OCO (5 pts)\",\"line\":{\"color\":\"#B6E880\",\"dash\":\"solid\"},\"marker\":{\"symbol\":\"circle\"},\"mode\":\"lines+markers\",\"name\":\"OCO (5 pts)\",\"orientation\":\"v\",\"showlegend\":true,\"x\":[0,1,2,3,4,5,6,7,8,9,10,11,12,13,14,15,16],\"xaxis\":\"x\",\"y\":[0.0,0.0,0.0,0.0,0.0,1.0,1.0,1.0,2.0,3.0,3.0,3.0,3.0,5.0,5.0,5.0,5.0],\"yaxis\":\"y\",\"type\":\"scatter\"},{\"hovertemplate\":\"Driver=COL (4 pts)\\u003cbr\\u003eRound #=%{x}\\u003cbr\\u003eChampionship Points=%{y}\\u003cextra\\u003e\\u003c\\u002fextra\\u003e\",\"legendgroup\":\"COL (4 pts)\",\"line\":{\"color\":\"#FF97FF\",\"dash\":\"solid\"},\"marker\":{\"symbol\":\"circle\"},\"mode\":\"lines+markers\",\"name\":\"COL (4 pts)\",\"orientation\":\"v\",\"showlegend\":true,\"x\":[0,1,2,3,4,5,6,7,8,9,10,11,12,13,14,15,16],\"xaxis\":\"x\",\"y\":[0.0,0.0,0.0,0.0,0.0,0.0,0.0,0.0,0.0,0.0,0.0,0.0,0.0,0.0,0.0,0.0,4.0],\"yaxis\":\"y\",\"type\":\"scatter\"},{\"hovertemplate\":\"Driver=BOT (0 pts)\\u003cbr\\u003eRound #=%{x}\\u003cbr\\u003eChampionship Points=%{y}\\u003cextra\\u003e\\u003c\\u002fextra\\u003e\",\"legendgroup\":\"BOT (0 pts)\",\"line\":{\"color\":\"#FECB52\",\"dash\":\"solid\"},\"marker\":{\"symbol\":\"circle\"},\"mode\":\"lines+markers\",\"name\":\"BOT (0 pts)\",\"orientation\":\"v\",\"showlegend\":true,\"x\":[0,1,2,3,4,5,6,7,8,9,10,11,12,13,14,15,16],\"xaxis\":\"x\",\"y\":[0.0,0.0,0.0,0.0,0.0,0.0,0.0,0.0,0.0,0.0,0.0,0.0,0.0,0.0,0.0,0.0,0.0],\"yaxis\":\"y\",\"type\":\"scatter\"},{\"hovertemplate\":\"Driver=SAR (0 pts)\\u003cbr\\u003eRound #=%{x}\\u003cbr\\u003eChampionship Points=%{y}\\u003cextra\\u003e\\u003c\\u002fextra\\u003e\",\"legendgroup\":\"SAR (0 pts)\",\"line\":{\"color\":\"#636efa\",\"dash\":\"solid\"},\"marker\":{\"symbol\":\"circle\"},\"mode\":\"lines+markers\",\"name\":\"SAR (0 pts)\",\"orientation\":\"v\",\"showlegend\":true,\"x\":[0,1,2,3,4,5,6,7,8,9,10,11,12,13,14,15,16],\"xaxis\":\"x\",\"y\":[0.0,0.0,0.0,0.0,0.0,0.0,0.0,0.0,0.0,0.0,0.0,0.0,0.0,0.0,0.0,0.0,0.0],\"yaxis\":\"y\",\"type\":\"scatter\"},{\"hovertemplate\":\"Driver=ZHO (0 pts)\\u003cbr\\u003eRound #=%{x}\\u003cbr\\u003eChampionship Points=%{y}\\u003cextra\\u003e\\u003c\\u002fextra\\u003e\",\"legendgroup\":\"ZHO (0 pts)\",\"line\":{\"color\":\"#EF553B\",\"dash\":\"solid\"},\"marker\":{\"symbol\":\"circle\"},\"mode\":\"lines+markers\",\"name\":\"ZHO (0 pts)\",\"orientation\":\"v\",\"showlegend\":true,\"x\":[0,1,2,3,4,5,6,7,8,9,10,11,12,13,14,15,16],\"xaxis\":\"x\",\"y\":[0.0,0.0,0.0,0.0,0.0,0.0,0.0,0.0,0.0,0.0,0.0,0.0,0.0,0.0,0.0,0.0,0.0],\"yaxis\":\"y\",\"type\":\"scatter\"}],                        {\"template\":{\"data\":{\"histogram2dcontour\":[{\"type\":\"histogram2dcontour\",\"colorbar\":{\"outlinewidth\":0,\"ticks\":\"\"},\"colorscale\":[[0.0,\"#0d0887\"],[0.1111111111111111,\"#46039f\"],[0.2222222222222222,\"#7201a8\"],[0.3333333333333333,\"#9c179e\"],[0.4444444444444444,\"#bd3786\"],[0.5555555555555556,\"#d8576b\"],[0.6666666666666666,\"#ed7953\"],[0.7777777777777778,\"#fb9f3a\"],[0.8888888888888888,\"#fdca26\"],[1.0,\"#f0f921\"]]}],\"choropleth\":[{\"type\":\"choropleth\",\"colorbar\":{\"outlinewidth\":0,\"ticks\":\"\"}}],\"histogram2d\":[{\"type\":\"histogram2d\",\"colorbar\":{\"outlinewidth\":0,\"ticks\":\"\"},\"colorscale\":[[0.0,\"#0d0887\"],[0.1111111111111111,\"#46039f\"],[0.2222222222222222,\"#7201a8\"],[0.3333333333333333,\"#9c179e\"],[0.4444444444444444,\"#bd3786\"],[0.5555555555555556,\"#d8576b\"],[0.6666666666666666,\"#ed7953\"],[0.7777777777777778,\"#fb9f3a\"],[0.8888888888888888,\"#fdca26\"],[1.0,\"#f0f921\"]]}],\"heatmap\":[{\"type\":\"heatmap\",\"colorbar\":{\"outlinewidth\":0,\"ticks\":\"\"},\"colorscale\":[[0.0,\"#0d0887\"],[0.1111111111111111,\"#46039f\"],[0.2222222222222222,\"#7201a8\"],[0.3333333333333333,\"#9c179e\"],[0.4444444444444444,\"#bd3786\"],[0.5555555555555556,\"#d8576b\"],[0.6666666666666666,\"#ed7953\"],[0.7777777777777778,\"#fb9f3a\"],[0.8888888888888888,\"#fdca26\"],[1.0,\"#f0f921\"]]}],\"heatmapgl\":[{\"type\":\"heatmapgl\",\"colorbar\":{\"outlinewidth\":0,\"ticks\":\"\"},\"colorscale\":[[0.0,\"#0d0887\"],[0.1111111111111111,\"#46039f\"],[0.2222222222222222,\"#7201a8\"],[0.3333333333333333,\"#9c179e\"],[0.4444444444444444,\"#bd3786\"],[0.5555555555555556,\"#d8576b\"],[0.6666666666666666,\"#ed7953\"],[0.7777777777777778,\"#fb9f3a\"],[0.8888888888888888,\"#fdca26\"],[1.0,\"#f0f921\"]]}],\"contourcarpet\":[{\"type\":\"contourcarpet\",\"colorbar\":{\"outlinewidth\":0,\"ticks\":\"\"}}],\"contour\":[{\"type\":\"contour\",\"colorbar\":{\"outlinewidth\":0,\"ticks\":\"\"},\"colorscale\":[[0.0,\"#0d0887\"],[0.1111111111111111,\"#46039f\"],[0.2222222222222222,\"#7201a8\"],[0.3333333333333333,\"#9c179e\"],[0.4444444444444444,\"#bd3786\"],[0.5555555555555556,\"#d8576b\"],[0.6666666666666666,\"#ed7953\"],[0.7777777777777778,\"#fb9f3a\"],[0.8888888888888888,\"#fdca26\"],[1.0,\"#f0f921\"]]}],\"surface\":[{\"type\":\"surface\",\"colorbar\":{\"outlinewidth\":0,\"ticks\":\"\"},\"colorscale\":[[0.0,\"#0d0887\"],[0.1111111111111111,\"#46039f\"],[0.2222222222222222,\"#7201a8\"],[0.3333333333333333,\"#9c179e\"],[0.4444444444444444,\"#bd3786\"],[0.5555555555555556,\"#d8576b\"],[0.6666666666666666,\"#ed7953\"],[0.7777777777777778,\"#fb9f3a\"],[0.8888888888888888,\"#fdca26\"],[1.0,\"#f0f921\"]]}],\"mesh3d\":[{\"type\":\"mesh3d\",\"colorbar\":{\"outlinewidth\":0,\"ticks\":\"\"}}],\"scatter\":[{\"marker\":{\"line\":{\"color\":\"#283442\"}},\"type\":\"scatter\"}],\"parcoords\":[{\"type\":\"parcoords\",\"line\":{\"colorbar\":{\"outlinewidth\":0,\"ticks\":\"\"}}}],\"scatterpolargl\":[{\"type\":\"scatterpolargl\",\"marker\":{\"colorbar\":{\"outlinewidth\":0,\"ticks\":\"\"}}}],\"bar\":[{\"error_x\":{\"color\":\"#f2f5fa\"},\"error_y\":{\"color\":\"#f2f5fa\"},\"marker\":{\"line\":{\"color\":\"rgb(17,17,17)\",\"width\":0.5},\"pattern\":{\"fillmode\":\"overlay\",\"size\":10,\"solidity\":0.2}},\"type\":\"bar\"}],\"scattergeo\":[{\"type\":\"scattergeo\",\"marker\":{\"colorbar\":{\"outlinewidth\":0,\"ticks\":\"\"}}}],\"scatterpolar\":[{\"type\":\"scatterpolar\",\"marker\":{\"colorbar\":{\"outlinewidth\":0,\"ticks\":\"\"}}}],\"histogram\":[{\"marker\":{\"pattern\":{\"fillmode\":\"overlay\",\"size\":10,\"solidity\":0.2}},\"type\":\"histogram\"}],\"scattergl\":[{\"marker\":{\"line\":{\"color\":\"#283442\"}},\"type\":\"scattergl\"}],\"scatter3d\":[{\"type\":\"scatter3d\",\"line\":{\"colorbar\":{\"outlinewidth\":0,\"ticks\":\"\"}},\"marker\":{\"colorbar\":{\"outlinewidth\":0,\"ticks\":\"\"}}}],\"scattermapbox\":[{\"type\":\"scattermapbox\",\"marker\":{\"colorbar\":{\"outlinewidth\":0,\"ticks\":\"\"}}}],\"scatterternary\":[{\"type\":\"scatterternary\",\"marker\":{\"colorbar\":{\"outlinewidth\":0,\"ticks\":\"\"}}}],\"scattercarpet\":[{\"type\":\"scattercarpet\",\"marker\":{\"colorbar\":{\"outlinewidth\":0,\"ticks\":\"\"}}}],\"carpet\":[{\"aaxis\":{\"endlinecolor\":\"#A2B1C6\",\"gridcolor\":\"#506784\",\"linecolor\":\"#506784\",\"minorgridcolor\":\"#506784\",\"startlinecolor\":\"#A2B1C6\"},\"baxis\":{\"endlinecolor\":\"#A2B1C6\",\"gridcolor\":\"#506784\",\"linecolor\":\"#506784\",\"minorgridcolor\":\"#506784\",\"startlinecolor\":\"#A2B1C6\"},\"type\":\"carpet\"}],\"table\":[{\"cells\":{\"fill\":{\"color\":\"#506784\"},\"line\":{\"color\":\"rgb(17,17,17)\"}},\"header\":{\"fill\":{\"color\":\"#2a3f5f\"},\"line\":{\"color\":\"rgb(17,17,17)\"}},\"type\":\"table\"}],\"barpolar\":[{\"marker\":{\"line\":{\"color\":\"rgb(17,17,17)\",\"width\":0.5},\"pattern\":{\"fillmode\":\"overlay\",\"size\":10,\"solidity\":0.2}},\"type\":\"barpolar\"}],\"pie\":[{\"automargin\":true,\"type\":\"pie\"}]},\"layout\":{\"autotypenumbers\":\"strict\",\"colorway\":[\"#636efa\",\"#EF553B\",\"#00cc96\",\"#ab63fa\",\"#FFA15A\",\"#19d3f3\",\"#FF6692\",\"#B6E880\",\"#FF97FF\",\"#FECB52\"],\"font\":{\"color\":\"#f2f5fa\"},\"hovermode\":\"closest\",\"hoverlabel\":{\"align\":\"left\"},\"paper_bgcolor\":\"rgb(17,17,17)\",\"plot_bgcolor\":\"rgb(17,17,17)\",\"polar\":{\"bgcolor\":\"rgb(17,17,17)\",\"angularaxis\":{\"gridcolor\":\"#506784\",\"linecolor\":\"#506784\",\"ticks\":\"\"},\"radialaxis\":{\"gridcolor\":\"#506784\",\"linecolor\":\"#506784\",\"ticks\":\"\"}},\"ternary\":{\"bgcolor\":\"rgb(17,17,17)\",\"aaxis\":{\"gridcolor\":\"#506784\",\"linecolor\":\"#506784\",\"ticks\":\"\"},\"baxis\":{\"gridcolor\":\"#506784\",\"linecolor\":\"#506784\",\"ticks\":\"\"},\"caxis\":{\"gridcolor\":\"#506784\",\"linecolor\":\"#506784\",\"ticks\":\"\"}},\"coloraxis\":{\"colorbar\":{\"outlinewidth\":0,\"ticks\":\"\"}},\"colorscale\":{\"sequential\":[[0.0,\"#0d0887\"],[0.1111111111111111,\"#46039f\"],[0.2222222222222222,\"#7201a8\"],[0.3333333333333333,\"#9c179e\"],[0.4444444444444444,\"#bd3786\"],[0.5555555555555556,\"#d8576b\"],[0.6666666666666666,\"#ed7953\"],[0.7777777777777778,\"#fb9f3a\"],[0.8888888888888888,\"#fdca26\"],[1.0,\"#f0f921\"]],\"sequentialminus\":[[0.0,\"#0d0887\"],[0.1111111111111111,\"#46039f\"],[0.2222222222222222,\"#7201a8\"],[0.3333333333333333,\"#9c179e\"],[0.4444444444444444,\"#bd3786\"],[0.5555555555555556,\"#d8576b\"],[0.6666666666666666,\"#ed7953\"],[0.7777777777777778,\"#fb9f3a\"],[0.8888888888888888,\"#fdca26\"],[1.0,\"#f0f921\"]],\"diverging\":[[0,\"#8e0152\"],[0.1,\"#c51b7d\"],[0.2,\"#de77ae\"],[0.3,\"#f1b6da\"],[0.4,\"#fde0ef\"],[0.5,\"#f7f7f7\"],[0.6,\"#e6f5d0\"],[0.7,\"#b8e186\"],[0.8,\"#7fbc41\"],[0.9,\"#4d9221\"],[1,\"#276419\"]]},\"xaxis\":{\"gridcolor\":\"#283442\",\"linecolor\":\"#506784\",\"ticks\":\"\",\"title\":{\"standoff\":15},\"zerolinecolor\":\"#283442\",\"automargin\":true,\"zerolinewidth\":2},\"yaxis\":{\"gridcolor\":\"#283442\",\"linecolor\":\"#506784\",\"ticks\":\"\",\"title\":{\"standoff\":15},\"zerolinecolor\":\"#283442\",\"automargin\":true,\"zerolinewidth\":2},\"scene\":{\"xaxis\":{\"backgroundcolor\":\"rgb(17,17,17)\",\"gridcolor\":\"#506784\",\"linecolor\":\"#506784\",\"showbackground\":true,\"ticks\":\"\",\"zerolinecolor\":\"#C8D4E3\",\"gridwidth\":2},\"yaxis\":{\"backgroundcolor\":\"rgb(17,17,17)\",\"gridcolor\":\"#506784\",\"linecolor\":\"#506784\",\"showbackground\":true,\"ticks\":\"\",\"zerolinecolor\":\"#C8D4E3\",\"gridwidth\":2},\"zaxis\":{\"backgroundcolor\":\"rgb(17,17,17)\",\"gridcolor\":\"#506784\",\"linecolor\":\"#506784\",\"showbackground\":true,\"ticks\":\"\",\"zerolinecolor\":\"#C8D4E3\",\"gridwidth\":2}},\"shapedefaults\":{\"line\":{\"color\":\"#f2f5fa\"}},\"annotationdefaults\":{\"arrowcolor\":\"#f2f5fa\",\"arrowhead\":0,\"arrowwidth\":1},\"geo\":{\"bgcolor\":\"rgb(17,17,17)\",\"landcolor\":\"rgb(17,17,17)\",\"subunitcolor\":\"#506784\",\"showland\":true,\"showlakes\":true,\"lakecolor\":\"rgb(17,17,17)\"},\"title\":{\"x\":0.05},\"updatemenudefaults\":{\"bgcolor\":\"#506784\",\"borderwidth\":0},\"sliderdefaults\":{\"bgcolor\":\"#C8D4E3\",\"borderwidth\":1,\"bordercolor\":\"rgb(17,17,17)\",\"tickwidth\":0},\"mapbox\":{\"style\":\"dark\"}}},\"xaxis\":{\"anchor\":\"y\",\"domain\":[0.0,1.0],\"title\":{\"text\":\"Round #\"}},\"yaxis\":{\"anchor\":\"x\",\"domain\":[0.0,1.0],\"title\":{\"text\":\"Championship Points\"}},\"legend\":{\"title\":{\"text\":\"Driver\"},\"tracegroupgap\":0},\"margin\":{\"t\":60}},                        {\"responsive\": true}                    ).then(function(){\n                            \nvar gd = document.getElementById('18c01ffe-2328-4855-a63f-eed0588f4067');\nvar x = new MutationObserver(function (mutations, observer) {{\n        var display = window.getComputedStyle(gd).display;\n        if (!display || display === 'none') {{\n            console.log([gd, 'removed!']);\n            Plotly.purge(gd);\n            observer.disconnect();\n        }}\n}});\n\n// Listen for the removal of the full notebook cells\nvar notebookContainer = gd.closest('#notebook-container');\nif (notebookContainer) {{\n    x.observe(notebookContainer, {childList: true});\n}}\n\n// Listen for the clearing of the current output cell\nvar outputEl = gd.closest('.output');\nif (outputEl) {{\n    x.observe(outputEl, {childList: true});\n}}\n\n                        })                };                });            </script>        </div>"
     },
     "metadata": {},
     "output_type": "display_data"
    }
   ],
   "source": [
    "fig = px.line(\n",
    "    cummulative_driver_race_results,\n",
    "    labels={'index': 'Round #',\n",
    "            'value': 'Championship Points',\n",
    "            'variable': 'Driver'},\n",
    "    markers=True\n",
    ")\n",
    "\n",
    "show(fig)"
   ],
   "metadata": {
    "collapsed": false,
    "ExecuteTime": {
     "end_time": "2024-09-17T18:15:15.583480400Z",
     "start_time": "2024-09-17T18:15:15.138008200Z"
    }
   },
   "id": "fe196912577dbbb9",
   "execution_count": 104
  },
  {
   "cell_type": "code",
   "outputs": [
    {
     "data": {
      "text/plain": "   position positionText  points  wins constructorId  \\\n0         1            1   476.0     4       mclaren   \n1         2            2   456.0     7      red_bull   \n2         3            3   425.0     3       ferrari   \n3         4            4   309.0     3      mercedes   \n4         5            5    82.0     0  aston_martin   \n5         6            6    34.0     0            rb   \n6         7            7    29.0     0          haas   \n7         8            8    16.0     0      williams   \n8         9            9    13.0     0        alpine   \n9        10           10     0.0     0        sauber   \n\n                                      constructorUrl constructorName  \\\n0               http://en.wikipedia.org/wiki/McLaren         McLaren   \n1       http://en.wikipedia.org/wiki/Red_Bull_Racing        Red Bull   \n2      http://en.wikipedia.org/wiki/Scuderia_Ferrari         Ferrari   \n3  http://en.wikipedia.org/wiki/Mercedes-Benz_in_...        Mercedes   \n4  http://en.wikipedia.org/wiki/Aston_Martin_in_F...    Aston Martin   \n5   http://en.wikipedia.org/wiki/RB_Formula_One_Team      RB F1 Team   \n6          http://en.wikipedia.org/wiki/Haas_F1_Team    Haas F1 Team   \n7  http://en.wikipedia.org/wiki/Williams_Grand_Pr...        Williams   \n8        http://en.wikipedia.org/wiki/Alpine_F1_Team  Alpine F1 Team   \n9     http://en.wikipedia.org/wiki/Sauber_Motorsport          Sauber   \n\n  constructorNationality  \n0                British  \n1               Austrian  \n2                Italian  \n3                 German  \n4                British  \n5                Italian  \n6               American  \n7                British  \n8                 French  \n9                  Swiss  ",
      "text/html": "<div>\n<style scoped>\n    .dataframe tbody tr th:only-of-type {\n        vertical-align: middle;\n    }\n\n    .dataframe tbody tr th {\n        vertical-align: top;\n    }\n\n    .dataframe thead th {\n        text-align: right;\n    }\n</style>\n<table border=\"1\" class=\"dataframe\">\n  <thead>\n    <tr style=\"text-align: right;\">\n      <th></th>\n      <th>position</th>\n      <th>positionText</th>\n      <th>points</th>\n      <th>wins</th>\n      <th>constructorId</th>\n      <th>constructorUrl</th>\n      <th>constructorName</th>\n      <th>constructorNationality</th>\n    </tr>\n  </thead>\n  <tbody>\n    <tr>\n      <th>0</th>\n      <td>1</td>\n      <td>1</td>\n      <td>476.0</td>\n      <td>4</td>\n      <td>mclaren</td>\n      <td>http://en.wikipedia.org/wiki/McLaren</td>\n      <td>McLaren</td>\n      <td>British</td>\n    </tr>\n    <tr>\n      <th>1</th>\n      <td>2</td>\n      <td>2</td>\n      <td>456.0</td>\n      <td>7</td>\n      <td>red_bull</td>\n      <td>http://en.wikipedia.org/wiki/Red_Bull_Racing</td>\n      <td>Red Bull</td>\n      <td>Austrian</td>\n    </tr>\n    <tr>\n      <th>2</th>\n      <td>3</td>\n      <td>3</td>\n      <td>425.0</td>\n      <td>3</td>\n      <td>ferrari</td>\n      <td>http://en.wikipedia.org/wiki/Scuderia_Ferrari</td>\n      <td>Ferrari</td>\n      <td>Italian</td>\n    </tr>\n    <tr>\n      <th>3</th>\n      <td>4</td>\n      <td>4</td>\n      <td>309.0</td>\n      <td>3</td>\n      <td>mercedes</td>\n      <td>http://en.wikipedia.org/wiki/Mercedes-Benz_in_...</td>\n      <td>Mercedes</td>\n      <td>German</td>\n    </tr>\n    <tr>\n      <th>4</th>\n      <td>5</td>\n      <td>5</td>\n      <td>82.0</td>\n      <td>0</td>\n      <td>aston_martin</td>\n      <td>http://en.wikipedia.org/wiki/Aston_Martin_in_F...</td>\n      <td>Aston Martin</td>\n      <td>British</td>\n    </tr>\n    <tr>\n      <th>5</th>\n      <td>6</td>\n      <td>6</td>\n      <td>34.0</td>\n      <td>0</td>\n      <td>rb</td>\n      <td>http://en.wikipedia.org/wiki/RB_Formula_One_Team</td>\n      <td>RB F1 Team</td>\n      <td>Italian</td>\n    </tr>\n    <tr>\n      <th>6</th>\n      <td>7</td>\n      <td>7</td>\n      <td>29.0</td>\n      <td>0</td>\n      <td>haas</td>\n      <td>http://en.wikipedia.org/wiki/Haas_F1_Team</td>\n      <td>Haas F1 Team</td>\n      <td>American</td>\n    </tr>\n    <tr>\n      <th>7</th>\n      <td>8</td>\n      <td>8</td>\n      <td>16.0</td>\n      <td>0</td>\n      <td>williams</td>\n      <td>http://en.wikipedia.org/wiki/Williams_Grand_Pr...</td>\n      <td>Williams</td>\n      <td>British</td>\n    </tr>\n    <tr>\n      <th>8</th>\n      <td>9</td>\n      <td>9</td>\n      <td>13.0</td>\n      <td>0</td>\n      <td>alpine</td>\n      <td>http://en.wikipedia.org/wiki/Alpine_F1_Team</td>\n      <td>Alpine F1 Team</td>\n      <td>French</td>\n    </tr>\n    <tr>\n      <th>9</th>\n      <td>10</td>\n      <td>10</td>\n      <td>0.0</td>\n      <td>0</td>\n      <td>sauber</td>\n      <td>http://en.wikipedia.org/wiki/Sauber_Motorsport</td>\n      <td>Sauber</td>\n      <td>Swiss</td>\n    </tr>\n  </tbody>\n</table>\n</div>"
     },
     "execution_count": 103,
     "metadata": {},
     "output_type": "execute_result"
    }
   ],
   "source": [
    "curr_race_results = ergast.get_constructor_standings(season=2024, round=17)\n",
    "\n",
    "curr_race_results.content[0]"
   ],
   "metadata": {
    "collapsed": false,
    "ExecuteTime": {
     "end_time": "2024-09-17T16:37:10.219421400Z",
     "start_time": "2024-09-17T16:37:08.664925100Z"
    }
   },
   "id": "5243a266da3620ea",
   "execution_count": 103
  },
  {
   "cell_type": "code",
   "outputs": [],
   "source": [],
   "metadata": {
    "collapsed": false
   },
   "id": "6960ab7faebb305b"
  }
 ],
 "metadata": {
  "kernelspec": {
   "display_name": "Python 3",
   "language": "python",
   "name": "python3"
  },
  "language_info": {
   "codemirror_mode": {
    "name": "ipython",
    "version": 2
   },
   "file_extension": ".py",
   "mimetype": "text/x-python",
   "name": "python",
   "nbconvert_exporter": "python",
   "pygments_lexer": "ipython2",
   "version": "2.7.6"
  }
 },
 "nbformat": 4,
 "nbformat_minor": 5
}
